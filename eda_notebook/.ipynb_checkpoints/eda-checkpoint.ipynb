{
 "cells": [
  {
   "cell_type": "markdown",
   "metadata": {
    "pycharm": {
     "name": "#%% md\n"
    }
   },
   "source": [
    "# 1. Install and import require packages for EDA"
   ]
  },
  {
   "cell_type": "code",
   "execution_count": 348,
   "metadata": {
    "pycharm": {
     "is_executing": true,
     "name": "#%%\n"
    }
   },
   "outputs": [
    {
     "name": "stdout",
     "output_type": "stream",
     "text": [
      "Requirement already satisfied: pandas in c:\\users\\ad\\pycharmprojects\\rs\\venv\\lib\\site-packages (2.0.2)\n",
      "Requirement already satisfied: numpy>=1.20.3 in c:\\users\\ad\\pycharmprojects\\rs\\venv\\lib\\site-packages (from pandas) (1.24.3)\n",
      "Requirement already satisfied: tzdata>=2022.1 in c:\\users\\ad\\pycharmprojects\\rs\\venv\\lib\\site-packages (from pandas) (2023.3)\n",
      "Requirement already satisfied: pytz>=2020.1 in c:\\users\\ad\\pycharmprojects\\rs\\venv\\lib\\site-packages (from pandas) (2023.3)\n",
      "Requirement already satisfied: python-dateutil>=2.8.2 in c:\\users\\ad\\pycharmprojects\\rs\\venv\\lib\\site-packages (from pandas) (2.8.2)\n",
      "Requirement already satisfied: six>=1.5 in c:\\users\\ad\\pycharmprojects\\rs\\venv\\lib\\site-packages (from python-dateutil>=2.8.2->pandas) (1.16.0)\n"
     ]
    },
    {
     "name": "stderr",
     "output_type": "stream",
     "text": [
      "WARNING: You are using pip version 21.3.1; however, version 23.1.2 is available.\n",
      "You should consider upgrading via the 'C:\\Users\\ad\\PycharmProjects\\RS\\venv\\Scripts\\python.exe -m pip install --upgrade pip' command.\n"
     ]
    },
    {
     "name": "stdout",
     "output_type": "stream",
     "text": [
      "Requirement already satisfied: country_converter in c:\\users\\ad\\pycharmprojects\\rs\\venv\\lib\\site-packages (1.0.0)\n",
      "Requirement already satisfied: pandas>=1.0 in c:\\users\\ad\\pycharmprojects\\rs\\venv\\lib\\site-packages (from country_converter) (2.0.2)\n",
      "Requirement already satisfied: numpy>=1.20.3 in c:\\users\\ad\\pycharmprojects\\rs\\venv\\lib\\site-packages (from pandas>=1.0->country_converter) (1.24.3)\n",
      "Requirement already satisfied: python-dateutil>=2.8.2 in c:\\users\\ad\\pycharmprojects\\rs\\venv\\lib\\site-packages (from pandas>=1.0->country_converter) (2.8.2)\n",
      "Requirement already satisfied: tzdata>=2022.1 in c:\\users\\ad\\pycharmprojects\\rs\\venv\\lib\\site-packages (from pandas>=1.0->country_converter) (2023.3)\n",
      "Requirement already satisfied: pytz>=2020.1 in c:\\users\\ad\\pycharmprojects\\rs\\venv\\lib\\site-packages (from pandas>=1.0->country_converter) (2023.3)\n",
      "Requirement already satisfied: six>=1.5 in c:\\users\\ad\\pycharmprojects\\rs\\venv\\lib\\site-packages (from python-dateutil>=2.8.2->pandas>=1.0->country_converter) (1.16.0)\n"
     ]
    },
    {
     "name": "stderr",
     "output_type": "stream",
     "text": [
      "WARNING: You are using pip version 21.3.1; however, version 23.1.2 is available.\n",
      "You should consider upgrading via the 'C:\\Users\\ad\\PycharmProjects\\RS\\venv\\Scripts\\python.exe -m pip install --upgrade pip' command.\n"
     ]
    },
    {
     "name": "stdout",
     "output_type": "stream",
     "text": [
      "Requirement already satisfied: plotly in c:\\users\\ad\\pycharmprojects\\rs\\venv\\lib\\site-packages (5.15.0)\n",
      "Requirement already satisfied: packaging in c:\\users\\ad\\pycharmprojects\\rs\\venv\\lib\\site-packages (from plotly) (23.1)\n",
      "Requirement already satisfied: tenacity>=6.2.0 in c:\\users\\ad\\pycharmprojects\\rs\\venv\\lib\\site-packages (from plotly) (8.2.2)\n"
     ]
    },
    {
     "name": "stderr",
     "output_type": "stream",
     "text": [
      "WARNING: You are using pip version 21.3.1; however, version 23.1.2 is available.\n",
      "You should consider upgrading via the 'C:\\Users\\ad\\PycharmProjects\\RS\\venv\\Scripts\\python.exe -m pip install --upgrade pip' command.\n"
     ]
    },
    {
     "name": "stdout",
     "output_type": "stream",
     "text": [
      "Requirement already satisfied: matplotlib in c:\\users\\ad\\pycharmprojects\\rs\\venv\\lib\\site-packages (3.7.1)\n",
      "Requirement already satisfied: pyparsing>=2.3.1 in c:\\users\\ad\\pycharmprojects\\rs\\venv\\lib\\site-packages (from matplotlib) (3.0.9)\n",
      "Requirement already satisfied: cycler>=0.10 in c:\\users\\ad\\pycharmprojects\\rs\\venv\\lib\\site-packages (from matplotlib) (0.11.0)\n",
      "Requirement already satisfied: pillow>=6.2.0 in c:\\users\\ad\\pycharmprojects\\rs\\venv\\lib\\site-packages (from matplotlib) (9.5.0)\n",
      "Requirement already satisfied: python-dateutil>=2.7 in c:\\users\\ad\\pycharmprojects\\rs\\venv\\lib\\site-packages (from matplotlib) (2.8.2)\n",
      "Requirement already satisfied: importlib-resources>=3.2.0 in c:\\users\\ad\\pycharmprojects\\rs\\venv\\lib\\site-packages (from matplotlib) (5.12.0)\n",
      "Requirement already satisfied: packaging>=20.0 in c:\\users\\ad\\pycharmprojects\\rs\\venv\\lib\\site-packages (from matplotlib) (23.1)\n",
      "Requirement already satisfied: numpy>=1.20 in c:\\users\\ad\\pycharmprojects\\rs\\venv\\lib\\site-packages (from matplotlib) (1.24.3)\n",
      "Requirement already satisfied: fonttools>=4.22.0 in c:\\users\\ad\\pycharmprojects\\rs\\venv\\lib\\site-packages (from matplotlib) (4.39.4)\n",
      "Requirement already satisfied: contourpy>=1.0.1 in c:\\users\\ad\\pycharmprojects\\rs\\venv\\lib\\site-packages (from matplotlib) (1.0.7)\n",
      "Requirement already satisfied: kiwisolver>=1.0.1 in c:\\users\\ad\\pycharmprojects\\rs\\venv\\lib\\site-packages (from matplotlib) (1.4.4)\n",
      "Requirement already satisfied: zipp>=3.1.0 in c:\\users\\ad\\pycharmprojects\\rs\\venv\\lib\\site-packages (from importlib-resources>=3.2.0->matplotlib) (3.15.0)\n",
      "Requirement already satisfied: six>=1.5 in c:\\users\\ad\\pycharmprojects\\rs\\venv\\lib\\site-packages (from python-dateutil>=2.7->matplotlib) (1.16.0)\n"
     ]
    },
    {
     "name": "stderr",
     "output_type": "stream",
     "text": [
      "WARNING: You are using pip version 21.3.1; however, version 23.1.2 is available.\n",
      "You should consider upgrading via the 'C:\\Users\\ad\\PycharmProjects\\RS\\venv\\Scripts\\python.exe -m pip install --upgrade pip' command.\n"
     ]
    },
    {
     "name": "stdout",
     "output_type": "stream",
     "text": [
      "Requirement already satisfied: seaborn in c:\\users\\ad\\pycharmprojects\\rs\\venv\\lib\\site-packages (0.12.2)\n",
      "Requirement already satisfied: matplotlib!=3.6.1,>=3.1 in c:\\users\\ad\\pycharmprojects\\rs\\venv\\lib\\site-packages (from seaborn) (3.7.1)\n",
      "Requirement already satisfied: pandas>=0.25 in c:\\users\\ad\\pycharmprojects\\rs\\venv\\lib\\site-packages (from seaborn) (2.0.2)\n",
      "Requirement already satisfied: numpy!=1.24.0,>=1.17 in c:\\users\\ad\\pycharmprojects\\rs\\venv\\lib\\site-packages (from seaborn) (1.24.3)\n",
      "Requirement already satisfied: contourpy>=1.0.1 in c:\\users\\ad\\pycharmprojects\\rs\\venv\\lib\\site-packages (from matplotlib!=3.6.1,>=3.1->seaborn) (1.0.7)\n",
      "Requirement already satisfied: kiwisolver>=1.0.1 in c:\\users\\ad\\pycharmprojects\\rs\\venv\\lib\\site-packages (from matplotlib!=3.6.1,>=3.1->seaborn) (1.4.4)\n",
      "Requirement already satisfied: importlib-resources>=3.2.0 in c:\\users\\ad\\pycharmprojects\\rs\\venv\\lib\\site-packages (from matplotlib!=3.6.1,>=3.1->seaborn) (5.12.0)\n",
      "Requirement already satisfied: cycler>=0.10 in c:\\users\\ad\\pycharmprojects\\rs\\venv\\lib\\site-packages (from matplotlib!=3.6.1,>=3.1->seaborn) (0.11.0)\n",
      "Requirement already satisfied: fonttools>=4.22.0 in c:\\users\\ad\\pycharmprojects\\rs\\venv\\lib\\site-packages (from matplotlib!=3.6.1,>=3.1->seaborn) (4.39.4)\n",
      "Requirement already satisfied: python-dateutil>=2.7 in c:\\users\\ad\\pycharmprojects\\rs\\venv\\lib\\site-packages (from matplotlib!=3.6.1,>=3.1->seaborn) (2.8.2)\n",
      "Requirement already satisfied: pillow>=6.2.0 in c:\\users\\ad\\pycharmprojects\\rs\\venv\\lib\\site-packages (from matplotlib!=3.6.1,>=3.1->seaborn) (9.5.0)\n",
      "Requirement already satisfied: packaging>=20.0 in c:\\users\\ad\\pycharmprojects\\rs\\venv\\lib\\site-packages (from matplotlib!=3.6.1,>=3.1->seaborn) (23.1)\n",
      "Requirement already satisfied: pyparsing>=2.3.1 in c:\\users\\ad\\pycharmprojects\\rs\\venv\\lib\\site-packages (from matplotlib!=3.6.1,>=3.1->seaborn) (3.0.9)\n",
      "Requirement already satisfied: pytz>=2020.1 in c:\\users\\ad\\pycharmprojects\\rs\\venv\\lib\\site-packages (from pandas>=0.25->seaborn) (2023.3)\n",
      "Requirement already satisfied: tzdata>=2022.1 in c:\\users\\ad\\pycharmprojects\\rs\\venv\\lib\\site-packages (from pandas>=0.25->seaborn) (2023.3)\n",
      "Requirement already satisfied: zipp>=3.1.0 in c:\\users\\ad\\pycharmprojects\\rs\\venv\\lib\\site-packages (from importlib-resources>=3.2.0->matplotlib!=3.6.1,>=3.1->seaborn) (3.15.0)\n",
      "Requirement already satisfied: six>=1.5 in c:\\users\\ad\\pycharmprojects\\rs\\venv\\lib\\site-packages (from python-dateutil>=2.7->matplotlib!=3.6.1,>=3.1->seaborn) (1.16.0)\n"
     ]
    },
    {
     "name": "stderr",
     "output_type": "stream",
     "text": [
      "WARNING: You are using pip version 21.3.1; however, version 23.1.2 is available.\n",
      "You should consider upgrading via the 'C:\\Users\\ad\\PycharmProjects\\RS\\venv\\Scripts\\python.exe -m pip install --upgrade pip' command.\n"
     ]
    }
   ],
   "source": [
    "# install require packages\n",
    "!pip install pandas\n",
    "!pip install country_converter\n",
    "!pip install plotly\n",
    "!pip install matplotlib\n",
    "!pip install seaborn"
   ]
  },
  {
   "cell_type": "code",
   "execution_count": 349,
   "metadata": {
    "pycharm": {
     "name": "#%%\n"
    }
   },
   "outputs": [],
   "source": [
    "# import require packages\n",
    "\n",
    "import pandas as pd\n",
    "import numpy as np\n",
    "import country_converter as coco\n",
    "import plotly.express as px\n",
    "import matplotlib.pyplot as plt\n",
    "import seaborn as sns"
   ]
  },
  {
   "cell_type": "markdown",
   "metadata": {
    "pycharm": {
     "name": "#%% md\n"
    }
   },
   "source": [
    "# 2. Load dataset as dataframes"
   ]
  },
  {
   "cell_type": "code",
   "execution_count": 350,
   "metadata": {
    "pycharm": {
     "name": "#%%\n"
    }
   },
   "outputs": [],
   "source": [
    "# data paths\n",
    "book_hist_path = '../book_crossing/book_history.dat'\n",
    "book_rate_path = '../book_crossing/book_ratings.dat'\n",
    "items_info_path = '../book_crossing/items_info.dat'\n",
    "users_info_path = '../book_crossing/users_info.dat'"
   ]
  },
  {
   "cell_type": "code",
   "execution_count": 351,
   "metadata": {
    "pycharm": {
     "name": "#%%\n"
    }
   },
   "outputs": [
    {
     "name": "stdout",
     "output_type": "stream",
     "text": [
      "      0     1         2\n",
      "0  user  item  accessed\n",
      "1     1   152         1\n",
      "2     1   153         1\n",
      "3     1  2176         1\n",
      "4     1   154         1\n"
     ]
    }
   ],
   "source": [
    "book_hist_df = pd.read_csv(book_hist_path, delimiter='\\t', header=None, low_memory=False, na_values=np.nan)\n",
    "print(book_hist_df.head())"
   ]
  },
  {
   "cell_type": "code",
   "execution_count": 352,
   "metadata": {
    "pycharm": {
     "name": "#%%\n"
    }
   },
   "outputs": [
    {
     "name": "stdout",
     "output_type": "stream",
     "text": [
      "   user  item  rating\n",
      "0     1  6264     7.0\n",
      "1     1  4350     7.0\n",
      "2     1  6252     5.0\n",
      "3     1   202     9.0\n",
      "4     1  6266     6.0\n"
     ]
    }
   ],
   "source": [
    "book_rate_df = pd.read_csv(book_rate_path, delimiter='\\t', low_memory=False)\n",
    "print(book_rate_df.head())"
   ]
  },
  {
   "cell_type": "markdown",
   "metadata": {
    "pycharm": {
     "name": "#%% md\n"
    }
   },
   "source": []
  },
  {
   "cell_type": "code",
   "execution_count": 353,
   "metadata": {
    "pycharm": {
     "name": "#%%\n"
    }
   },
   "outputs": [],
   "source": [
    "user_info_df = pd.read_csv(users_info_path, delimiter='\\t', index_col=None, na_values=np.nan)"
   ]
  },
  {
   "cell_type": "code",
   "execution_count": 354,
   "metadata": {
    "pycharm": {
     "name": "#%%\n"
    }
   },
   "outputs": [
    {
     "name": "stdout",
     "output_type": "stream",
     "text": [
      "Index(['User-ID', 'Location', 'Age'], dtype='object')\n"
     ]
    }
   ],
   "source": [
    "print(user_info_df.columns)"
   ]
  },
  {
   "cell_type": "code",
   "execution_count": 355,
   "metadata": {
    "pycharm": {
     "name": "#%%\n"
    }
   },
   "outputs": [
    {
     "data": {
      "text/html": [
       "<div>\n",
       "<style scoped>\n",
       "    .dataframe tbody tr th:only-of-type {\n",
       "        vertical-align: middle;\n",
       "    }\n",
       "\n",
       "    .dataframe tbody tr th {\n",
       "        vertical-align: top;\n",
       "    }\n",
       "\n",
       "    .dataframe thead th {\n",
       "        text-align: right;\n",
       "    }\n",
       "</style>\n",
       "<table border=\"1\" class=\"dataframe\">\n",
       "  <thead>\n",
       "    <tr style=\"text-align: right;\">\n",
       "      <th></th>\n",
       "      <th>User-ID</th>\n",
       "      <th>Location</th>\n",
       "      <th>Age</th>\n",
       "    </tr>\n",
       "  </thead>\n",
       "  <tbody>\n",
       "    <tr>\n",
       "      <th>0</th>\n",
       "      <td>1</td>\n",
       "      <td>minneapolis, minnesota, usa</td>\n",
       "      <td>24</td>\n",
       "    </tr>\n",
       "    <tr>\n",
       "      <th>1</th>\n",
       "      <td>2</td>\n",
       "      <td>san diego, california, usa</td>\n",
       "      <td>20</td>\n",
       "    </tr>\n",
       "    <tr>\n",
       "      <th>2</th>\n",
       "      <td>3</td>\n",
       "      <td>novinger, missouri, usa</td>\n",
       "      <td>16</td>\n",
       "    </tr>\n",
       "    <tr>\n",
       "      <th>3</th>\n",
       "      <td>4</td>\n",
       "      <td>sonoma, california, usa</td>\n",
       "      <td>34</td>\n",
       "    </tr>\n",
       "    <tr>\n",
       "      <th>4</th>\n",
       "      <td>5</td>\n",
       "      <td>berkeley, california, usa</td>\n",
       "      <td>23</td>\n",
       "    </tr>\n",
       "  </tbody>\n",
       "</table>\n",
       "</div>"
      ],
      "text/plain": [
       "   User-ID                     Location  Age\n",
       "0        1  minneapolis, minnesota, usa   24\n",
       "1        2   san diego, california, usa   20\n",
       "2        3      novinger, missouri, usa   16\n",
       "3        4      sonoma, california, usa   34\n",
       "4        5    berkeley, california, usa   23"
      ]
     },
     "execution_count": 355,
     "metadata": {},
     "output_type": "execute_result"
    }
   ],
   "source": [
    "user_info_df.head()"
   ]
  },
  {
   "cell_type": "code",
   "execution_count": 356,
   "metadata": {
    "pycharm": {
     "name": "#%%\n"
    }
   },
   "outputs": [
    {
     "name": "stdout",
     "output_type": "stream",
     "text": [
      "   Book_ID        ISBN                                         Book-Title  \\\n",
      "0        1  0060973129                               Decision in Normandy   \n",
      "1        2  0393045218                             The Mummies of Urumchi   \n",
      "2        3  0425176428  What If?: The World's Foremost Military Histor...   \n",
      "3        4  0452264464               Beloved (Plume Contemporary Fiction)   \n",
      "4        5  0609804618  Our Dumb Century: The Onion Presents 100 Years...   \n",
      "\n",
      "       Book-Author Year-Of-Publication                  Publisher  \\\n",
      "0     Carlo D'Este                1991            HarperPerennial   \n",
      "1  E. J. W. Barber                1999  W. W. Norton &amp Company   \n",
      "2    Robert Cowley                2000   Berkley Publishing Group   \n",
      "3    Toni Morrison                1994                      Plume   \n",
      "4        The Onion                1999         Three Rivers Press   \n",
      "\n",
      "                                         Image-URL-S  \\\n",
      "0  http://images.amazon.com/images/P/0060973129.0...   \n",
      "1  http://images.amazon.com/images/P/0393045218.0...   \n",
      "2  http://images.amazon.com/images/P/0425176428.0...   \n",
      "3  http://images.amazon.com/images/P/0452264464.0...   \n",
      "4  http://images.amazon.com/images/P/0609804618.0...   \n",
      "\n",
      "                                         Image-URL-M  \\\n",
      "0  http://images.amazon.com/images/P/0060973129.0...   \n",
      "1  http://images.amazon.com/images/P/0393045218.0...   \n",
      "2  http://images.amazon.com/images/P/0425176428.0...   \n",
      "3  http://images.amazon.com/images/P/0452264464.0...   \n",
      "4  http://images.amazon.com/images/P/0609804618.0...   \n",
      "\n",
      "                                         Image-URL-L  \n",
      "0  http://images.amazon.com/images/P/0060973129.0...  \n",
      "1  http://images.amazon.com/images/P/0393045218.0...  \n",
      "2  http://images.amazon.com/images/P/0425176428.0...  \n",
      "3  http://images.amazon.com/images/P/0452264464.0...  \n",
      "4  http://images.amazon.com/images/P/0609804618.0...  \n"
     ]
    }
   ],
   "source": [
    "items_info_df = pd.read_csv(items_info_path, delimiter='\\t')\n",
    "\n",
    "print(items_info_df.head())"
   ]
  },
  {
   "cell_type": "code",
   "execution_count": 357,
   "metadata": {
    "pycharm": {
     "name": "#%%\n"
    }
   },
   "outputs": [
    {
     "name": "stdout",
     "output_type": "stream",
     "text": [
      "Index(['Book_ID', 'ISBN', 'Book-Title', 'Book-Author', 'Year-Of-Publication',\n",
      "       'Publisher', 'Image-URL-S', 'Image-URL-M', 'Image-URL-L'],\n",
      "      dtype='object')\n"
     ]
    }
   ],
   "source": [
    "print(items_info_df.columns)"
   ]
  },
  {
   "cell_type": "markdown",
   "metadata": {
    "pycharm": {
     "name": "#%% md\n"
    }
   },
   "source": [
    "# 3. EDA"
   ]
  },
  {
   "cell_type": "markdown",
   "metadata": {
    "pycharm": {
     "name": "#%% md\n"
    }
   },
   "source": [
    "## 3.1  Exploring USER INFO"
   ]
  },
  {
   "cell_type": "code",
   "execution_count": 358,
   "metadata": {
    "pycharm": {
     "name": "#%%\n"
    }
   },
   "outputs": [
    {
     "name": "stdout",
     "output_type": "stream",
     "text": [
      "(2946, 3)\n",
      "Index(['User-ID', 'Location', 'Age'], dtype='object')\n",
      "   User-ID                     Location  Age\n",
      "0        1  minneapolis, minnesota, usa   24\n",
      "1        2   san diego, california, usa   20\n",
      "2        3      novinger, missouri, usa   16\n",
      "3        4      sonoma, california, usa   34\n",
      "4        5    berkeley, california, usa   23\n"
     ]
    }
   ],
   "source": [
    "# get number of users\n",
    "print(user_info_df.shape)\n",
    "print(user_info_df.columns)\n",
    "print(user_info_df.head())"
   ]
  },
  {
   "cell_type": "markdown",
   "metadata": {
    "pycharm": {
     "name": "#%% md\n"
    }
   },
   "source": [
    "##### >> Total: 2946 users, each user has 3 attributes: 'User-ID', 'Location', 'Age'."
   ]
  },
  {
   "cell_type": "markdown",
   "metadata": {
    "pycharm": {
     "name": "#%% md\n"
    }
   },
   "source": [
    "#### 3.1.1. Explore Age from users info"
   ]
  },
  {
   "cell_type": "code",
   "execution_count": 359,
   "metadata": {},
   "outputs": [
    {
     "data": {
      "image/png": "[encoded data removed]",
      "text/plain": [
       "<Figure size 640x480 with 1 Axes>"
      ]
     },
     "metadata": {},
     "output_type": "display_data"
    }
   ],
   "source": [
    "# Show distribution of use's ages\n",
    "# count age\n",
    "user_counts = user_info_df['Age'].value_counts().sort_index()\n",
    "\n",
    "# get age and user count\n",
    "ages = user_counts.index.tolist()\n",
    "counts = user_counts.values.tolist()\n",
    "\n",
    "# Plot linechart\n",
    "plt.plot(ages, counts)\n",
    "\n",
    "# Set title, labels\n",
    "plt.title(\"Linechart show distribution of user's age\")\n",
    "plt.xlabel(\"Age\")\n",
    "plt.ylabel(\"Count\")\n",
    "\n",
    "plt.show()"
   ]
  },
  {
   "cell_type": "code",
   "execution_count": 360,
   "metadata": {
    "pycharm": {
     "name": "#%%\n"
    }
   },
   "outputs": [
    {
     "name": "stdout",
     "output_type": "stream",
     "text": [
      "[1, 2, 4, 8, 9, 11, 12, 13, 14, 15, 16, 17, 18, 19, 20, 21, 22, 23, 24, 25, 26, 27, 28, 29, 30, 31, 32, 33, 34, 35, 36, 37, 38, 39, 40, 41, 42, 43, 44, 45, 46, 47, 48, 49, 50, 51, 52, 53, 54, 55, 56, 57, 58, 59, 60, 61, 62, 63, 64, 65, 66, 67, 68, 69, 70, 71, 72, 73, 75, 76, 77, 79, 80, 81, 82, 83, 90, 100, 101, 103, 116, 136, 148, 168, 201, 204, 239]\n"
     ]
    }
   ],
   "source": [
    "# Print out age values\n",
    "print(sorted(user_info_df.Age.unique()))"
   ]
  },
  {
   "cell_type": "markdown",
   "metadata": {
    "pycharm": {
     "name": "#%% md\n"
    }
   },
   "source": [
    "##### >> 'Age' columns no have any null values, and have some value very high, more than 100."
   ]
  },
  {
   "cell_type": "markdown",
   "metadata": {
    "pycharm": {
     "name": "#%% md\n"
    }
   },
   "source": [
    "##### // As we see, people who are less than 5 years old or more than 90 years old usually can't rate books much, so in this case we will replace them with nan values."
   ]
  },
  {
   "cell_type": "code",
   "execution_count": 361,
   "metadata": {
    "pycharm": {
     "name": "#%%\n"
    }
   },
   "outputs": [],
   "source": [
    "user_info_df.loc[(user_info_df.Age > 90) | (user_info_df.Age < 5), 'Age'] = np.nan"
   ]
  },
  {
   "cell_type": "code",
   "execution_count": 362,
   "metadata": {
    "pycharm": {
     "name": "#%%\n"
    }
   },
   "outputs": [
    {
     "name": "stdout",
     "output_type": "stream",
     "text": [
      "Empty DataFrame\n",
      "Columns: [User-ID, Location, Age]\n",
      "Index: []\n"
     ]
    }
   ],
   "source": [
    "print(user_info_df[(user_info_df.Age > 90) | (user_info_df.Age < 5)])"
   ]
  },
  {
   "cell_type": "code",
   "execution_count": 363,
   "metadata": {
    "pycharm": {
     "name": "#%%\n"
    }
   },
   "outputs": [
    {
     "name": "stdout",
     "output_type": "stream",
     "text": [
      "Empty DataFrame\n",
      "Columns: [User-ID, Location, Age]\n",
      "Index: []\n"
     ]
    }
   ],
   "source": [
    "print(user_info_df[user_info_df['Age'] == np.nan])"
   ]
  },
  {
   "cell_type": "markdown",
   "metadata": {
    "pycharm": {
     "name": "#%% md\n"
    }
   },
   "source": [
    "##### Replace nan values in Age column with mean()"
   ]
  },
  {
   "cell_type": "code",
   "execution_count": 364,
   "metadata": {
    "pycharm": {
     "name": "#%%\n"
    }
   },
   "outputs": [],
   "source": [
    "user_info_df['Age'] = user_info_df['Age'].fillna(user_info_df['Age'].mean())"
   ]
  },
  {
   "cell_type": "code",
   "execution_count": 365,
   "metadata": {
    "pycharm": {
     "name": "#%%\n"
    }
   },
   "outputs": [
    {
     "data": {
      "text/html": [
       "<div>\n",
       "<style scoped>\n",
       "    .dataframe tbody tr th:only-of-type {\n",
       "        vertical-align: middle;\n",
       "    }\n",
       "\n",
       "    .dataframe tbody tr th {\n",
       "        vertical-align: top;\n",
       "    }\n",
       "\n",
       "    .dataframe thead th {\n",
       "        text-align: right;\n",
       "    }\n",
       "</style>\n",
       "<table border=\"1\" class=\"dataframe\">\n",
       "  <thead>\n",
       "    <tr style=\"text-align: right;\">\n",
       "      <th></th>\n",
       "      <th>User-ID</th>\n",
       "      <th>Location</th>\n",
       "      <th>Age</th>\n",
       "    </tr>\n",
       "  </thead>\n",
       "  <tbody>\n",
       "    <tr>\n",
       "      <th>0</th>\n",
       "      <td>1</td>\n",
       "      <td>minneapolis, minnesota, usa</td>\n",
       "      <td>24.0</td>\n",
       "    </tr>\n",
       "    <tr>\n",
       "      <th>1</th>\n",
       "      <td>2</td>\n",
       "      <td>san diego, california, usa</td>\n",
       "      <td>20.0</td>\n",
       "    </tr>\n",
       "    <tr>\n",
       "      <th>2</th>\n",
       "      <td>3</td>\n",
       "      <td>novinger, missouri, usa</td>\n",
       "      <td>16.0</td>\n",
       "    </tr>\n",
       "    <tr>\n",
       "      <th>3</th>\n",
       "      <td>4</td>\n",
       "      <td>sonoma, california, usa</td>\n",
       "      <td>34.0</td>\n",
       "    </tr>\n",
       "    <tr>\n",
       "      <th>4</th>\n",
       "      <td>5</td>\n",
       "      <td>berkeley, california, usa</td>\n",
       "      <td>23.0</td>\n",
       "    </tr>\n",
       "  </tbody>\n",
       "</table>\n",
       "</div>"
      ],
      "text/plain": [
       "   User-ID                     Location   Age\n",
       "0        1  minneapolis, minnesota, usa  24.0\n",
       "1        2   san diego, california, usa  20.0\n",
       "2        3      novinger, missouri, usa  16.0\n",
       "3        4      sonoma, california, usa  34.0\n",
       "4        5    berkeley, california, usa  23.0"
      ]
     },
     "execution_count": 365,
     "metadata": {},
     "output_type": "execute_result"
    }
   ],
   "source": [
    "user_info_df.head()"
   ]
  },
  {
   "cell_type": "code",
   "execution_count": 366,
   "metadata": {
    "pycharm": {
     "name": "#%%\n"
    }
   },
   "outputs": [],
   "source": [
    "# convert type 'Age' to integer\n",
    "user_info_df['Age'] = user_info_df['Age'].astype(int)"
   ]
  },
  {
   "cell_type": "code",
   "execution_count": 367,
   "metadata": {
    "pycharm": {
     "name": "#%%\n"
    }
   },
   "outputs": [
    {
     "data": {
      "text/html": [
       "<div>\n",
       "<style scoped>\n",
       "    .dataframe tbody tr th:only-of-type {\n",
       "        vertical-align: middle;\n",
       "    }\n",
       "\n",
       "    .dataframe tbody tr th {\n",
       "        vertical-align: top;\n",
       "    }\n",
       "\n",
       "    .dataframe thead th {\n",
       "        text-align: right;\n",
       "    }\n",
       "</style>\n",
       "<table border=\"1\" class=\"dataframe\">\n",
       "  <thead>\n",
       "    <tr style=\"text-align: right;\">\n",
       "      <th></th>\n",
       "      <th>User-ID</th>\n",
       "      <th>Location</th>\n",
       "      <th>Age</th>\n",
       "    </tr>\n",
       "  </thead>\n",
       "  <tbody>\n",
       "    <tr>\n",
       "      <th>0</th>\n",
       "      <td>1</td>\n",
       "      <td>minneapolis, minnesota, usa</td>\n",
       "      <td>24</td>\n",
       "    </tr>\n",
       "    <tr>\n",
       "      <th>1</th>\n",
       "      <td>2</td>\n",
       "      <td>san diego, california, usa</td>\n",
       "      <td>20</td>\n",
       "    </tr>\n",
       "    <tr>\n",
       "      <th>2</th>\n",
       "      <td>3</td>\n",
       "      <td>novinger, missouri, usa</td>\n",
       "      <td>16</td>\n",
       "    </tr>\n",
       "    <tr>\n",
       "      <th>3</th>\n",
       "      <td>4</td>\n",
       "      <td>sonoma, california, usa</td>\n",
       "      <td>34</td>\n",
       "    </tr>\n",
       "    <tr>\n",
       "      <th>4</th>\n",
       "      <td>5</td>\n",
       "      <td>berkeley, california, usa</td>\n",
       "      <td>23</td>\n",
       "    </tr>\n",
       "  </tbody>\n",
       "</table>\n",
       "</div>"
      ],
      "text/plain": [
       "   User-ID                     Location  Age\n",
       "0        1  minneapolis, minnesota, usa   24\n",
       "1        2   san diego, california, usa   20\n",
       "2        3      novinger, missouri, usa   16\n",
       "3        4      sonoma, california, usa   34\n",
       "4        5    berkeley, california, usa   23"
      ]
     },
     "execution_count": 367,
     "metadata": {},
     "output_type": "execute_result"
    }
   ],
   "source": [
    "user_info_df.head()"
   ]
  },
  {
   "cell_type": "markdown",
   "metadata": {
    "pycharm": {
     "name": "#%% md\n"
    }
   },
   "source": [
    "#### 3.1.2. Explore User's Location"
   ]
  },
  {
   "cell_type": "code",
   "execution_count": 368,
   "metadata": {
    "pycharm": {
     "name": "#%%\n"
    }
   },
   "outputs": [],
   "source": [
    "# explore countries from location\n",
    "countries = []\n",
    "user_info_df['Country'] = user_info_df['Location'].apply(lambda x: x.split(',')[-1])\n",
    "# countries.append(add[-1] for add in addresses)"
   ]
  },
  {
   "cell_type": "code",
   "execution_count": 369,
   "metadata": {
    "pycharm": {
     "name": "#%%\n"
    }
   },
   "outputs": [
    {
     "name": "stdout",
     "output_type": "stream",
     "text": [
      "   User-ID                     Location  Age Country\n",
      "0        1  minneapolis, minnesota, usa   24     usa\n",
      "1        2   san diego, california, usa   20     usa\n",
      "2        3      novinger, missouri, usa   16     usa\n",
      "3        4      sonoma, california, usa   34     usa\n",
      "4        5    berkeley, california, usa   23     usa\n"
     ]
    }
   ],
   "source": [
    "print(user_info_df.head())"
   ]
  },
  {
   "cell_type": "code",
   "execution_count": 370,
   "metadata": {
    "pycharm": {
     "name": "#%%\n"
    }
   },
   "outputs": [
    {
     "name": "stdout",
     "output_type": "stream",
     "text": [
      "We have total: 1799 locations\n",
      "We have total: 48 countries\n"
     ]
    }
   ],
   "source": [
    "# print out all location from all users\n",
    "locations = sorted(user_info_df.Location.unique())\n",
    "countries = sorted(user_info_df.Country.unique())\n",
    "\n",
    "print(f'We have total: {len(locations)} locations')\n",
    "print(f'We have total: {len(countries)} countries')"
   ]
  },
  {
   "cell_type": "markdown",
   "metadata": {
    "pycharm": {
     "name": "#%% md\n"
    }
   },
   "source": [
    "##### >> So, we have 1799 unique locations from 2946 users in dataset"
   ]
  },
  {
   "cell_type": "code",
   "execution_count": 371,
   "metadata": {
    "pycharm": {
     "name": "#%%\n"
    }
   },
   "outputs": [
    {
     "name": "stdout",
     "output_type": "stream",
     "text": [
      "Country\n",
      " usa                    2128\n",
      " canada                  284\n",
      " united kingdom          113\n",
      "                          72\n",
      " australia                54\n",
      " germany                  49\n",
      " portugal                 35\n",
      " spain                    33\n",
      " france                   31\n",
      " malaysia                 24\n",
      " netherlands              22\n",
      " austria                  10\n",
      " finland                   9\n",
      " switzerland               8\n",
      " romania                   6\n",
      " new zealand               6\n",
      " singapore                 5\n",
      " philippines               5\n",
      " iran                      5\n",
      " brazil                    4\n",
      " japan                     4\n",
      " italy                     3\n",
      " ireland                   3\n",
      " denmark                   3\n",
      " qatar                     2\n",
      " china                     2\n",
      " belgium                   2\n",
      " dominican republic        2\n",
      " norway                    2\n",
      " poland                    2\n",
      " united state              1\n",
      " czech republic            1\n",
      " sweden                    1\n",
      " phillipines               1\n",
      " cyprus                    1\n",
      " egypt                     1\n",
      " iceland                   1\n",
      " south africa              1\n",
      " universe                  1\n",
      " russia                    1\n",
      " bulgaria                  1\n",
      " far away...               1\n",
      " taiwan                    1\n",
      " kuwait                    1\n",
      " united states             1\n",
      " burma                     1\n",
      " hong kong                 1\n",
      " trinidad and tobago       1\n",
      "Name: count, dtype: int64\n"
     ]
    }
   ],
   "source": [
    "print(user_info_df['Country'].value_counts())"
   ]
  },
  {
   "cell_type": "markdown",
   "metadata": {
    "pycharm": {
     "name": "#%% md\n"
    }
   },
   "source": [
    "#### As we see, top 3 countries has most book reviewers: usa (2128), canada (284), united kingdom(113)."
   ]
  },
  {
   "cell_type": "code",
   "execution_count": 372,
   "metadata": {
    "pycharm": {
     "name": "#%%\n"
    }
   },
   "outputs": [
    {
     "name": "stdout",
     "output_type": "stream",
     "text": [
      "      User-ID                    Location  Age Country\n",
      "5           6          king of prussia, ,   36        \n",
      "6           7                 berkeley, ,   22        \n",
      "40         41        lakeland, tennessee,   60        \n",
      "83         84              murphysboro, ,   37        \n",
      "178       179  manchester, new hampshire,   51        \n",
      "...       ...                         ...  ...     ...\n",
      "2739     2740        ray, michigan usa, ,   45        \n",
      "2761     2762                  molalla, ,   45        \n",
      "2871     2872                     reno, ,   29        \n",
      "2893     2894                     arco, ,   51        \n",
      "2895     2896            coconut grove, ,   71        \n",
      "\n",
      "[72 rows x 4 columns]\n"
     ]
    }
   ],
   "source": [
    "print(user_info_df[user_info_df['Country']==''])"
   ]
  },
  {
   "cell_type": "markdown",
   "metadata": {
    "pycharm": {
     "name": "#%% md\n"
    }
   },
   "source": [
    "##### And has 72 people who we miss about their country name"
   ]
  },
  {
   "cell_type": "code",
   "execution_count": 373,
   "metadata": {
    "pycharm": {
     "name": "#%%\n"
    }
   },
   "outputs": [
    {
     "name": "stderr",
     "output_type": "stream",
     "text": [
      " usa not found in regex\n",
      " usa not found in regex\n",
      " usa not found in regex\n",
      " usa not found in regex\n",
      " usa not found in regex\n",
      " not found in regex\n",
      " not found in regex\n",
      " usa not found in regex\n",
      " usa not found in regex\n",
      " usa not found in regex\n",
      " usa not found in regex\n",
      " usa not found in regex\n",
      " usa not found in regex\n",
      " usa not found in regex\n",
      " usa not found in regex\n",
      " usa not found in regex\n",
      " usa not found in regex\n",
      " usa not found in regex\n",
      " usa not found in regex\n",
      " usa not found in regex\n",
      " usa not found in regex\n",
      " usa not found in regex\n",
      " usa not found in regex\n",
      " usa not found in regex\n",
      " usa not found in regex\n",
      " usa not found in regex\n",
      " usa not found in regex\n",
      " usa not found in regex\n",
      " usa not found in regex\n",
      " usa not found in regex\n",
      " usa not found in regex\n",
      " usa not found in regex\n",
      " usa not found in regex\n",
      " usa not found in regex\n",
      " usa not found in regex\n",
      " not found in regex\n",
      " usa not found in regex\n",
      " usa not found in regex\n",
      " usa not found in regex\n",
      " usa not found in regex\n",
      " usa not found in regex\n",
      " usa not found in regex\n",
      " usa not found in regex\n",
      " usa not found in regex\n",
      " usa not found in regex\n",
      " usa not found in regex\n",
      " usa not found in regex\n",
      " usa not found in regex\n",
      " usa not found in regex\n",
      " usa not found in regex\n",
      " usa not found in regex\n",
      " usa not found in regex\n",
      " usa not found in regex\n",
      " usa not found in regex\n",
      " usa not found in regex\n",
      " usa not found in regex\n",
      " usa not found in regex\n",
      " usa not found in regex\n",
      " usa not found in regex\n",
      " usa not found in regex\n",
      " usa not found in regex\n",
      " usa not found in regex\n",
      " usa not found in regex\n",
      " usa not found in regex\n",
      " usa not found in regex\n",
      " usa not found in regex\n",
      " usa not found in regex\n",
      " usa not found in regex\n",
      " usa not found in regex\n",
      " usa not found in regex\n",
      " usa not found in regex\n",
      " not found in regex\n",
      " usa not found in regex\n",
      " usa not found in regex\n",
      " usa not found in regex\n",
      " usa not found in regex\n",
      " usa not found in regex\n",
      " usa not found in regex\n",
      " usa not found in regex\n",
      " usa not found in regex\n",
      " usa not found in regex\n",
      " usa not found in regex\n",
      " usa not found in regex\n",
      " usa not found in regex\n",
      " usa not found in regex\n",
      " usa not found in regex\n",
      " usa not found in regex\n",
      " usa not found in regex\n",
      " usa not found in regex\n",
      " usa not found in regex\n",
      " usa not found in regex\n",
      " usa not found in regex\n",
      " usa not found in regex\n",
      " usa not found in regex\n",
      " usa not found in regex\n",
      " usa not found in regex\n",
      " usa not found in regex\n",
      " usa not found in regex\n",
      " usa not found in regex\n",
      " usa not found in regex\n",
      " usa not found in regex\n",
      " usa not found in regex\n",
      " usa not found in regex\n",
      " usa not found in regex\n",
      " usa not found in regex\n",
      " usa not found in regex\n",
      " usa not found in regex\n",
      " usa not found in regex\n",
      " usa not found in regex\n",
      " usa not found in regex\n",
      " usa not found in regex\n",
      " usa not found in regex\n",
      " usa not found in regex\n",
      " usa not found in regex\n",
      " usa not found in regex\n",
      " usa not found in regex\n",
      " usa not found in regex\n",
      " usa not found in regex\n",
      " usa not found in regex\n",
      " usa not found in regex\n",
      " usa not found in regex\n",
      " usa not found in regex\n",
      " usa not found in regex\n",
      " usa not found in regex\n",
      " usa not found in regex\n",
      " usa not found in regex\n",
      " usa not found in regex\n",
      " usa not found in regex\n",
      " usa not found in regex\n",
      " usa not found in regex\n",
      " usa not found in regex\n",
      " usa not found in regex\n",
      " usa not found in regex\n",
      " usa not found in regex\n",
      " usa not found in regex\n",
      " usa not found in regex\n",
      " not found in regex\n",
      " usa not found in regex\n",
      " usa not found in regex\n",
      " usa not found in regex\n",
      " usa not found in regex\n",
      " usa not found in regex\n",
      " usa not found in regex\n",
      " usa not found in regex\n",
      " usa not found in regex\n",
      " usa not found in regex\n",
      " usa not found in regex\n",
      " usa not found in regex\n",
      " usa not found in regex\n",
      " usa not found in regex\n",
      " usa not found in regex\n",
      " usa not found in regex\n",
      " usa not found in regex\n",
      " usa not found in regex\n",
      " usa not found in regex\n",
      " usa not found in regex\n",
      " usa not found in regex\n",
      " usa not found in regex\n",
      " usa not found in regex\n",
      " usa not found in regex\n",
      " usa not found in regex\n",
      " usa not found in regex\n",
      " usa not found in regex\n",
      " usa not found in regex\n",
      " usa not found in regex\n",
      " usa not found in regex\n",
      " usa not found in regex\n",
      " usa not found in regex\n",
      " usa not found in regex\n",
      " usa not found in regex\n",
      " usa not found in regex\n",
      " usa not found in regex\n",
      " usa not found in regex\n",
      " usa not found in regex\n",
      " usa not found in regex\n",
      " usa not found in regex\n",
      " usa not found in regex\n",
      " usa not found in regex\n",
      " usa not found in regex\n",
      " usa not found in regex\n",
      " usa not found in regex\n",
      " usa not found in regex\n",
      " usa not found in regex\n",
      " usa not found in regex\n",
      " usa not found in regex\n",
      " usa not found in regex\n",
      " usa not found in regex\n",
      " usa not found in regex\n",
      " usa not found in regex\n",
      " usa not found in regex\n",
      " usa not found in regex\n",
      " usa not found in regex\n",
      " usa not found in regex\n",
      " usa not found in regex\n",
      " usa not found in regex\n",
      " usa not found in regex\n",
      " usa not found in regex\n",
      " usa not found in regex\n",
      " usa not found in regex\n",
      " usa not found in regex\n",
      " usa not found in regex\n",
      " usa not found in regex\n",
      " usa not found in regex\n",
      " usa not found in regex\n",
      " usa not found in regex\n",
      " usa not found in regex\n",
      " usa not found in regex\n",
      " usa not found in regex\n",
      " usa not found in regex\n",
      " usa not found in regex\n",
      " usa not found in regex\n",
      " usa not found in regex\n",
      " usa not found in regex\n",
      " usa not found in regex\n",
      " usa not found in regex\n",
      " usa not found in regex\n",
      " usa not found in regex\n",
      " usa not found in regex\n",
      " usa not found in regex\n",
      " usa not found in regex\n",
      " usa not found in regex\n",
      " usa not found in regex\n",
      " usa not found in regex\n",
      " usa not found in regex\n",
      " usa not found in regex\n",
      " usa not found in regex\n",
      " usa not found in regex\n",
      " usa not found in regex\n",
      " usa not found in regex\n",
      " usa not found in regex\n",
      " usa not found in regex\n",
      " usa not found in regex\n",
      " usa not found in regex\n",
      " usa not found in regex\n",
      " usa not found in regex\n",
      " usa not found in regex\n",
      " usa not found in regex\n",
      " usa not found in regex\n",
      " usa not found in regex\n",
      " usa not found in regex\n",
      " usa not found in regex\n",
      " usa not found in regex\n",
      " usa not found in regex\n",
      " usa not found in regex\n",
      " usa not found in regex\n",
      " usa not found in regex\n",
      " usa not found in regex\n",
      " usa not found in regex\n",
      " usa not found in regex\n",
      " usa not found in regex\n",
      " usa not found in regex\n",
      " usa not found in regex\n",
      " usa not found in regex\n",
      " usa not found in regex\n",
      " usa not found in regex\n",
      " usa not found in regex\n",
      " usa not found in regex\n",
      " usa not found in regex\n",
      " usa not found in regex\n",
      " usa not found in regex\n",
      " usa not found in regex\n",
      " usa not found in regex\n",
      " usa not found in regex\n",
      " usa not found in regex\n",
      " usa not found in regex\n",
      " usa not found in regex\n",
      " usa not found in regex\n",
      " usa not found in regex\n",
      " usa not found in regex\n",
      " usa not found in regex\n",
      " usa not found in regex\n",
      " usa not found in regex\n",
      " usa not found in regex\n",
      " usa not found in regex\n",
      " usa not found in regex\n",
      " usa not found in regex\n",
      " usa not found in regex\n",
      " usa not found in regex\n",
      " usa not found in regex\n",
      " usa not found in regex\n",
      " usa not found in regex\n",
      " usa not found in regex\n",
      " usa not found in regex\n",
      " usa not found in regex\n",
      " usa not found in regex\n",
      " usa not found in regex\n",
      " usa not found in regex\n",
      " usa not found in regex\n",
      " usa not found in regex\n",
      " usa not found in regex\n",
      " usa not found in regex\n",
      " usa not found in regex\n",
      " usa not found in regex\n",
      " usa not found in regex\n",
      " not found in regex\n",
      " usa not found in regex\n",
      " usa not found in regex\n",
      " usa not found in regex\n",
      " usa not found in regex\n",
      " usa not found in regex\n",
      " usa not found in regex\n",
      " usa not found in regex\n",
      " usa not found in regex\n",
      " usa not found in regex\n",
      " usa not found in regex\n",
      " usa not found in regex\n",
      " usa not found in regex\n",
      " usa not found in regex\n",
      " usa not found in regex\n",
      " usa not found in regex\n",
      " usa not found in regex\n",
      " usa not found in regex\n",
      " usa not found in regex\n",
      " usa not found in regex\n",
      " usa not found in regex\n",
      " usa not found in regex\n",
      " usa not found in regex\n",
      " usa not found in regex\n",
      " usa not found in regex\n",
      " usa not found in regex\n",
      " usa not found in regex\n",
      " usa not found in regex\n",
      " usa not found in regex\n",
      " not found in regex\n",
      " usa not found in regex\n",
      " usa not found in regex\n",
      " usa not found in regex\n",
      " usa not found in regex\n",
      " usa not found in regex\n",
      " usa not found in regex\n",
      " usa not found in regex\n",
      " usa not found in regex\n",
      " usa not found in regex\n",
      " usa not found in regex\n",
      " usa not found in regex\n",
      " usa not found in regex\n",
      " usa not found in regex\n",
      " usa not found in regex\n",
      " usa not found in regex\n",
      " usa not found in regex\n",
      " usa not found in regex\n",
      " usa not found in regex\n",
      " usa not found in regex\n"
     ]
    },
    {
     "name": "stderr",
     "output_type": "stream",
     "text": [
      " usa not found in regex\n",
      " usa not found in regex\n",
      " usa not found in regex\n",
      " usa not found in regex\n",
      " usa not found in regex\n",
      " usa not found in regex\n",
      " usa not found in regex\n",
      " usa not found in regex\n",
      " usa not found in regex\n",
      " usa not found in regex\n",
      " usa not found in regex\n",
      " usa not found in regex\n",
      " usa not found in regex\n",
      " usa not found in regex\n",
      " usa not found in regex\n",
      " usa not found in regex\n",
      " usa not found in regex\n",
      " usa not found in regex\n",
      " usa not found in regex\n",
      " not found in regex\n",
      " usa not found in regex\n",
      " usa not found in regex\n",
      " usa not found in regex\n",
      " not found in regex\n",
      " usa not found in regex\n",
      " usa not found in regex\n",
      " usa not found in regex\n",
      " usa not found in regex\n",
      " usa not found in regex\n",
      " usa not found in regex\n",
      " usa not found in regex\n",
      " usa not found in regex\n",
      " usa not found in regex\n",
      " usa not found in regex\n",
      " usa not found in regex\n",
      " usa not found in regex\n",
      " usa not found in regex\n",
      " usa not found in regex\n",
      " usa not found in regex\n",
      " usa not found in regex\n",
      " usa not found in regex\n",
      " usa not found in regex\n",
      " usa not found in regex\n",
      " usa not found in regex\n",
      " usa not found in regex\n",
      " usa not found in regex\n",
      " usa not found in regex\n",
      " usa not found in regex\n",
      " usa not found in regex\n",
      " usa not found in regex\n",
      " usa not found in regex\n",
      " usa not found in regex\n",
      " usa not found in regex\n",
      " usa not found in regex\n",
      " usa not found in regex\n",
      " usa not found in regex\n",
      " usa not found in regex\n",
      " usa not found in regex\n",
      " usa not found in regex\n",
      " usa not found in regex\n",
      " usa not found in regex\n",
      " usa not found in regex\n",
      " usa not found in regex\n",
      " usa not found in regex\n",
      " usa not found in regex\n",
      " usa not found in regex\n",
      " usa not found in regex\n",
      " usa not found in regex\n",
      " usa not found in regex\n",
      " usa not found in regex\n",
      " usa not found in regex\n",
      " usa not found in regex\n",
      " usa not found in regex\n",
      " usa not found in regex\n",
      " usa not found in regex\n",
      " usa not found in regex\n",
      " usa not found in regex\n",
      " usa not found in regex\n",
      " usa not found in regex\n",
      " usa not found in regex\n",
      " usa not found in regex\n",
      " usa not found in regex\n",
      " usa not found in regex\n",
      " usa not found in regex\n",
      " usa not found in regex\n",
      " usa not found in regex\n",
      " usa not found in regex\n",
      " usa not found in regex\n",
      " usa not found in regex\n",
      " usa not found in regex\n",
      " usa not found in regex\n",
      " usa not found in regex\n",
      " usa not found in regex\n",
      " usa not found in regex\n",
      " usa not found in regex\n",
      " usa not found in regex\n",
      " usa not found in regex\n",
      " usa not found in regex\n",
      " usa not found in regex\n",
      " usa not found in regex\n",
      " usa not found in regex\n",
      " usa not found in regex\n",
      " usa not found in regex\n",
      " usa not found in regex\n",
      " usa not found in regex\n",
      " usa not found in regex\n",
      " usa not found in regex\n",
      " usa not found in regex\n",
      " usa not found in regex\n",
      " usa not found in regex\n",
      " usa not found in regex\n",
      " usa not found in regex\n",
      " usa not found in regex\n",
      " usa not found in regex\n",
      " usa not found in regex\n",
      " usa not found in regex\n",
      " usa not found in regex\n",
      " usa not found in regex\n",
      " usa not found in regex\n",
      " usa not found in regex\n",
      " usa not found in regex\n",
      " usa not found in regex\n",
      " usa not found in regex\n",
      " usa not found in regex\n",
      " usa not found in regex\n",
      " usa not found in regex\n",
      " usa not found in regex\n",
      " usa not found in regex\n",
      " usa not found in regex\n",
      " usa not found in regex\n",
      " usa not found in regex\n",
      " usa not found in regex\n",
      " usa not found in regex\n",
      " usa not found in regex\n",
      " usa not found in regex\n",
      " usa not found in regex\n",
      " not found in regex\n",
      " usa not found in regex\n",
      " usa not found in regex\n",
      " usa not found in regex\n",
      " usa not found in regex\n",
      " usa not found in regex\n",
      " usa not found in regex\n",
      " usa not found in regex\n",
      " usa not found in regex\n",
      " usa not found in regex\n",
      " usa not found in regex\n",
      " usa not found in regex\n",
      " usa not found in regex\n",
      " usa not found in regex\n",
      " usa not found in regex\n",
      " usa not found in regex\n",
      " usa not found in regex\n",
      " usa not found in regex\n",
      " usa not found in regex\n",
      " usa not found in regex\n",
      " usa not found in regex\n",
      " usa not found in regex\n",
      " usa not found in regex\n",
      " usa not found in regex\n",
      " usa not found in regex\n",
      " usa not found in regex\n",
      " usa not found in regex\n",
      " usa not found in regex\n",
      " usa not found in regex\n",
      " usa not found in regex\n",
      " usa not found in regex\n",
      " usa not found in regex\n",
      " usa not found in regex\n",
      " not found in regex\n",
      " usa not found in regex\n",
      " usa not found in regex\n",
      " usa not found in regex\n",
      " usa not found in regex\n",
      " usa not found in regex\n",
      " usa not found in regex\n",
      " usa not found in regex\n",
      " usa not found in regex\n",
      " usa not found in regex\n",
      " usa not found in regex\n",
      " usa not found in regex\n",
      " usa not found in regex\n",
      " usa not found in regex\n",
      " usa not found in regex\n",
      " usa not found in regex\n",
      " usa not found in regex\n",
      " usa not found in regex\n",
      " usa not found in regex\n",
      " usa not found in regex\n",
      " usa not found in regex\n",
      " usa not found in regex\n",
      " usa not found in regex\n",
      " usa not found in regex\n",
      " usa not found in regex\n",
      " usa not found in regex\n",
      " usa not found in regex\n",
      " usa not found in regex\n",
      " usa not found in regex\n",
      " usa not found in regex\n",
      " usa not found in regex\n",
      " usa not found in regex\n",
      " usa not found in regex\n",
      " usa not found in regex\n",
      " usa not found in regex\n",
      " usa not found in regex\n",
      " usa not found in regex\n",
      " usa not found in regex\n",
      " usa not found in regex\n",
      " usa not found in regex\n",
      " usa not found in regex\n",
      " usa not found in regex\n",
      " usa not found in regex\n",
      " usa not found in regex\n",
      " usa not found in regex\n",
      " usa not found in regex\n",
      " usa not found in regex\n",
      " usa not found in regex\n",
      " usa not found in regex\n",
      " usa not found in regex\n",
      " usa not found in regex\n",
      " usa not found in regex\n",
      " usa not found in regex\n",
      " usa not found in regex\n",
      " usa not found in regex\n",
      " usa not found in regex\n",
      " usa not found in regex\n",
      " usa not found in regex\n",
      " usa not found in regex\n",
      " usa not found in regex\n",
      " usa not found in regex\n",
      " usa not found in regex\n",
      " usa not found in regex\n",
      " usa not found in regex\n",
      " usa not found in regex\n",
      " usa not found in regex\n",
      " usa not found in regex\n",
      " usa not found in regex\n",
      " usa not found in regex\n",
      " usa not found in regex\n",
      " usa not found in regex\n",
      " usa not found in regex\n",
      " usa not found in regex\n",
      " usa not found in regex\n",
      " usa not found in regex\n",
      " usa not found in regex\n",
      " usa not found in regex\n",
      " usa not found in regex\n",
      " usa not found in regex\n",
      " usa not found in regex\n",
      " usa not found in regex\n",
      " usa not found in regex\n",
      " usa not found in regex\n",
      " usa not found in regex\n",
      " usa not found in regex\n",
      " usa not found in regex\n",
      " usa not found in regex\n",
      " usa not found in regex\n",
      " usa not found in regex\n",
      " usa not found in regex\n",
      " usa not found in regex\n",
      " usa not found in regex\n",
      " usa not found in regex\n",
      " usa not found in regex\n",
      " usa not found in regex\n",
      " usa not found in regex\n",
      " usa not found in regex\n",
      " usa not found in regex\n",
      " usa not found in regex\n",
      " usa not found in regex\n",
      " usa not found in regex\n",
      " usa not found in regex\n",
      " usa not found in regex\n",
      " usa not found in regex\n",
      " usa not found in regex\n",
      " usa not found in regex\n",
      " usa not found in regex\n",
      " usa not found in regex\n",
      " usa not found in regex\n",
      " usa not found in regex\n",
      " usa not found in regex\n",
      " usa not found in regex\n",
      " usa not found in regex\n",
      " usa not found in regex\n",
      " usa not found in regex\n",
      " usa not found in regex\n",
      " not found in regex\n",
      " usa not found in regex\n",
      " usa not found in regex\n",
      " usa not found in regex\n",
      " usa not found in regex\n",
      " usa not found in regex\n",
      " usa not found in regex\n",
      " usa not found in regex\n",
      " usa not found in regex\n",
      " usa not found in regex\n",
      " usa not found in regex\n",
      " usa not found in regex\n",
      " usa not found in regex\n",
      " usa not found in regex\n",
      " usa not found in regex\n",
      " usa not found in regex\n",
      " not found in regex\n",
      " usa not found in regex\n",
      " usa not found in regex\n",
      " usa not found in regex\n",
      " usa not found in regex\n",
      " usa not found in regex\n",
      " not found in regex\n",
      " usa not found in regex\n",
      " usa not found in regex\n",
      " usa not found in regex\n",
      " usa not found in regex\n",
      " usa not found in regex\n",
      " usa not found in regex\n",
      " usa not found in regex\n",
      " usa not found in regex\n",
      " usa not found in regex\n",
      " usa not found in regex\n",
      " usa not found in regex\n",
      " usa not found in regex\n",
      " usa not found in regex\n",
      " usa not found in regex\n",
      " usa not found in regex\n",
      " usa not found in regex\n",
      " usa not found in regex\n",
      " usa not found in regex\n",
      " usa not found in regex\n",
      " usa not found in regex\n",
      " usa not found in regex\n",
      " usa not found in regex\n",
      " usa not found in regex\n",
      " usa not found in regex\n",
      " usa not found in regex\n",
      " usa not found in regex\n",
      " usa not found in regex\n",
      " usa not found in regex\n",
      " usa not found in regex\n",
      " usa not found in regex\n",
      " usa not found in regex\n",
      " usa not found in regex\n",
      " usa not found in regex\n",
      " usa not found in regex\n",
      " usa not found in regex\n"
     ]
    },
    {
     "name": "stderr",
     "output_type": "stream",
     "text": [
      " usa not found in regex\n",
      " usa not found in regex\n",
      " usa not found in regex\n",
      " usa not found in regex\n",
      " usa not found in regex\n",
      " usa not found in regex\n",
      " usa not found in regex\n",
      " usa not found in regex\n",
      " not found in regex\n",
      " usa not found in regex\n",
      " usa not found in regex\n",
      " usa not found in regex\n",
      " usa not found in regex\n",
      " usa not found in regex\n",
      " not found in regex\n",
      " usa not found in regex\n",
      " usa not found in regex\n",
      " usa not found in regex\n",
      " usa not found in regex\n",
      " usa not found in regex\n",
      " usa not found in regex\n",
      " usa not found in regex\n",
      " usa not found in regex\n",
      " usa not found in regex\n",
      " usa not found in regex\n",
      " usa not found in regex\n",
      " usa not found in regex\n",
      " usa not found in regex\n",
      " usa not found in regex\n",
      " usa not found in regex\n",
      " usa not found in regex\n",
      " usa not found in regex\n",
      " usa not found in regex\n",
      " not found in regex\n",
      " usa not found in regex\n",
      " not found in regex\n",
      " usa not found in regex\n",
      " usa not found in regex\n",
      " usa not found in regex\n",
      " usa not found in regex\n",
      " usa not found in regex\n",
      " usa not found in regex\n",
      " usa not found in regex\n",
      " usa not found in regex\n",
      " usa not found in regex\n",
      " usa not found in regex\n",
      " usa not found in regex\n",
      " usa not found in regex\n",
      " usa not found in regex\n",
      " usa not found in regex\n",
      " usa not found in regex\n",
      " usa not found in regex\n",
      " usa not found in regex\n",
      " usa not found in regex\n",
      " usa not found in regex\n",
      " usa not found in regex\n",
      " usa not found in regex\n",
      " usa not found in regex\n",
      " usa not found in regex\n",
      " usa not found in regex\n",
      " usa not found in regex\n",
      " usa not found in regex\n",
      " usa not found in regex\n",
      " usa not found in regex\n",
      " usa not found in regex\n",
      " usa not found in regex\n",
      " usa not found in regex\n",
      " usa not found in regex\n",
      " usa not found in regex\n",
      " usa not found in regex\n",
      " usa not found in regex\n",
      " usa not found in regex\n",
      " usa not found in regex\n",
      " usa not found in regex\n",
      " usa not found in regex\n",
      " usa not found in regex\n",
      " usa not found in regex\n",
      " usa not found in regex\n",
      " usa not found in regex\n",
      " usa not found in regex\n",
      " usa not found in regex\n",
      " usa not found in regex\n",
      " usa not found in regex\n",
      " usa not found in regex\n",
      " usa not found in regex\n",
      " usa not found in regex\n",
      " usa not found in regex\n",
      " usa not found in regex\n",
      " usa not found in regex\n",
      " usa not found in regex\n",
      " usa not found in regex\n",
      " usa not found in regex\n",
      " usa not found in regex\n",
      " usa not found in regex\n",
      " usa not found in regex\n",
      " usa not found in regex\n",
      " usa not found in regex\n",
      " usa not found in regex\n",
      " usa not found in regex\n",
      " usa not found in regex\n",
      " usa not found in regex\n",
      " usa not found in regex\n",
      " usa not found in regex\n",
      " usa not found in regex\n",
      " usa not found in regex\n",
      " usa not found in regex\n",
      " usa not found in regex\n",
      " usa not found in regex\n",
      " usa not found in regex\n",
      " usa not found in regex\n",
      " usa not found in regex\n",
      " usa not found in regex\n",
      " not found in regex\n",
      " usa not found in regex\n",
      " usa not found in regex\n",
      " usa not found in regex\n",
      " usa not found in regex\n",
      " usa not found in regex\n",
      " usa not found in regex\n",
      " not found in regex\n",
      " usa not found in regex\n",
      " usa not found in regex\n",
      " usa not found in regex\n",
      " usa not found in regex\n",
      " usa not found in regex\n",
      " usa not found in regex\n",
      " usa not found in regex\n",
      " usa not found in regex\n",
      " usa not found in regex\n",
      " usa not found in regex\n",
      " usa not found in regex\n",
      " usa not found in regex\n",
      " usa not found in regex\n",
      " usa not found in regex\n",
      " usa not found in regex\n",
      " usa not found in regex\n",
      " usa not found in regex\n",
      " usa not found in regex\n",
      " usa not found in regex\n",
      " usa not found in regex\n",
      " usa not found in regex\n",
      " usa not found in regex\n",
      " usa not found in regex\n",
      " usa not found in regex\n",
      " usa not found in regex\n",
      " usa not found in regex\n",
      " usa not found in regex\n",
      " usa not found in regex\n",
      " usa not found in regex\n",
      " usa not found in regex\n",
      " usa not found in regex\n",
      " usa not found in regex\n",
      " not found in regex\n",
      " usa not found in regex\n",
      " usa not found in regex\n",
      " usa not found in regex\n",
      " usa not found in regex\n",
      " usa not found in regex\n",
      " usa not found in regex\n",
      " usa not found in regex\n",
      " usa not found in regex\n",
      " usa not found in regex\n",
      " usa not found in regex\n",
      " usa not found in regex\n",
      " usa not found in regex\n",
      " usa not found in regex\n",
      " usa not found in regex\n",
      " usa not found in regex\n",
      " usa not found in regex\n",
      " usa not found in regex\n",
      " usa not found in regex\n",
      " usa not found in regex\n",
      " usa not found in regex\n",
      " usa not found in regex\n",
      " usa not found in regex\n",
      " usa not found in regex\n",
      " usa not found in regex\n",
      " usa not found in regex\n",
      " usa not found in regex\n",
      " usa not found in regex\n",
      " usa not found in regex\n",
      " usa not found in regex\n",
      " usa not found in regex\n",
      " usa not found in regex\n",
      " usa not found in regex\n",
      " usa not found in regex\n",
      " usa not found in regex\n",
      " usa not found in regex\n",
      " usa not found in regex\n",
      " usa not found in regex\n",
      " usa not found in regex\n",
      " usa not found in regex\n",
      " usa not found in regex\n",
      " usa not found in regex\n",
      " usa not found in regex\n",
      " usa not found in regex\n",
      " usa not found in regex\n",
      " usa not found in regex\n",
      " usa not found in regex\n",
      " usa not found in regex\n",
      " usa not found in regex\n",
      " usa not found in regex\n",
      " usa not found in regex\n",
      " usa not found in regex\n",
      " usa not found in regex\n",
      " usa not found in regex\n",
      " usa not found in regex\n",
      " usa not found in regex\n",
      " usa not found in regex\n",
      " usa not found in regex\n",
      " usa not found in regex\n",
      " usa not found in regex\n",
      " usa not found in regex\n",
      " usa not found in regex\n",
      " usa not found in regex\n",
      " usa not found in regex\n",
      " usa not found in regex\n",
      " usa not found in regex\n",
      " usa not found in regex\n",
      " usa not found in regex\n",
      " usa not found in regex\n",
      " usa not found in regex\n",
      " usa not found in regex\n",
      " usa not found in regex\n",
      " far away... not found in regex\n",
      " usa not found in regex\n",
      " usa not found in regex\n",
      " usa not found in regex\n",
      " usa not found in regex\n",
      " usa not found in regex\n",
      " usa not found in regex\n",
      " usa not found in regex\n",
      " usa not found in regex\n",
      " usa not found in regex\n",
      " usa not found in regex\n",
      " usa not found in regex\n",
      " usa not found in regex\n",
      " usa not found in regex\n",
      " usa not found in regex\n",
      " usa not found in regex\n",
      " usa not found in regex\n",
      " usa not found in regex\n",
      " usa not found in regex\n",
      " usa not found in regex\n",
      " usa not found in regex\n",
      " usa not found in regex\n",
      " usa not found in regex\n",
      " usa not found in regex\n",
      " usa not found in regex\n",
      " usa not found in regex\n",
      " usa not found in regex\n",
      " not found in regex\n",
      " usa not found in regex\n",
      " usa not found in regex\n",
      " not found in regex\n",
      " usa not found in regex\n",
      " usa not found in regex\n",
      " usa not found in regex\n",
      " usa not found in regex\n",
      " usa not found in regex\n",
      " usa not found in regex\n",
      " usa not found in regex\n",
      " usa not found in regex\n",
      " usa not found in regex\n",
      " usa not found in regex\n",
      " usa not found in regex\n",
      " usa not found in regex\n",
      " usa not found in regex\n",
      " usa not found in regex\n",
      " usa not found in regex\n",
      " usa not found in regex\n",
      " usa not found in regex\n",
      " usa not found in regex\n",
      " usa not found in regex\n",
      " usa not found in regex\n",
      " usa not found in regex\n",
      " usa not found in regex\n",
      " usa not found in regex\n",
      " usa not found in regex\n",
      " usa not found in regex\n",
      " usa not found in regex\n",
      " usa not found in regex\n",
      " usa not found in regex\n",
      " usa not found in regex\n",
      " usa not found in regex\n",
      " usa not found in regex\n",
      " usa not found in regex\n",
      " usa not found in regex\n",
      " usa not found in regex\n",
      " usa not found in regex\n",
      " usa not found in regex\n",
      " usa not found in regex\n",
      " usa not found in regex\n",
      " usa not found in regex\n",
      " usa not found in regex\n",
      " not found in regex\n",
      " usa not found in regex\n",
      " usa not found in regex\n",
      " usa not found in regex\n",
      " usa not found in regex\n",
      " usa not found in regex\n",
      " usa not found in regex\n",
      " usa not found in regex\n",
      " usa not found in regex\n",
      " usa not found in regex\n",
      " usa not found in regex\n",
      " usa not found in regex\n",
      " usa not found in regex\n",
      " usa not found in regex\n",
      " usa not found in regex\n",
      " usa not found in regex\n",
      " usa not found in regex\n",
      " usa not found in regex\n",
      " not found in regex\n",
      " usa not found in regex\n",
      " usa not found in regex\n",
      " usa not found in regex\n",
      " usa not found in regex\n",
      " usa not found in regex\n",
      " usa not found in regex\n",
      " usa not found in regex\n",
      " not found in regex\n",
      " usa not found in regex\n",
      " usa not found in regex\n",
      " usa not found in regex\n",
      " usa not found in regex\n",
      " usa not found in regex\n",
      " usa not found in regex\n",
      " universe not found in regex\n",
      " usa not found in regex\n",
      " not found in regex\n",
      " usa not found in regex\n",
      " usa not found in regex\n",
      " usa not found in regex\n",
      " usa not found in regex\n",
      " usa not found in regex\n",
      " usa not found in regex\n",
      " usa not found in regex\n",
      " usa not found in regex\n",
      " usa not found in regex\n",
      " usa not found in regex\n",
      " usa not found in regex\n",
      " not found in regex\n",
      " usa not found in regex\n"
     ]
    },
    {
     "name": "stderr",
     "output_type": "stream",
     "text": [
      " usa not found in regex\n",
      " usa not found in regex\n",
      " usa not found in regex\n",
      " usa not found in regex\n",
      " usa not found in regex\n",
      " usa not found in regex\n",
      " usa not found in regex\n",
      " usa not found in regex\n",
      " usa not found in regex\n",
      " usa not found in regex\n",
      " usa not found in regex\n",
      " usa not found in regex\n",
      " usa not found in regex\n",
      " usa not found in regex\n",
      " usa not found in regex\n",
      " usa not found in regex\n",
      " usa not found in regex\n",
      " usa not found in regex\n",
      " usa not found in regex\n",
      " usa not found in regex\n",
      " usa not found in regex\n",
      " usa not found in regex\n",
      " not found in regex\n",
      " usa not found in regex\n",
      " usa not found in regex\n",
      " usa not found in regex\n",
      " usa not found in regex\n",
      " usa not found in regex\n",
      " usa not found in regex\n",
      " usa not found in regex\n",
      " usa not found in regex\n",
      " usa not found in regex\n",
      " usa not found in regex\n",
      " not found in regex\n",
      " usa not found in regex\n",
      " usa not found in regex\n",
      " usa not found in regex\n",
      " usa not found in regex\n",
      " usa not found in regex\n",
      " usa not found in regex\n",
      " usa not found in regex\n",
      " usa not found in regex\n",
      " usa not found in regex\n",
      " usa not found in regex\n",
      " usa not found in regex\n",
      " usa not found in regex\n",
      " usa not found in regex\n",
      " usa not found in regex\n",
      " usa not found in regex\n",
      " usa not found in regex\n",
      " usa not found in regex\n",
      " usa not found in regex\n",
      " usa not found in regex\n",
      " usa not found in regex\n",
      " usa not found in regex\n",
      " usa not found in regex\n",
      " usa not found in regex\n",
      " usa not found in regex\n",
      " usa not found in regex\n",
      " usa not found in regex\n",
      " usa not found in regex\n",
      " usa not found in regex\n",
      " usa not found in regex\n",
      " usa not found in regex\n",
      " usa not found in regex\n",
      " not found in regex\n",
      " usa not found in regex\n",
      " usa not found in regex\n",
      " usa not found in regex\n",
      " usa not found in regex\n",
      " usa not found in regex\n",
      " usa not found in regex\n",
      " usa not found in regex\n",
      " usa not found in regex\n",
      " usa not found in regex\n",
      " usa not found in regex\n",
      " usa not found in regex\n",
      " usa not found in regex\n",
      " usa not found in regex\n",
      " usa not found in regex\n",
      " usa not found in regex\n",
      " usa not found in regex\n",
      " usa not found in regex\n",
      " usa not found in regex\n",
      " usa not found in regex\n",
      " usa not found in regex\n",
      " usa not found in regex\n",
      " usa not found in regex\n",
      " usa not found in regex\n",
      " usa not found in regex\n",
      " usa not found in regex\n",
      " usa not found in regex\n",
      " usa not found in regex\n",
      " usa not found in regex\n",
      " usa not found in regex\n",
      " usa not found in regex\n",
      " usa not found in regex\n",
      " usa not found in regex\n",
      " usa not found in regex\n",
      " usa not found in regex\n",
      " usa not found in regex\n",
      " usa not found in regex\n",
      " usa not found in regex\n",
      " usa not found in regex\n",
      " usa not found in regex\n",
      " usa not found in regex\n",
      " usa not found in regex\n",
      " usa not found in regex\n",
      " usa not found in regex\n",
      " usa not found in regex\n",
      " not found in regex\n",
      " usa not found in regex\n",
      " not found in regex\n",
      " usa not found in regex\n",
      " usa not found in regex\n",
      " usa not found in regex\n",
      " usa not found in regex\n",
      " usa not found in regex\n",
      " usa not found in regex\n",
      " usa not found in regex\n",
      " usa not found in regex\n",
      " usa not found in regex\n",
      " usa not found in regex\n",
      " usa not found in regex\n",
      " usa not found in regex\n",
      " usa not found in regex\n",
      " usa not found in regex\n",
      " usa not found in regex\n",
      " usa not found in regex\n",
      " usa not found in regex\n",
      " usa not found in regex\n",
      " usa not found in regex\n",
      " usa not found in regex\n",
      " usa not found in regex\n",
      " usa not found in regex\n",
      " usa not found in regex\n",
      " usa not found in regex\n",
      " not found in regex\n",
      " usa not found in regex\n",
      " usa not found in regex\n",
      " usa not found in regex\n",
      " usa not found in regex\n",
      " usa not found in regex\n",
      " usa not found in regex\n",
      " usa not found in regex\n",
      " usa not found in regex\n",
      " usa not found in regex\n",
      " usa not found in regex\n",
      " usa not found in regex\n",
      " usa not found in regex\n",
      " usa not found in regex\n",
      " usa not found in regex\n",
      " usa not found in regex\n",
      " usa not found in regex\n",
      " usa not found in regex\n",
      " usa not found in regex\n",
      " usa not found in regex\n",
      " usa not found in regex\n",
      " usa not found in regex\n",
      " usa not found in regex\n",
      " usa not found in regex\n",
      " usa not found in regex\n",
      " usa not found in regex\n",
      " usa not found in regex\n",
      " usa not found in regex\n",
      " not found in regex\n",
      " usa not found in regex\n",
      " usa not found in regex\n",
      " usa not found in regex\n",
      " usa not found in regex\n",
      " usa not found in regex\n",
      " not found in regex\n",
      " usa not found in regex\n",
      " usa not found in regex\n",
      " usa not found in regex\n",
      " not found in regex\n",
      " usa not found in regex\n",
      " usa not found in regex\n",
      " usa not found in regex\n",
      " usa not found in regex\n",
      " usa not found in regex\n",
      " usa not found in regex\n",
      " usa not found in regex\n",
      " usa not found in regex\n",
      " usa not found in regex\n",
      " usa not found in regex\n",
      " usa not found in regex\n",
      " usa not found in regex\n",
      " usa not found in regex\n",
      " usa not found in regex\n",
      " usa not found in regex\n",
      " usa not found in regex\n",
      " usa not found in regex\n",
      " usa not found in regex\n",
      " usa not found in regex\n",
      " usa not found in regex\n",
      " usa not found in regex\n",
      " usa not found in regex\n",
      " usa not found in regex\n",
      " usa not found in regex\n",
      " usa not found in regex\n",
      " usa not found in regex\n",
      " usa not found in regex\n",
      " usa not found in regex\n",
      " usa not found in regex\n",
      " usa not found in regex\n",
      " usa not found in regex\n",
      " not found in regex\n",
      " usa not found in regex\n",
      " usa not found in regex\n",
      " usa not found in regex\n",
      " usa not found in regex\n",
      " usa not found in regex\n",
      " usa not found in regex\n",
      " usa not found in regex\n",
      " usa not found in regex\n",
      " usa not found in regex\n",
      " usa not found in regex\n",
      " usa not found in regex\n",
      " usa not found in regex\n",
      " usa not found in regex\n",
      " usa not found in regex\n",
      " usa not found in regex\n",
      " not found in regex\n",
      " usa not found in regex\n",
      " usa not found in regex\n",
      " usa not found in regex\n",
      " usa not found in regex\n",
      " not found in regex\n",
      " usa not found in regex\n",
      " usa not found in regex\n",
      " usa not found in regex\n",
      " usa not found in regex\n",
      " usa not found in regex\n",
      " usa not found in regex\n",
      " usa not found in regex\n",
      " usa not found in regex\n",
      " usa not found in regex\n",
      " usa not found in regex\n",
      " usa not found in regex\n",
      " usa not found in regex\n",
      " usa not found in regex\n",
      " usa not found in regex\n",
      " usa not found in regex\n",
      " usa not found in regex\n",
      " not found in regex\n",
      " usa not found in regex\n",
      " usa not found in regex\n",
      " usa not found in regex\n",
      " usa not found in regex\n",
      " usa not found in regex\n",
      " usa not found in regex\n",
      " usa not found in regex\n",
      " usa not found in regex\n",
      " usa not found in regex\n",
      " usa not found in regex\n",
      " not found in regex\n",
      " usa not found in regex\n",
      " usa not found in regex\n",
      " usa not found in regex\n",
      " not found in regex\n",
      " usa not found in regex\n",
      " usa not found in regex\n",
      " usa not found in regex\n",
      " usa not found in regex\n",
      " usa not found in regex\n",
      " usa not found in regex\n",
      " usa not found in regex\n",
      " usa not found in regex\n",
      " usa not found in regex\n",
      " usa not found in regex\n",
      " usa not found in regex\n",
      " usa not found in regex\n",
      " usa not found in regex\n",
      " usa not found in regex\n",
      " not found in regex\n",
      " usa not found in regex\n",
      " usa not found in regex\n",
      " usa not found in regex\n",
      " usa not found in regex\n",
      " usa not found in regex\n",
      " usa not found in regex\n",
      " usa not found in regex\n",
      " usa not found in regex\n",
      " usa not found in regex\n",
      " usa not found in regex\n",
      " usa not found in regex\n",
      " usa not found in regex\n",
      " usa not found in regex\n",
      " usa not found in regex\n",
      " usa not found in regex\n",
      " usa not found in regex\n",
      " usa not found in regex\n",
      " usa not found in regex\n",
      " usa not found in regex\n",
      " usa not found in regex\n",
      " usa not found in regex\n",
      " usa not found in regex\n",
      " usa not found in regex\n",
      " usa not found in regex\n",
      " usa not found in regex\n",
      " usa not found in regex\n",
      " usa not found in regex\n",
      " usa not found in regex\n",
      " usa not found in regex\n",
      " usa not found in regex\n",
      " usa not found in regex\n",
      " usa not found in regex\n",
      " usa not found in regex\n",
      " usa not found in regex\n",
      " usa not found in regex\n",
      " usa not found in regex\n",
      " usa not found in regex\n",
      " usa not found in regex\n",
      " usa not found in regex\n",
      " usa not found in regex\n",
      " usa not found in regex\n",
      " usa not found in regex\n",
      " usa not found in regex\n",
      " usa not found in regex\n",
      " usa not found in regex\n",
      " usa not found in regex\n",
      " usa not found in regex\n",
      " usa not found in regex\n",
      " usa not found in regex\n",
      " usa not found in regex\n",
      " usa not found in regex\n",
      " usa not found in regex\n",
      " usa not found in regex\n",
      " usa not found in regex\n",
      " usa not found in regex\n",
      " usa not found in regex\n",
      " usa not found in regex\n",
      " usa not found in regex\n",
      " usa not found in regex\n",
      " usa not found in regex\n",
      " usa not found in regex\n",
      " usa not found in regex\n",
      " usa not found in regex\n",
      " usa not found in regex\n",
      " usa not found in regex\n",
      " usa not found in regex\n",
      " usa not found in regex\n",
      " usa not found in regex\n",
      " not found in regex\n"
     ]
    },
    {
     "name": "stderr",
     "output_type": "stream",
     "text": [
      " usa not found in regex\n",
      " usa not found in regex\n",
      " usa not found in regex\n",
      " usa not found in regex\n",
      " not found in regex\n",
      " usa not found in regex\n",
      " usa not found in regex\n",
      " usa not found in regex\n",
      " usa not found in regex\n",
      " usa not found in regex\n",
      " usa not found in regex\n",
      " usa not found in regex\n",
      " usa not found in regex\n",
      " usa not found in regex\n",
      " usa not found in regex\n",
      " usa not found in regex\n",
      " usa not found in regex\n",
      " usa not found in regex\n",
      " usa not found in regex\n",
      " usa not found in regex\n",
      " usa not found in regex\n",
      " usa not found in regex\n",
      " usa not found in regex\n",
      " usa not found in regex\n",
      " usa not found in regex\n",
      " usa not found in regex\n",
      " usa not found in regex\n",
      " usa not found in regex\n",
      " usa not found in regex\n",
      " usa not found in regex\n",
      " usa not found in regex\n",
      " usa not found in regex\n",
      " usa not found in regex\n",
      " usa not found in regex\n",
      " usa not found in regex\n",
      " usa not found in regex\n",
      " usa not found in regex\n",
      " usa not found in regex\n",
      " usa not found in regex\n",
      " usa not found in regex\n",
      " usa not found in regex\n",
      " usa not found in regex\n",
      " not found in regex\n",
      " usa not found in regex\n",
      " usa not found in regex\n",
      " usa not found in regex\n",
      " usa not found in regex\n",
      " usa not found in regex\n",
      " usa not found in regex\n",
      " usa not found in regex\n",
      " usa not found in regex\n",
      " usa not found in regex\n",
      " usa not found in regex\n",
      " usa not found in regex\n",
      " usa not found in regex\n",
      " usa not found in regex\n",
      " usa not found in regex\n",
      " usa not found in regex\n",
      " usa not found in regex\n",
      " usa not found in regex\n",
      " usa not found in regex\n",
      " usa not found in regex\n",
      " usa not found in regex\n",
      " usa not found in regex\n",
      " usa not found in regex\n",
      " usa not found in regex\n",
      " usa not found in regex\n",
      " usa not found in regex\n",
      " usa not found in regex\n",
      " usa not found in regex\n",
      " usa not found in regex\n",
      " usa not found in regex\n",
      " usa not found in regex\n",
      " usa not found in regex\n",
      " usa not found in regex\n",
      " usa not found in regex\n",
      " usa not found in regex\n",
      " usa not found in regex\n",
      " usa not found in regex\n",
      " usa not found in regex\n",
      " usa not found in regex\n",
      " usa not found in regex\n",
      " usa not found in regex\n",
      " usa not found in regex\n",
      " usa not found in regex\n",
      " united state not found in regex\n",
      " usa not found in regex\n",
      " usa not found in regex\n",
      " usa not found in regex\n",
      " usa not found in regex\n",
      " usa not found in regex\n",
      " usa not found in regex\n",
      " usa not found in regex\n",
      " usa not found in regex\n",
      " usa not found in regex\n",
      " usa not found in regex\n",
      " usa not found in regex\n",
      " usa not found in regex\n",
      " usa not found in regex\n",
      " usa not found in regex\n",
      " usa not found in regex\n",
      " usa not found in regex\n",
      " usa not found in regex\n",
      " usa not found in regex\n",
      " usa not found in regex\n",
      " usa not found in regex\n",
      " usa not found in regex\n",
      " usa not found in regex\n",
      " usa not found in regex\n",
      " usa not found in regex\n",
      " usa not found in regex\n",
      " usa not found in regex\n",
      " usa not found in regex\n",
      " usa not found in regex\n",
      " usa not found in regex\n",
      " usa not found in regex\n",
      " usa not found in regex\n",
      " usa not found in regex\n",
      " usa not found in regex\n",
      " usa not found in regex\n",
      " usa not found in regex\n",
      " usa not found in regex\n",
      " usa not found in regex\n",
      " usa not found in regex\n",
      " usa not found in regex\n",
      " usa not found in regex\n",
      " usa not found in regex\n",
      " usa not found in regex\n",
      " usa not found in regex\n",
      " usa not found in regex\n",
      " usa not found in regex\n",
      " usa not found in regex\n",
      " usa not found in regex\n",
      " usa not found in regex\n",
      " usa not found in regex\n",
      " usa not found in regex\n",
      " usa not found in regex\n",
      " usa not found in regex\n",
      " usa not found in regex\n",
      " usa not found in regex\n",
      " usa not found in regex\n",
      " usa not found in regex\n",
      " usa not found in regex\n",
      " usa not found in regex\n",
      " usa not found in regex\n",
      " usa not found in regex\n",
      " usa not found in regex\n",
      " usa not found in regex\n",
      " usa not found in regex\n",
      " usa not found in regex\n",
      " usa not found in regex\n",
      " usa not found in regex\n",
      " usa not found in regex\n",
      " usa not found in regex\n",
      " usa not found in regex\n",
      " usa not found in regex\n",
      " not found in regex\n",
      " usa not found in regex\n",
      " not found in regex\n",
      " usa not found in regex\n",
      " usa not found in regex\n",
      " usa not found in regex\n",
      " usa not found in regex\n",
      " usa not found in regex\n",
      " usa not found in regex\n",
      " usa not found in regex\n",
      " usa not found in regex\n",
      " usa not found in regex\n",
      " usa not found in regex\n",
      " usa not found in regex\n",
      " usa not found in regex\n",
      " usa not found in regex\n",
      " usa not found in regex\n",
      " usa not found in regex\n",
      " usa not found in regex\n",
      " usa not found in regex\n",
      " usa not found in regex\n",
      " usa not found in regex\n",
      " usa not found in regex\n",
      " usa not found in regex\n",
      " usa not found in regex\n",
      " usa not found in regex\n",
      " usa not found in regex\n",
      " usa not found in regex\n",
      " usa not found in regex\n",
      " usa not found in regex\n",
      " usa not found in regex\n",
      " usa not found in regex\n",
      " usa not found in regex\n",
      " usa not found in regex\n",
      " usa not found in regex\n",
      " usa not found in regex\n",
      " usa not found in regex\n",
      " usa not found in regex\n",
      " usa not found in regex\n",
      " usa not found in regex\n",
      " usa not found in regex\n",
      " usa not found in regex\n",
      " not found in regex\n",
      " usa not found in regex\n",
      " usa not found in regex\n",
      " usa not found in regex\n",
      " usa not found in regex\n",
      " usa not found in regex\n",
      " usa not found in regex\n",
      " usa not found in regex\n",
      " usa not found in regex\n",
      " usa not found in regex\n",
      " usa not found in regex\n",
      " usa not found in regex\n",
      " usa not found in regex\n",
      " usa not found in regex\n",
      " usa not found in regex\n",
      " usa not found in regex\n",
      " usa not found in regex\n",
      " usa not found in regex\n",
      " usa not found in regex\n",
      " usa not found in regex\n",
      " usa not found in regex\n",
      " usa not found in regex\n",
      " usa not found in regex\n",
      " usa not found in regex\n",
      " usa not found in regex\n",
      " usa not found in regex\n",
      " usa not found in regex\n",
      " usa not found in regex\n",
      " usa not found in regex\n",
      " usa not found in regex\n",
      " usa not found in regex\n",
      " usa not found in regex\n",
      " phillipines not found in regex\n",
      " usa not found in regex\n",
      " not found in regex\n",
      " usa not found in regex\n",
      " usa not found in regex\n",
      " usa not found in regex\n",
      " usa not found in regex\n",
      " usa not found in regex\n",
      " usa not found in regex\n",
      " usa not found in regex\n",
      " usa not found in regex\n",
      " usa not found in regex\n",
      " usa not found in regex\n",
      " usa not found in regex\n",
      " usa not found in regex\n",
      " usa not found in regex\n",
      " usa not found in regex\n",
      " usa not found in regex\n",
      " usa not found in regex\n",
      " usa not found in regex\n",
      " usa not found in regex\n",
      " usa not found in regex\n",
      " usa not found in regex\n",
      " usa not found in regex\n",
      " usa not found in regex\n",
      " usa not found in regex\n",
      " usa not found in regex\n",
      " usa not found in regex\n",
      " usa not found in regex\n",
      " usa not found in regex\n",
      " usa not found in regex\n",
      " usa not found in regex\n",
      " usa not found in regex\n",
      " usa not found in regex\n",
      " usa not found in regex\n",
      " not found in regex\n",
      " usa not found in regex\n",
      " usa not found in regex\n",
      " not found in regex\n",
      " usa not found in regex\n",
      " usa not found in regex\n",
      " usa not found in regex\n",
      " usa not found in regex\n",
      " usa not found in regex\n",
      " usa not found in regex\n",
      " usa not found in regex\n",
      " usa not found in regex\n",
      " usa not found in regex\n",
      " usa not found in regex\n",
      " usa not found in regex\n",
      " usa not found in regex\n",
      " usa not found in regex\n",
      " usa not found in regex\n",
      " usa not found in regex\n",
      " usa not found in regex\n",
      " usa not found in regex\n",
      " usa not found in regex\n",
      " usa not found in regex\n",
      " not found in regex\n",
      " usa not found in regex\n",
      " usa not found in regex\n",
      " usa not found in regex\n",
      " usa not found in regex\n",
      " usa not found in regex\n",
      " usa not found in regex\n",
      " usa not found in regex\n",
      " usa not found in regex\n",
      " usa not found in regex\n",
      " usa not found in regex\n",
      " usa not found in regex\n",
      " usa not found in regex\n",
      " usa not found in regex\n",
      " usa not found in regex\n",
      " usa not found in regex\n",
      " usa not found in regex\n",
      " usa not found in regex\n",
      " usa not found in regex\n",
      " usa not found in regex\n",
      " usa not found in regex\n",
      " usa not found in regex\n",
      " usa not found in regex\n",
      " usa not found in regex\n",
      " usa not found in regex\n",
      " usa not found in regex\n",
      " usa not found in regex\n",
      " usa not found in regex\n",
      " usa not found in regex\n",
      " usa not found in regex\n",
      " usa not found in regex\n",
      " usa not found in regex\n",
      " usa not found in regex\n",
      " usa not found in regex\n",
      " usa not found in regex\n",
      " usa not found in regex\n",
      " usa not found in regex\n",
      " usa not found in regex\n",
      " usa not found in regex\n",
      " usa not found in regex\n",
      " usa not found in regex\n",
      " not found in regex\n",
      " usa not found in regex\n",
      " usa not found in regex\n",
      " usa not found in regex\n",
      " usa not found in regex\n",
      " usa not found in regex\n",
      " usa not found in regex\n",
      " usa not found in regex\n",
      " usa not found in regex\n",
      " usa not found in regex\n",
      " usa not found in regex\n",
      " usa not found in regex\n",
      " usa not found in regex\n",
      " usa not found in regex\n"
     ]
    },
    {
     "name": "stderr",
     "output_type": "stream",
     "text": [
      " usa not found in regex\n",
      " usa not found in regex\n",
      " usa not found in regex\n",
      " usa not found in regex\n",
      " usa not found in regex\n",
      " usa not found in regex\n",
      " not found in regex\n",
      " usa not found in regex\n",
      " usa not found in regex\n",
      " usa not found in regex\n",
      " usa not found in regex\n",
      " usa not found in regex\n",
      " usa not found in regex\n",
      " usa not found in regex\n",
      " usa not found in regex\n",
      " usa not found in regex\n",
      " usa not found in regex\n",
      " usa not found in regex\n",
      " usa not found in regex\n",
      " usa not found in regex\n",
      " usa not found in regex\n",
      " usa not found in regex\n",
      " usa not found in regex\n",
      " usa not found in regex\n",
      " usa not found in regex\n",
      " usa not found in regex\n",
      " usa not found in regex\n",
      " usa not found in regex\n",
      " usa not found in regex\n",
      " usa not found in regex\n",
      " usa not found in regex\n",
      " usa not found in regex\n",
      " usa not found in regex\n",
      " usa not found in regex\n",
      " usa not found in regex\n",
      " usa not found in regex\n",
      " usa not found in regex\n",
      " usa not found in regex\n",
      " usa not found in regex\n",
      " usa not found in regex\n",
      " usa not found in regex\n",
      " usa not found in regex\n",
      " usa not found in regex\n",
      " usa not found in regex\n",
      " usa not found in regex\n",
      " usa not found in regex\n",
      " usa not found in regex\n",
      " usa not found in regex\n",
      " usa not found in regex\n",
      " usa not found in regex\n",
      " usa not found in regex\n",
      " usa not found in regex\n",
      " usa not found in regex\n",
      " usa not found in regex\n",
      " usa not found in regex\n",
      " usa not found in regex\n",
      " usa not found in regex\n",
      " usa not found in regex\n",
      " usa not found in regex\n",
      " usa not found in regex\n",
      " usa not found in regex\n",
      " usa not found in regex\n",
      " usa not found in regex\n",
      " usa not found in regex\n",
      " usa not found in regex\n",
      " usa not found in regex\n",
      " usa not found in regex\n",
      " usa not found in regex\n",
      " usa not found in regex\n",
      " usa not found in regex\n",
      " usa not found in regex\n",
      " usa not found in regex\n",
      " usa not found in regex\n",
      " usa not found in regex\n",
      " usa not found in regex\n",
      " usa not found in regex\n",
      " usa not found in regex\n",
      " usa not found in regex\n",
      " usa not found in regex\n",
      " usa not found in regex\n",
      " usa not found in regex\n",
      " usa not found in regex\n",
      " usa not found in regex\n",
      " usa not found in regex\n",
      " usa not found in regex\n",
      " not found in regex\n",
      " usa not found in regex\n",
      " usa not found in regex\n",
      " not found in regex\n",
      " usa not found in regex\n",
      " usa not found in regex\n",
      " usa not found in regex\n",
      " usa not found in regex\n",
      " usa not found in regex\n",
      " usa not found in regex\n",
      " usa not found in regex\n",
      " usa not found in regex\n",
      " usa not found in regex\n",
      " not found in regex\n",
      " usa not found in regex\n",
      " usa not found in regex\n",
      " usa not found in regex\n",
      " usa not found in regex\n",
      " usa not found in regex\n",
      " usa not found in regex\n",
      " usa not found in regex\n",
      " usa not found in regex\n",
      " usa not found in regex\n",
      " usa not found in regex\n",
      " usa not found in regex\n",
      " usa not found in regex\n",
      " usa not found in regex\n",
      " not found in regex\n",
      " usa not found in regex\n",
      " usa not found in regex\n",
      " usa not found in regex\n",
      " usa not found in regex\n",
      " usa not found in regex\n",
      " usa not found in regex\n",
      " usa not found in regex\n",
      " usa not found in regex\n",
      " usa not found in regex\n",
      " usa not found in regex\n",
      " usa not found in regex\n",
      " usa not found in regex\n",
      " usa not found in regex\n",
      " usa not found in regex\n",
      " usa not found in regex\n",
      " usa not found in regex\n",
      " usa not found in regex\n",
      " usa not found in regex\n",
      " usa not found in regex\n",
      " usa not found in regex\n",
      " usa not found in regex\n",
      " usa not found in regex\n",
      " usa not found in regex\n",
      " usa not found in regex\n",
      " usa not found in regex\n",
      " usa not found in regex\n",
      " not found in regex\n",
      " usa not found in regex\n",
      " usa not found in regex\n",
      " usa not found in regex\n",
      " usa not found in regex\n",
      " usa not found in regex\n",
      " usa not found in regex\n",
      " usa not found in regex\n",
      " usa not found in regex\n",
      " usa not found in regex\n",
      " usa not found in regex\n",
      " usa not found in regex\n",
      " usa not found in regex\n",
      " usa not found in regex\n",
      " usa not found in regex\n",
      " usa not found in regex\n",
      " usa not found in regex\n",
      " usa not found in regex\n",
      " usa not found in regex\n",
      " usa not found in regex\n",
      " usa not found in regex\n",
      " usa not found in regex\n",
      " not found in regex\n",
      " usa not found in regex\n",
      " usa not found in regex\n",
      " usa not found in regex\n",
      " usa not found in regex\n",
      " usa not found in regex\n",
      " usa not found in regex\n",
      " usa not found in regex\n",
      " usa not found in regex\n",
      " usa not found in regex\n",
      " usa not found in regex\n",
      " usa not found in regex\n",
      " usa not found in regex\n",
      " usa not found in regex\n",
      " usa not found in regex\n",
      " usa not found in regex\n",
      " not found in regex\n",
      " usa not found in regex\n",
      " usa not found in regex\n",
      " usa not found in regex\n",
      " usa not found in regex\n",
      " usa not found in regex\n",
      " usa not found in regex\n",
      " usa not found in regex\n",
      " usa not found in regex\n",
      " usa not found in regex\n",
      " usa not found in regex\n",
      " usa not found in regex\n",
      " usa not found in regex\n",
      " usa not found in regex\n",
      " usa not found in regex\n",
      " usa not found in regex\n",
      " usa not found in regex\n",
      " usa not found in regex\n",
      " usa not found in regex\n",
      " usa not found in regex\n",
      " usa not found in regex\n",
      " usa not found in regex\n",
      " usa not found in regex\n",
      " usa not found in regex\n",
      " usa not found in regex\n",
      " usa not found in regex\n",
      " usa not found in regex\n",
      " usa not found in regex\n",
      " usa not found in regex\n",
      " usa not found in regex\n",
      " usa not found in regex\n",
      " usa not found in regex\n",
      " not found in regex\n",
      " usa not found in regex\n",
      " usa not found in regex\n",
      " usa not found in regex\n",
      " usa not found in regex\n",
      " usa not found in regex\n",
      " usa not found in regex\n",
      " usa not found in regex\n",
      " usa not found in regex\n",
      " usa not found in regex\n",
      " usa not found in regex\n",
      " usa not found in regex\n",
      " usa not found in regex\n",
      " usa not found in regex\n",
      " not found in regex\n",
      " usa not found in regex\n",
      " usa not found in regex\n",
      " usa not found in regex\n",
      " usa not found in regex\n",
      " usa not found in regex\n",
      " usa not found in regex\n",
      " usa not found in regex\n",
      " usa not found in regex\n",
      " usa not found in regex\n",
      " usa not found in regex\n",
      " usa not found in regex\n",
      " usa not found in regex\n",
      " usa not found in regex\n",
      " usa not found in regex\n",
      " usa not found in regex\n",
      " not found in regex\n",
      " usa not found in regex\n",
      " usa not found in regex\n",
      " usa not found in regex\n",
      " usa not found in regex\n",
      " usa not found in regex\n",
      " usa not found in regex\n",
      " usa not found in regex\n",
      " usa not found in regex\n",
      " usa not found in regex\n",
      " usa not found in regex\n",
      " usa not found in regex\n",
      " usa not found in regex\n",
      " usa not found in regex\n",
      " usa not found in regex\n",
      " usa not found in regex\n",
      " usa not found in regex\n",
      " usa not found in regex\n",
      " usa not found in regex\n",
      " usa not found in regex\n",
      " usa not found in regex\n",
      " usa not found in regex\n",
      " usa not found in regex\n",
      " usa not found in regex\n",
      " usa not found in regex\n",
      " usa not found in regex\n",
      " usa not found in regex\n",
      " usa not found in regex\n",
      " usa not found in regex\n",
      " usa not found in regex\n",
      " usa not found in regex\n",
      " usa not found in regex\n",
      " usa not found in regex\n",
      " usa not found in regex\n",
      " usa not found in regex\n",
      " usa not found in regex\n",
      " usa not found in regex\n",
      " usa not found in regex\n",
      " usa not found in regex\n",
      " usa not found in regex\n",
      " usa not found in regex\n",
      " usa not found in regex\n",
      " usa not found in regex\n",
      " usa not found in regex\n",
      " usa not found in regex\n",
      " usa not found in regex\n",
      " usa not found in regex\n",
      " usa not found in regex\n",
      " usa not found in regex\n",
      " usa not found in regex\n",
      " usa not found in regex\n",
      " usa not found in regex\n",
      " usa not found in regex\n",
      " usa not found in regex\n",
      " usa not found in regex\n",
      " usa not found in regex\n",
      " usa not found in regex\n",
      " usa not found in regex\n",
      " usa not found in regex\n",
      " usa not found in regex\n",
      " usa not found in regex\n",
      " usa not found in regex\n",
      " usa not found in regex\n",
      " usa not found in regex\n",
      " usa not found in regex\n",
      " usa not found in regex\n",
      " usa not found in regex\n",
      " usa not found in regex\n",
      " usa not found in regex\n",
      " usa not found in regex\n",
      " usa not found in regex\n",
      " usa not found in regex\n",
      " usa not found in regex\n",
      " usa not found in regex\n",
      " usa not found in regex\n",
      " usa not found in regex\n",
      " usa not found in regex\n",
      " usa not found in regex\n",
      " usa not found in regex\n",
      " usa not found in regex\n",
      " usa not found in regex\n",
      " usa not found in regex\n",
      " usa not found in regex\n",
      " usa not found in regex\n",
      " usa not found in regex\n",
      " usa not found in regex\n",
      " usa not found in regex\n",
      " usa not found in regex\n",
      " usa not found in regex\n",
      " usa not found in regex\n",
      " usa not found in regex\n",
      " usa not found in regex\n",
      " not found in regex\n",
      " usa not found in regex\n",
      " usa not found in regex\n",
      " usa not found in regex\n",
      " usa not found in regex\n",
      " not found in regex\n",
      " usa not found in regex\n",
      " usa not found in regex\n",
      " usa not found in regex\n",
      " usa not found in regex\n",
      " usa not found in regex\n",
      " usa not found in regex\n",
      " usa not found in regex\n"
     ]
    },
    {
     "name": "stderr",
     "output_type": "stream",
     "text": [
      " usa not found in regex\n",
      " usa not found in regex\n",
      " usa not found in regex\n",
      " usa not found in regex\n",
      " usa not found in regex\n",
      " usa not found in regex\n",
      " usa not found in regex\n",
      " not found in regex\n",
      " usa not found in regex\n",
      " usa not found in regex\n",
      " usa not found in regex\n",
      " usa not found in regex\n",
      " usa not found in regex\n",
      " usa not found in regex\n",
      " usa not found in regex\n",
      " usa not found in regex\n",
      " usa not found in regex\n",
      " usa not found in regex\n",
      " usa not found in regex\n",
      " usa not found in regex\n",
      " usa not found in regex\n",
      " usa not found in regex\n",
      " usa not found in regex\n",
      " usa not found in regex\n",
      " usa not found in regex\n",
      " usa not found in regex\n",
      " usa not found in regex\n",
      " usa not found in regex\n",
      " usa not found in regex\n",
      " usa not found in regex\n",
      " usa not found in regex\n",
      " usa not found in regex\n",
      " usa not found in regex\n",
      " usa not found in regex\n",
      " usa not found in regex\n",
      " usa not found in regex\n",
      " usa not found in regex\n",
      " usa not found in regex\n",
      " usa not found in regex\n",
      " usa not found in regex\n",
      " usa not found in regex\n",
      " usa not found in regex\n",
      " usa not found in regex\n",
      " usa not found in regex\n",
      " usa not found in regex\n",
      " usa not found in regex\n",
      " usa not found in regex\n",
      " usa not found in regex\n",
      " usa not found in regex\n",
      " usa not found in regex\n",
      " usa not found in regex\n",
      " usa not found in regex\n",
      " usa not found in regex\n",
      " usa not found in regex\n",
      " usa not found in regex\n",
      " usa not found in regex\n",
      " usa not found in regex\n",
      " usa not found in regex\n",
      " usa not found in regex\n",
      " usa not found in regex\n",
      " usa not found in regex\n",
      " usa not found in regex\n",
      " usa not found in regex\n",
      " usa not found in regex\n",
      " usa not found in regex\n",
      " usa not found in regex\n",
      " usa not found in regex\n",
      " usa not found in regex\n",
      " usa not found in regex\n",
      " usa not found in regex\n",
      " usa not found in regex\n",
      " usa not found in regex\n",
      " usa not found in regex\n",
      " usa not found in regex\n",
      " usa not found in regex\n",
      " usa not found in regex\n",
      " usa not found in regex\n",
      " usa not found in regex\n",
      " usa not found in regex\n",
      " usa not found in regex\n",
      " usa not found in regex\n",
      " usa not found in regex\n",
      " usa not found in regex\n",
      " usa not found in regex\n",
      " usa not found in regex\n",
      " usa not found in regex\n",
      " not found in regex\n",
      " usa not found in regex\n",
      " usa not found in regex\n",
      " usa not found in regex\n",
      " usa not found in regex\n",
      " usa not found in regex\n",
      " usa not found in regex\n",
      " usa not found in regex\n",
      " usa not found in regex\n",
      " usa not found in regex\n",
      " usa not found in regex\n",
      " usa not found in regex\n",
      " usa not found in regex\n",
      " usa not found in regex\n",
      " usa not found in regex\n",
      " usa not found in regex\n",
      " usa not found in regex\n",
      " usa not found in regex\n",
      " usa not found in regex\n",
      " not found in regex\n",
      " usa not found in regex\n",
      " not found in regex\n",
      " usa not found in regex\n",
      " usa not found in regex\n",
      " usa not found in regex\n",
      " usa not found in regex\n",
      " usa not found in regex\n",
      " usa not found in regex\n",
      " usa not found in regex\n",
      " usa not found in regex\n",
      " usa not found in regex\n",
      " usa not found in regex\n",
      " usa not found in regex\n",
      " usa not found in regex\n",
      " usa not found in regex\n",
      " usa not found in regex\n",
      " usa not found in regex\n",
      " usa not found in regex\n",
      " usa not found in regex\n",
      " usa not found in regex\n",
      " usa not found in regex\n",
      " usa not found in regex\n",
      " usa not found in regex\n",
      " usa not found in regex\n",
      " usa not found in regex\n",
      " usa not found in regex\n",
      " usa not found in regex\n",
      " usa not found in regex\n",
      " usa not found in regex\n",
      " usa not found in regex\n",
      " usa not found in regex\n",
      " usa not found in regex\n",
      " usa not found in regex\n",
      " usa not found in regex\n",
      " usa not found in regex\n",
      " usa not found in regex\n"
     ]
    }
   ],
   "source": [
    "converted_country=coco.convert(names=user_info_df[\"Country\"], to=\"ISO3\")\n",
    "user_info_df[\"Country\"]=converted_country"
   ]
  },
  {
   "cell_type": "code",
   "execution_count": 374,
   "metadata": {
    "pycharm": {
     "name": "#%%\n"
    }
   },
   "outputs": [
    {
     "name": "stderr",
     "output_type": "stream",
     "text": [
      "C:\\Users\\ad\\AppData\\Local\\Temp\\ipykernel_5016\\4526237.py:1: SettingWithCopyWarning:\n",
      "\n",
      "\n",
      "A value is trying to be set on a copy of a slice from a DataFrame\n",
      "\n",
      "See the caveats in the documentation: https://pandas.pydata.org/pandas-docs/stable/user_guide/indexing.html#returning-a-view-versus-a-copy\n",
      "\n"
     ]
    },
    {
     "data": {
      "application/vnd.plotly.v1+json": {
       "config": {
        "plotlyServerURL": "https://plot.ly"
       },
       "data": [
        {
         "coloraxis": "coloraxis",
         "geo": "geo",
         "hovertemplate": "locations=%{location}<br>color=%{z}<extra></extra>",
         "locations": [
          "USA",
          "CAN",
          "GBR",
          "AUS",
          "DEU",
          "PRT",
          "ESP",
          "FRA",
          "MYS",
          "NLD",
          "AUT",
          "FIN",
          "CHE",
          "ROU",
          "NZL",
          "PHL",
          "IRN",
          "SGP",
          "BRA",
          "JPN",
          "IRL",
          "ITA",
          "DNK",
          "NOR",
          "POL",
          "QAT",
          "BEL",
          "CHN",
          "DOM",
          "SWE",
          "ISL",
          "CZE",
          "EGY",
          "MMR",
          "CYP",
          "RUS",
          "ZAF",
          "KWT",
          "HKG",
          "TWN",
          "BGR",
          "TTO"
         ],
         "name": "",
         "type": "choropleth",
         "z": [
          2205,
          284,
          113,
          54,
          49,
          35,
          33,
          31,
          24,
          22,
          10,
          9,
          8,
          6,
          6,
          5,
          5,
          5,
          4,
          4,
          3,
          3,
          3,
          2,
          2,
          2,
          2,
          2,
          2,
          1,
          1,
          1,
          1,
          1,
          1,
          1,
          1,
          1,
          1,
          1,
          1,
          1
         ]
        }
       ],
       "layout": {
        "coloraxis": {
         "colorbar": {
          "title": {
           "text": "color"
          }
         },
         "colorscale": [
          [
           0,
           "rgb(230, 240, 240)"
          ],
          [
           0.09090909090909091,
           "rgb(191, 221, 229)"
          ],
          [
           0.18181818181818182,
           "rgb(156, 201, 226)"
          ],
          [
           0.2727272727272727,
           "rgb(129, 180, 227)"
          ],
          [
           0.36363636363636365,
           "rgb(115, 154, 228)"
          ],
          [
           0.45454545454545453,
           "rgb(117, 127, 221)"
          ],
          [
           0.5454545454545454,
           "rgb(120, 100, 202)"
          ],
          [
           0.6363636363636364,
           "rgb(119, 74, 175)"
          ],
          [
           0.7272727272727273,
           "rgb(113, 50, 141)"
          ],
          [
           0.8181818181818182,
           "rgb(100, 31, 104)"
          ],
          [
           0.9090909090909091,
           "rgb(80, 20, 66)"
          ],
          [
           1,
           "rgb(54, 14, 36)"
          ]
         ]
        },
        "font": {
         "family": "Franklin Gothic",
         "size": 17
        },
        "geo": {
         "center": {},
         "domain": {
          "x": [
           0,
           1
          ],
          "y": [
           0,
           1
          ]
         }
        },
        "legend": {
         "tracegroupgap": 0
        },
        "template": {
         "data": {
          "bar": [
           {
            "error_x": {
             "color": "#f2f5fa"
            },
            "error_y": {
             "color": "#f2f5fa"
            },
            "marker": {
             "line": {
              "color": "rgb(17,17,17)",
              "width": 0.5
             },
             "pattern": {
              "fillmode": "overlay",
              "size": 10,
              "solidity": 0.2
             }
            },
            "type": "bar"
           }
          ],
          "barpolar": [
           {
            "marker": {
             "line": {
              "color": "rgb(17,17,17)",
              "width": 0.5
             },
             "pattern": {
              "fillmode": "overlay",
              "size": 10,
              "solidity": 0.2
             }
            },
            "type": "barpolar"
           }
          ],
          "carpet": [
           {
            "aaxis": {
             "endlinecolor": "#A2B1C6",
             "gridcolor": "#506784",
             "linecolor": "#506784",
             "minorgridcolor": "#506784",
             "startlinecolor": "#A2B1C6"
            },
            "baxis": {
             "endlinecolor": "#A2B1C6",
             "gridcolor": "#506784",
             "linecolor": "#506784",
             "minorgridcolor": "#506784",
             "startlinecolor": "#A2B1C6"
            },
            "type": "carpet"
           }
          ],
          "choropleth": [
           {
            "colorbar": {
             "outlinewidth": 0,
             "ticks": ""
            },
            "type": "choropleth"
           }
          ],
          "contour": [
           {
            "colorbar": {
             "outlinewidth": 0,
             "ticks": ""
            },
            "colorscale": [
             [
              0,
              "#0d0887"
             ],
             [
              0.1111111111111111,
              "#46039f"
             ],
             [
              0.2222222222222222,
              "#7201a8"
             ],
             [
              0.3333333333333333,
              "#9c179e"
             ],
             [
              0.4444444444444444,
              "#bd3786"
             ],
             [
              0.5555555555555556,
              "#d8576b"
             ],
             [
              0.6666666666666666,
              "#ed7953"
             ],
             [
              0.7777777777777778,
              "#fb9f3a"
             ],
             [
              0.8888888888888888,
              "#fdca26"
             ],
             [
              1,
              "#f0f921"
             ]
            ],
            "type": "contour"
           }
          ],
          "contourcarpet": [
           {
            "colorbar": {
             "outlinewidth": 0,
             "ticks": ""
            },
            "type": "contourcarpet"
           }
          ],
          "heatmap": [
           {
            "colorbar": {
             "outlinewidth": 0,
             "ticks": ""
            },
            "colorscale": [
             [
              0,
              "#0d0887"
             ],
             [
              0.1111111111111111,
              "#46039f"
             ],
             [
              0.2222222222222222,
              "#7201a8"
             ],
             [
              0.3333333333333333,
              "#9c179e"
             ],
             [
              0.4444444444444444,
              "#bd3786"
             ],
             [
              0.5555555555555556,
              "#d8576b"
             ],
             [
              0.6666666666666666,
              "#ed7953"
             ],
             [
              0.7777777777777778,
              "#fb9f3a"
             ],
             [
              0.8888888888888888,
              "#fdca26"
             ],
             [
              1,
              "#f0f921"
             ]
            ],
            "type": "heatmap"
           }
          ],
          "heatmapgl": [
           {
            "colorbar": {
             "outlinewidth": 0,
             "ticks": ""
            },
            "colorscale": [
             [
              0,
              "#0d0887"
             ],
             [
              0.1111111111111111,
              "#46039f"
             ],
             [
              0.2222222222222222,
              "#7201a8"
             ],
             [
              0.3333333333333333,
              "#9c179e"
             ],
             [
              0.4444444444444444,
              "#bd3786"
             ],
             [
              0.5555555555555556,
              "#d8576b"
             ],
             [
              0.6666666666666666,
              "#ed7953"
             ],
             [
              0.7777777777777778,
              "#fb9f3a"
             ],
             [
              0.8888888888888888,
              "#fdca26"
             ],
             [
              1,
              "#f0f921"
             ]
            ],
            "type": "heatmapgl"
           }
          ],
          "histogram": [
           {
            "marker": {
             "pattern": {
              "fillmode": "overlay",
              "size": 10,
              "solidity": 0.2
             }
            },
            "type": "histogram"
           }
          ],
          "histogram2d": [
           {
            "colorbar": {
             "outlinewidth": 0,
             "ticks": ""
            },
            "colorscale": [
             [
              0,
              "#0d0887"
             ],
             [
              0.1111111111111111,
              "#46039f"
             ],
             [
              0.2222222222222222,
              "#7201a8"
             ],
             [
              0.3333333333333333,
              "#9c179e"
             ],
             [
              0.4444444444444444,
              "#bd3786"
             ],
             [
              0.5555555555555556,
              "#d8576b"
             ],
             [
              0.6666666666666666,
              "#ed7953"
             ],
             [
              0.7777777777777778,
              "#fb9f3a"
             ],
             [
              0.8888888888888888,
              "#fdca26"
             ],
             [
              1,
              "#f0f921"
             ]
            ],
            "type": "histogram2d"
           }
          ],
          "histogram2dcontour": [
           {
            "colorbar": {
             "outlinewidth": 0,
             "ticks": ""
            },
            "colorscale": [
             [
              0,
              "#0d0887"
             ],
             [
              0.1111111111111111,
              "#46039f"
             ],
             [
              0.2222222222222222,
              "#7201a8"
             ],
             [
              0.3333333333333333,
              "#9c179e"
             ],
             [
              0.4444444444444444,
              "#bd3786"
             ],
             [
              0.5555555555555556,
              "#d8576b"
             ],
             [
              0.6666666666666666,
              "#ed7953"
             ],
             [
              0.7777777777777778,
              "#fb9f3a"
             ],
             [
              0.8888888888888888,
              "#fdca26"
             ],
             [
              1,
              "#f0f921"
             ]
            ],
            "type": "histogram2dcontour"
           }
          ],
          "mesh3d": [
           {
            "colorbar": {
             "outlinewidth": 0,
             "ticks": ""
            },
            "type": "mesh3d"
           }
          ],
          "parcoords": [
           {
            "line": {
             "colorbar": {
              "outlinewidth": 0,
              "ticks": ""
             }
            },
            "type": "parcoords"
           }
          ],
          "pie": [
           {
            "automargin": true,
            "type": "pie"
           }
          ],
          "scatter": [
           {
            "marker": {
             "line": {
              "color": "#283442"
             }
            },
            "type": "scatter"
           }
          ],
          "scatter3d": [
           {
            "line": {
             "colorbar": {
              "outlinewidth": 0,
              "ticks": ""
             }
            },
            "marker": {
             "colorbar": {
              "outlinewidth": 0,
              "ticks": ""
             }
            },
            "type": "scatter3d"
           }
          ],
          "scattercarpet": [
           {
            "marker": {
             "colorbar": {
              "outlinewidth": 0,
              "ticks": ""
             }
            },
            "type": "scattercarpet"
           }
          ],
          "scattergeo": [
           {
            "marker": {
             "colorbar": {
              "outlinewidth": 0,
              "ticks": ""
             }
            },
            "type": "scattergeo"
           }
          ],
          "scattergl": [
           {
            "marker": {
             "line": {
              "color": "#283442"
             }
            },
            "type": "scattergl"
           }
          ],
          "scattermapbox": [
           {
            "marker": {
             "colorbar": {
              "outlinewidth": 0,
              "ticks": ""
             }
            },
            "type": "scattermapbox"
           }
          ],
          "scatterpolar": [
           {
            "marker": {
             "colorbar": {
              "outlinewidth": 0,
              "ticks": ""
             }
            },
            "type": "scatterpolar"
           }
          ],
          "scatterpolargl": [
           {
            "marker": {
             "colorbar": {
              "outlinewidth": 0,
              "ticks": ""
             }
            },
            "type": "scatterpolargl"
           }
          ],
          "scatterternary": [
           {
            "marker": {
             "colorbar": {
              "outlinewidth": 0,
              "ticks": ""
             }
            },
            "type": "scatterternary"
           }
          ],
          "surface": [
           {
            "colorbar": {
             "outlinewidth": 0,
             "ticks": ""
            },
            "colorscale": [
             [
              0,
              "#0d0887"
             ],
             [
              0.1111111111111111,
              "#46039f"
             ],
             [
              0.2222222222222222,
              "#7201a8"
             ],
             [
              0.3333333333333333,
              "#9c179e"
             ],
             [
              0.4444444444444444,
              "#bd3786"
             ],
             [
              0.5555555555555556,
              "#d8576b"
             ],
             [
              0.6666666666666666,
              "#ed7953"
             ],
             [
              0.7777777777777778,
              "#fb9f3a"
             ],
             [
              0.8888888888888888,
              "#fdca26"
             ],
             [
              1,
              "#f0f921"
             ]
            ],
            "type": "surface"
           }
          ],
          "table": [
           {
            "cells": {
             "fill": {
              "color": "#506784"
             },
             "line": {
              "color": "rgb(17,17,17)"
             }
            },
            "header": {
             "fill": {
              "color": "#2a3f5f"
             },
             "line": {
              "color": "rgb(17,17,17)"
             }
            },
            "type": "table"
           }
          ]
         },
         "layout": {
          "annotationdefaults": {
           "arrowcolor": "#f2f5fa",
           "arrowhead": 0,
           "arrowwidth": 1
          },
          "autotypenumbers": "strict",
          "coloraxis": {
           "colorbar": {
            "outlinewidth": 0,
            "ticks": ""
           }
          },
          "colorscale": {
           "diverging": [
            [
             0,
             "#8e0152"
            ],
            [
             0.1,
             "#c51b7d"
            ],
            [
             0.2,
             "#de77ae"
            ],
            [
             0.3,
             "#f1b6da"
            ],
            [
             0.4,
             "#fde0ef"
            ],
            [
             0.5,
             "#f7f7f7"
            ],
            [
             0.6,
             "#e6f5d0"
            ],
            [
             0.7,
             "#b8e186"
            ],
            [
             0.8,
             "#7fbc41"
            ],
            [
             0.9,
             "#4d9221"
            ],
            [
             1,
             "#276419"
            ]
           ],
           "sequential": [
            [
             0,
             "#0d0887"
            ],
            [
             0.1111111111111111,
             "#46039f"
            ],
            [
             0.2222222222222222,
             "#7201a8"
            ],
            [
             0.3333333333333333,
             "#9c179e"
            ],
            [
             0.4444444444444444,
             "#bd3786"
            ],
            [
             0.5555555555555556,
             "#d8576b"
            ],
            [
             0.6666666666666666,
             "#ed7953"
            ],
            [
             0.7777777777777778,
             "#fb9f3a"
            ],
            [
             0.8888888888888888,
             "#fdca26"
            ],
            [
             1,
             "#f0f921"
            ]
           ],
           "sequentialminus": [
            [
             0,
             "#0d0887"
            ],
            [
             0.1111111111111111,
             "#46039f"
            ],
            [
             0.2222222222222222,
             "#7201a8"
            ],
            [
             0.3333333333333333,
             "#9c179e"
            ],
            [
             0.4444444444444444,
             "#bd3786"
            ],
            [
             0.5555555555555556,
             "#d8576b"
            ],
            [
             0.6666666666666666,
             "#ed7953"
            ],
            [
             0.7777777777777778,
             "#fb9f3a"
            ],
            [
             0.8888888888888888,
             "#fdca26"
            ],
            [
             1,
             "#f0f921"
            ]
           ]
          },
          "colorway": [
           "#636efa",
           "#EF553B",
           "#00cc96",
           "#ab63fa",
           "#FFA15A",
           "#19d3f3",
           "#FF6692",
           "#B6E880",
           "#FF97FF",
           "#FECB52"
          ],
          "font": {
           "color": "#f2f5fa"
          },
          "geo": {
           "bgcolor": "rgb(17,17,17)",
           "lakecolor": "rgb(17,17,17)",
           "landcolor": "rgb(17,17,17)",
           "showlakes": true,
           "showland": true,
           "subunitcolor": "#506784"
          },
          "hoverlabel": {
           "align": "left"
          },
          "hovermode": "closest",
          "mapbox": {
           "style": "dark"
          },
          "paper_bgcolor": "rgb(17,17,17)",
          "plot_bgcolor": "rgb(17,17,17)",
          "polar": {
           "angularaxis": {
            "gridcolor": "#506784",
            "linecolor": "#506784",
            "ticks": ""
           },
           "bgcolor": "rgb(17,17,17)",
           "radialaxis": {
            "gridcolor": "#506784",
            "linecolor": "#506784",
            "ticks": ""
           }
          },
          "scene": {
           "xaxis": {
            "backgroundcolor": "rgb(17,17,17)",
            "gridcolor": "#506784",
            "gridwidth": 2,
            "linecolor": "#506784",
            "showbackground": true,
            "ticks": "",
            "zerolinecolor": "#C8D4E3"
           },
           "yaxis": {
            "backgroundcolor": "rgb(17,17,17)",
            "gridcolor": "#506784",
            "gridwidth": 2,
            "linecolor": "#506784",
            "showbackground": true,
            "ticks": "",
            "zerolinecolor": "#C8D4E3"
           },
           "zaxis": {
            "backgroundcolor": "rgb(17,17,17)",
            "gridcolor": "#506784",
            "gridwidth": 2,
            "linecolor": "#506784",
            "showbackground": true,
            "ticks": "",
            "zerolinecolor": "#C8D4E3"
           }
          },
          "shapedefaults": {
           "line": {
            "color": "#f2f5fa"
           }
          },
          "sliderdefaults": {
           "bgcolor": "#C8D4E3",
           "bordercolor": "rgb(17,17,17)",
           "borderwidth": 1,
           "tickwidth": 0
          },
          "ternary": {
           "aaxis": {
            "gridcolor": "#506784",
            "linecolor": "#506784",
            "ticks": ""
           },
           "baxis": {
            "gridcolor": "#506784",
            "linecolor": "#506784",
            "ticks": ""
           },
           "bgcolor": "rgb(17,17,17)",
           "caxis": {
            "gridcolor": "#506784",
            "linecolor": "#506784",
            "ticks": ""
           }
          },
          "title": {
           "x": 0.05
          },
          "updatemenudefaults": {
           "bgcolor": "#506784",
           "borderwidth": 0
          },
          "xaxis": {
           "automargin": true,
           "gridcolor": "#283442",
           "linecolor": "#506784",
           "ticks": "",
           "title": {
            "standoff": 15
           },
           "zerolinecolor": "#283442",
           "zerolinewidth": 2
          },
          "yaxis": {
           "automargin": true,
           "gridcolor": "#283442",
           "linecolor": "#506784",
           "ticks": "",
           "title": {
            "standoff": 15
           },
           "zerolinecolor": "#283442",
           "zerolinewidth": 2
          }
         }
        },
        "title": {
         "text": "Distribution of users by countries"
        }
       }
      },
      "text/html": [
       "<div>                            <div id=\"0d898ff7-5ea1-4ee3-804e-65809b84e434\" class=\"plotly-graph-div\" style=\"height:525px; width:100%;\"></div>            <script type=\"text/javascript\">                require([\"plotly\"], function(Plotly) {                    window.PLOTLYENV=window.PLOTLYENV || {};                                    if (document.getElementById(\"0d898ff7-5ea1-4ee3-804e-65809b84e434\")) {                    Plotly.newPlot(                        \"0d898ff7-5ea1-4ee3-804e-65809b84e434\",                        [{\"coloraxis\":\"coloraxis\",\"geo\":\"geo\",\"hovertemplate\":\"locations=%{location}\\u003cbr\\u003ecolor=%{z}\\u003cextra\\u003e\\u003c\\u002fextra\\u003e\",\"locations\":[\"USA\",\"CAN\",\"GBR\",\"AUS\",\"DEU\",\"PRT\",\"ESP\",\"FRA\",\"MYS\",\"NLD\",\"AUT\",\"FIN\",\"CHE\",\"ROU\",\"NZL\",\"PHL\",\"IRN\",\"SGP\",\"BRA\",\"JPN\",\"IRL\",\"ITA\",\"DNK\",\"NOR\",\"POL\",\"QAT\",\"BEL\",\"CHN\",\"DOM\",\"SWE\",\"ISL\",\"CZE\",\"EGY\",\"MMR\",\"CYP\",\"RUS\",\"ZAF\",\"KWT\",\"HKG\",\"TWN\",\"BGR\",\"TTO\"],\"name\":\"\",\"z\":[2205,284,113,54,49,35,33,31,24,22,10,9,8,6,6,5,5,5,4,4,3,3,3,2,2,2,2,2,2,1,1,1,1,1,1,1,1,1,1,1,1,1],\"type\":\"choropleth\"}],                        {\"template\":{\"data\":{\"histogram2dcontour\":[{\"type\":\"histogram2dcontour\",\"colorbar\":{\"outlinewidth\":0,\"ticks\":\"\"},\"colorscale\":[[0.0,\"#0d0887\"],[0.1111111111111111,\"#46039f\"],[0.2222222222222222,\"#7201a8\"],[0.3333333333333333,\"#9c179e\"],[0.4444444444444444,\"#bd3786\"],[0.5555555555555556,\"#d8576b\"],[0.6666666666666666,\"#ed7953\"],[0.7777777777777778,\"#fb9f3a\"],[0.8888888888888888,\"#fdca26\"],[1.0,\"#f0f921\"]]}],\"choropleth\":[{\"type\":\"choropleth\",\"colorbar\":{\"outlinewidth\":0,\"ticks\":\"\"}}],\"histogram2d\":[{\"type\":\"histogram2d\",\"colorbar\":{\"outlinewidth\":0,\"ticks\":\"\"},\"colorscale\":[[0.0,\"#0d0887\"],[0.1111111111111111,\"#46039f\"],[0.2222222222222222,\"#7201a8\"],[0.3333333333333333,\"#9c179e\"],[0.4444444444444444,\"#bd3786\"],[0.5555555555555556,\"#d8576b\"],[0.6666666666666666,\"#ed7953\"],[0.7777777777777778,\"#fb9f3a\"],[0.8888888888888888,\"#fdca26\"],[1.0,\"#f0f921\"]]}],\"heatmap\":[{\"type\":\"heatmap\",\"colorbar\":{\"outlinewidth\":0,\"ticks\":\"\"},\"colorscale\":[[0.0,\"#0d0887\"],[0.1111111111111111,\"#46039f\"],[0.2222222222222222,\"#7201a8\"],[0.3333333333333333,\"#9c179e\"],[0.4444444444444444,\"#bd3786\"],[0.5555555555555556,\"#d8576b\"],[0.6666666666666666,\"#ed7953\"],[0.7777777777777778,\"#fb9f3a\"],[0.8888888888888888,\"#fdca26\"],[1.0,\"#f0f921\"]]}],\"heatmapgl\":[{\"type\":\"heatmapgl\",\"colorbar\":{\"outlinewidth\":0,\"ticks\":\"\"},\"colorscale\":[[0.0,\"#0d0887\"],[0.1111111111111111,\"#46039f\"],[0.2222222222222222,\"#7201a8\"],[0.3333333333333333,\"#9c179e\"],[0.4444444444444444,\"#bd3786\"],[0.5555555555555556,\"#d8576b\"],[0.6666666666666666,\"#ed7953\"],[0.7777777777777778,\"#fb9f3a\"],[0.8888888888888888,\"#fdca26\"],[1.0,\"#f0f921\"]]}],\"contourcarpet\":[{\"type\":\"contourcarpet\",\"colorbar\":{\"outlinewidth\":0,\"ticks\":\"\"}}],\"contour\":[{\"type\":\"contour\",\"colorbar\":{\"outlinewidth\":0,\"ticks\":\"\"},\"colorscale\":[[0.0,\"#0d0887\"],[0.1111111111111111,\"#46039f\"],[0.2222222222222222,\"#7201a8\"],[0.3333333333333333,\"#9c179e\"],[0.4444444444444444,\"#bd3786\"],[0.5555555555555556,\"#d8576b\"],[0.6666666666666666,\"#ed7953\"],[0.7777777777777778,\"#fb9f3a\"],[0.8888888888888888,\"#fdca26\"],[1.0,\"#f0f921\"]]}],\"surface\":[{\"type\":\"surface\",\"colorbar\":{\"outlinewidth\":0,\"ticks\":\"\"},\"colorscale\":[[0.0,\"#0d0887\"],[0.1111111111111111,\"#46039f\"],[0.2222222222222222,\"#7201a8\"],[0.3333333333333333,\"#9c179e\"],[0.4444444444444444,\"#bd3786\"],[0.5555555555555556,\"#d8576b\"],[0.6666666666666666,\"#ed7953\"],[0.7777777777777778,\"#fb9f3a\"],[0.8888888888888888,\"#fdca26\"],[1.0,\"#f0f921\"]]}],\"mesh3d\":[{\"type\":\"mesh3d\",\"colorbar\":{\"outlinewidth\":0,\"ticks\":\"\"}}],\"scatter\":[{\"marker\":{\"line\":{\"color\":\"#283442\"}},\"type\":\"scatter\"}],\"parcoords\":[{\"type\":\"parcoords\",\"line\":{\"colorbar\":{\"outlinewidth\":0,\"ticks\":\"\"}}}],\"scatterpolargl\":[{\"type\":\"scatterpolargl\",\"marker\":{\"colorbar\":{\"outlinewidth\":0,\"ticks\":\"\"}}}],\"bar\":[{\"error_x\":{\"color\":\"#f2f5fa\"},\"error_y\":{\"color\":\"#f2f5fa\"},\"marker\":{\"line\":{\"color\":\"rgb(17,17,17)\",\"width\":0.5},\"pattern\":{\"fillmode\":\"overlay\",\"size\":10,\"solidity\":0.2}},\"type\":\"bar\"}],\"scattergeo\":[{\"type\":\"scattergeo\",\"marker\":{\"colorbar\":{\"outlinewidth\":0,\"ticks\":\"\"}}}],\"scatterpolar\":[{\"type\":\"scatterpolar\",\"marker\":{\"colorbar\":{\"outlinewidth\":0,\"ticks\":\"\"}}}],\"histogram\":[{\"marker\":{\"pattern\":{\"fillmode\":\"overlay\",\"size\":10,\"solidity\":0.2}},\"type\":\"histogram\"}],\"scattergl\":[{\"marker\":{\"line\":{\"color\":\"#283442\"}},\"type\":\"scattergl\"}],\"scatter3d\":[{\"type\":\"scatter3d\",\"line\":{\"colorbar\":{\"outlinewidth\":0,\"ticks\":\"\"}},\"marker\":{\"colorbar\":{\"outlinewidth\":0,\"ticks\":\"\"}}}],\"scattermapbox\":[{\"type\":\"scattermapbox\",\"marker\":{\"colorbar\":{\"outlinewidth\":0,\"ticks\":\"\"}}}],\"scatterternary\":[{\"type\":\"scatterternary\",\"marker\":{\"colorbar\":{\"outlinewidth\":0,\"ticks\":\"\"}}}],\"scattercarpet\":[{\"type\":\"scattercarpet\",\"marker\":{\"colorbar\":{\"outlinewidth\":0,\"ticks\":\"\"}}}],\"carpet\":[{\"aaxis\":{\"endlinecolor\":\"#A2B1C6\",\"gridcolor\":\"#506784\",\"linecolor\":\"#506784\",\"minorgridcolor\":\"#506784\",\"startlinecolor\":\"#A2B1C6\"},\"baxis\":{\"endlinecolor\":\"#A2B1C6\",\"gridcolor\":\"#506784\",\"linecolor\":\"#506784\",\"minorgridcolor\":\"#506784\",\"startlinecolor\":\"#A2B1C6\"},\"type\":\"carpet\"}],\"table\":[{\"cells\":{\"fill\":{\"color\":\"#506784\"},\"line\":{\"color\":\"rgb(17,17,17)\"}},\"header\":{\"fill\":{\"color\":\"#2a3f5f\"},\"line\":{\"color\":\"rgb(17,17,17)\"}},\"type\":\"table\"}],\"barpolar\":[{\"marker\":{\"line\":{\"color\":\"rgb(17,17,17)\",\"width\":0.5},\"pattern\":{\"fillmode\":\"overlay\",\"size\":10,\"solidity\":0.2}},\"type\":\"barpolar\"}],\"pie\":[{\"automargin\":true,\"type\":\"pie\"}]},\"layout\":{\"autotypenumbers\":\"strict\",\"colorway\":[\"#636efa\",\"#EF553B\",\"#00cc96\",\"#ab63fa\",\"#FFA15A\",\"#19d3f3\",\"#FF6692\",\"#B6E880\",\"#FF97FF\",\"#FECB52\"],\"font\":{\"color\":\"#f2f5fa\"},\"hovermode\":\"closest\",\"hoverlabel\":{\"align\":\"left\"},\"paper_bgcolor\":\"rgb(17,17,17)\",\"plot_bgcolor\":\"rgb(17,17,17)\",\"polar\":{\"bgcolor\":\"rgb(17,17,17)\",\"angularaxis\":{\"gridcolor\":\"#506784\",\"linecolor\":\"#506784\",\"ticks\":\"\"},\"radialaxis\":{\"gridcolor\":\"#506784\",\"linecolor\":\"#506784\",\"ticks\":\"\"}},\"ternary\":{\"bgcolor\":\"rgb(17,17,17)\",\"aaxis\":{\"gridcolor\":\"#506784\",\"linecolor\":\"#506784\",\"ticks\":\"\"},\"baxis\":{\"gridcolor\":\"#506784\",\"linecolor\":\"#506784\",\"ticks\":\"\"},\"caxis\":{\"gridcolor\":\"#506784\",\"linecolor\":\"#506784\",\"ticks\":\"\"}},\"coloraxis\":{\"colorbar\":{\"outlinewidth\":0,\"ticks\":\"\"}},\"colorscale\":{\"sequential\":[[0.0,\"#0d0887\"],[0.1111111111111111,\"#46039f\"],[0.2222222222222222,\"#7201a8\"],[0.3333333333333333,\"#9c179e\"],[0.4444444444444444,\"#bd3786\"],[0.5555555555555556,\"#d8576b\"],[0.6666666666666666,\"#ed7953\"],[0.7777777777777778,\"#fb9f3a\"],[0.8888888888888888,\"#fdca26\"],[1.0,\"#f0f921\"]],\"sequentialminus\":[[0.0,\"#0d0887\"],[0.1111111111111111,\"#46039f\"],[0.2222222222222222,\"#7201a8\"],[0.3333333333333333,\"#9c179e\"],[0.4444444444444444,\"#bd3786\"],[0.5555555555555556,\"#d8576b\"],[0.6666666666666666,\"#ed7953\"],[0.7777777777777778,\"#fb9f3a\"],[0.8888888888888888,\"#fdca26\"],[1.0,\"#f0f921\"]],\"diverging\":[[0,\"#8e0152\"],[0.1,\"#c51b7d\"],[0.2,\"#de77ae\"],[0.3,\"#f1b6da\"],[0.4,\"#fde0ef\"],[0.5,\"#f7f7f7\"],[0.6,\"#e6f5d0\"],[0.7,\"#b8e186\"],[0.8,\"#7fbc41\"],[0.9,\"#4d9221\"],[1,\"#276419\"]]},\"xaxis\":{\"gridcolor\":\"#283442\",\"linecolor\":\"#506784\",\"ticks\":\"\",\"title\":{\"standoff\":15},\"zerolinecolor\":\"#283442\",\"automargin\":true,\"zerolinewidth\":2},\"yaxis\":{\"gridcolor\":\"#283442\",\"linecolor\":\"#506784\",\"ticks\":\"\",\"title\":{\"standoff\":15},\"zerolinecolor\":\"#283442\",\"automargin\":true,\"zerolinewidth\":2},\"scene\":{\"xaxis\":{\"backgroundcolor\":\"rgb(17,17,17)\",\"gridcolor\":\"#506784\",\"linecolor\":\"#506784\",\"showbackground\":true,\"ticks\":\"\",\"zerolinecolor\":\"#C8D4E3\",\"gridwidth\":2},\"yaxis\":{\"backgroundcolor\":\"rgb(17,17,17)\",\"gridcolor\":\"#506784\",\"linecolor\":\"#506784\",\"showbackground\":true,\"ticks\":\"\",\"zerolinecolor\":\"#C8D4E3\",\"gridwidth\":2},\"zaxis\":{\"backgroundcolor\":\"rgb(17,17,17)\",\"gridcolor\":\"#506784\",\"linecolor\":\"#506784\",\"showbackground\":true,\"ticks\":\"\",\"zerolinecolor\":\"#C8D4E3\",\"gridwidth\":2}},\"shapedefaults\":{\"line\":{\"color\":\"#f2f5fa\"}},\"annotationdefaults\":{\"arrowcolor\":\"#f2f5fa\",\"arrowhead\":0,\"arrowwidth\":1},\"geo\":{\"bgcolor\":\"rgb(17,17,17)\",\"landcolor\":\"rgb(17,17,17)\",\"subunitcolor\":\"#506784\",\"showland\":true,\"showlakes\":true,\"lakecolor\":\"rgb(17,17,17)\"},\"title\":{\"x\":0.05},\"updatemenudefaults\":{\"bgcolor\":\"#506784\",\"borderwidth\":0},\"sliderdefaults\":{\"bgcolor\":\"#C8D4E3\",\"borderwidth\":1,\"bordercolor\":\"rgb(17,17,17)\",\"tickwidth\":0},\"mapbox\":{\"style\":\"dark\"}}},\"geo\":{\"domain\":{\"x\":[0.0,1.0],\"y\":[0.0,1.0]},\"center\":{}},\"coloraxis\":{\"colorbar\":{\"title\":{\"text\":\"color\"}},\"colorscale\":[[0.0,\"rgb(230, 240, 240)\"],[0.09090909090909091,\"rgb(191, 221, 229)\"],[0.18181818181818182,\"rgb(156, 201, 226)\"],[0.2727272727272727,\"rgb(129, 180, 227)\"],[0.36363636363636365,\"rgb(115, 154, 228)\"],[0.45454545454545453,\"rgb(117, 127, 221)\"],[0.5454545454545454,\"rgb(120, 100, 202)\"],[0.6363636363636364,\"rgb(119, 74, 175)\"],[0.7272727272727273,\"rgb(113, 50, 141)\"],[0.8181818181818182,\"rgb(100, 31, 104)\"],[0.9090909090909091,\"rgb(80, 20, 66)\"],[1.0,\"rgb(54, 14, 36)\"]]},\"legend\":{\"tracegroupgap\":0},\"title\":{\"text\":\"Distribution of users by countries\"},\"font\":{\"size\":17,\"family\":\"Franklin Gothic\"}},                        {\"responsive\": true}                    ).then(function(){\n",
       "                            \n",
       "var gd = document.getElementById('0d898ff7-5ea1-4ee3-804e-65809b84e434');\n",
       "var x = new MutationObserver(function (mutations, observer) {{\n",
       "        var display = window.getComputedStyle(gd).display;\n",
       "        if (!display || display === 'none') {{\n",
       "            console.log([gd, 'removed!']);\n",
       "            Plotly.purge(gd);\n",
       "            observer.disconnect();\n",
       "        }}\n",
       "}});\n",
       "\n",
       "// Listen for the removal of the full notebook cells\n",
       "var notebookContainer = gd.closest('#notebook-container');\n",
       "if (notebookContainer) {{\n",
       "    x.observe(notebookContainer, {childList: true});\n",
       "}}\n",
       "\n",
       "// Listen for the clearing of the current output cell\n",
       "var outputEl = gd.closest('.output');\n",
       "if (outputEl) {{\n",
       "    x.observe(outputEl, {childList: true});\n",
       "}}\n",
       "\n",
       "                        })                };                });            </script>        </div>"
      ]
     },
     "metadata": {},
     "output_type": "display_data"
    }
   ],
   "source": [
    "\n",
    "user_info_df['Country'].loc[user_info_df['Country']=='not found'] = 'USA'\n",
    "\n",
    "country=user_info_df[\"Country\"].value_counts()\n",
    "\n",
    "fig=px.choropleth(locations=country.index,\n",
    "                  color=country.values,\n",
    "                  color_continuous_scale=px.colors.sequential.dense,\n",
    "                  template='plotly_dark',\n",
    "                  title='Distribution of users by countries')\n",
    "\n",
    "fig.update_layout(font=dict(size=17, family=\"Franklin Gothic\"))\n",
    "fig.show()"
   ]
  },
  {
   "cell_type": "code",
   "execution_count": 346,
   "metadata": {
    "pycharm": {
     "name": "#%%\n"
    }
   },
   "outputs": [
    {
     "name": "stdout",
     "output_type": "stream",
     "text": [
      "Country\n",
      "USA    2205\n",
      "CAN     284\n",
      "GBR     113\n",
      "AUS      54\n",
      "DEU      49\n",
      "PRT      35\n",
      "ESP      33\n",
      "FRA      31\n",
      "MYS      24\n",
      "NLD      22\n",
      "AUT      10\n",
      "FIN       9\n",
      "CHE       8\n",
      "ROU       6\n",
      "NZL       6\n",
      "PHL       5\n",
      "IRN       5\n",
      "SGP       5\n",
      "BRA       4\n",
      "JPN       4\n",
      "IRL       3\n",
      "ITA       3\n",
      "DNK       3\n",
      "NOR       2\n",
      "POL       2\n",
      "QAT       2\n",
      "BEL       2\n",
      "CHN       2\n",
      "DOM       2\n",
      "SWE       1\n",
      "ISL       1\n",
      "CZE       1\n",
      "EGY       1\n",
      "MMR       1\n",
      "CYP       1\n",
      "RUS       1\n",
      "ZAF       1\n",
      "KWT       1\n",
      "HKG       1\n",
      "TWN       1\n",
      "BGR       1\n",
      "TTO       1\n",
      "Name: count, dtype: int64\n"
     ]
    }
   ],
   "source": [
    "user_info_df\n",
    "print(user_info_df['Country'].value_counts())"
   ]
  },
  {
   "cell_type": "markdown",
   "metadata": {
    "pycharm": {
     "name": "#%% md\n"
    }
   },
   "source": [
    "##  3.2  Explore ITEM INFO"
   ]
  },
  {
   "cell_type": "code",
   "execution_count": 165,
   "metadata": {
    "pycharm": {
     "name": "#%%\n"
    }
   },
   "outputs": [
    {
     "name": "stdout",
     "output_type": "stream",
     "text": [
      "   Book_ID        ISBN                                         Book-Title  \\\n",
      "0        1  0060973129                               Decision in Normandy   \n",
      "1        2  0393045218                             The Mummies of Urumchi   \n",
      "2        3  0425176428  What If?: The World's Foremost Military Histor...   \n",
      "3        4  0452264464               Beloved (Plume Contemporary Fiction)   \n",
      "4        5  0609804618  Our Dumb Century: The Onion Presents 100 Years...   \n",
      "\n",
      "       Book-Author Year-Of-Publication                  Publisher  \\\n",
      "0     Carlo D'Este                1991            HarperPerennial   \n",
      "1  E. J. W. Barber                1999  W. W. Norton &amp Company   \n",
      "2    Robert Cowley                2000   Berkley Publishing Group   \n",
      "3    Toni Morrison                1994                      Plume   \n",
      "4        The Onion                1999         Three Rivers Press   \n",
      "\n",
      "                                         Image-URL-S  \\\n",
      "0  http://images.amazon.com/images/P/0060973129.0...   \n",
      "1  http://images.amazon.com/images/P/0393045218.0...   \n",
      "2  http://images.amazon.com/images/P/0425176428.0...   \n",
      "3  http://images.amazon.com/images/P/0452264464.0...   \n",
      "4  http://images.amazon.com/images/P/0609804618.0...   \n",
      "\n",
      "                                         Image-URL-M  \\\n",
      "0  http://images.amazon.com/images/P/0060973129.0...   \n",
      "1  http://images.amazon.com/images/P/0393045218.0...   \n",
      "2  http://images.amazon.com/images/P/0425176428.0...   \n",
      "3  http://images.amazon.com/images/P/0452264464.0...   \n",
      "4  http://images.amazon.com/images/P/0609804618.0...   \n",
      "\n",
      "                                         Image-URL-L  \n",
      "0  http://images.amazon.com/images/P/0060973129.0...  \n",
      "1  http://images.amazon.com/images/P/0393045218.0...  \n",
      "2  http://images.amazon.com/images/P/0425176428.0...  \n",
      "3  http://images.amazon.com/images/P/0452264464.0...  \n",
      "4  http://images.amazon.com/images/P/0609804618.0...  \n"
     ]
    }
   ],
   "source": [
    "print(items_info_df.head())"
   ]
  },
  {
   "cell_type": "code",
   "execution_count": 166,
   "metadata": {
    "pycharm": {
     "name": "#%%\n"
    }
   },
   "outputs": [
    {
     "data": {
      "text/html": [
       "<div>\n",
       "<style scoped>\n",
       "    .dataframe tbody tr th:only-of-type {\n",
       "        vertical-align: middle;\n",
       "    }\n",
       "\n",
       "    .dataframe tbody tr th {\n",
       "        vertical-align: top;\n",
       "    }\n",
       "\n",
       "    .dataframe thead th {\n",
       "        text-align: right;\n",
       "    }\n",
       "</style>\n",
       "<table border=\"1\" class=\"dataframe\">\n",
       "  <thead>\n",
       "    <tr style=\"text-align: right;\">\n",
       "      <th></th>\n",
       "      <th>Book_ID</th>\n",
       "    </tr>\n",
       "  </thead>\n",
       "  <tbody>\n",
       "    <tr>\n",
       "      <th>count</th>\n",
       "      <td>17384.000000</td>\n",
       "    </tr>\n",
       "    <tr>\n",
       "      <th>mean</th>\n",
       "      <td>8692.500000</td>\n",
       "    </tr>\n",
       "    <tr>\n",
       "      <th>std</th>\n",
       "      <td>5018.472875</td>\n",
       "    </tr>\n",
       "    <tr>\n",
       "      <th>min</th>\n",
       "      <td>1.000000</td>\n",
       "    </tr>\n",
       "    <tr>\n",
       "      <th>25%</th>\n",
       "      <td>4346.750000</td>\n",
       "    </tr>\n",
       "    <tr>\n",
       "      <th>50%</th>\n",
       "      <td>8692.500000</td>\n",
       "    </tr>\n",
       "    <tr>\n",
       "      <th>75%</th>\n",
       "      <td>13038.250000</td>\n",
       "    </tr>\n",
       "    <tr>\n",
       "      <th>max</th>\n",
       "      <td>17384.000000</td>\n",
       "    </tr>\n",
       "  </tbody>\n",
       "</table>\n",
       "</div>"
      ],
      "text/plain": [
       "            Book_ID\n",
       "count  17384.000000\n",
       "mean    8692.500000\n",
       "std     5018.472875\n",
       "min        1.000000\n",
       "25%     4346.750000\n",
       "50%     8692.500000\n",
       "75%    13038.250000\n",
       "max    17384.000000"
      ]
     },
     "execution_count": 166,
     "metadata": {},
     "output_type": "execute_result"
    }
   ],
   "source": [
    "# describe item info df\n",
    "items_info_df.describe()"
   ]
  },
  {
   "cell_type": "code",
   "execution_count": 167,
   "metadata": {
    "pycharm": {
     "name": "#%%\n"
    }
   },
   "outputs": [
    {
     "name": "stdout",
     "output_type": "stream",
     "text": [
      "<class 'pandas.core.frame.DataFrame'>\n",
      "RangeIndex: 17384 entries, 0 to 17383\n",
      "Data columns (total 9 columns):\n",
      " #   Column               Non-Null Count  Dtype \n",
      "---  ------               --------------  ----- \n",
      " 0   Book_ID              17384 non-null  int64 \n",
      " 1   ISBN                 17384 non-null  object\n",
      " 2   Book-Title           17384 non-null  object\n",
      " 3   Book-Author          17384 non-null  object\n",
      " 4   Year-Of-Publication  17384 non-null  object\n",
      " 5   Publisher            17384 non-null  object\n",
      " 6   Image-URL-S          17384 non-null  object\n",
      " 7   Image-URL-M          17383 non-null  object\n",
      " 8   Image-URL-L          17377 non-null  object\n",
      "dtypes: int64(1), object(8)\n",
      "memory usage: 1.2+ MB\n"
     ]
    }
   ],
   "source": [
    "items_info_df.info()"
   ]
  },
  {
   "cell_type": "code",
   "execution_count": 168,
   "metadata": {
    "pycharm": {
     "name": "#%%\n"
    }
   },
   "outputs": [
    {
     "data": {
      "text/plain": [
       "Book_ID                0\n",
       "ISBN                   0\n",
       "Book-Title             0\n",
       "Book-Author            0\n",
       "Year-Of-Publication    0\n",
       "Publisher              0\n",
       "Image-URL-S            0\n",
       "Image-URL-M            1\n",
       "Image-URL-L            7\n",
       "dtype: int64"
      ]
     },
     "execution_count": 168,
     "metadata": {},
     "output_type": "execute_result"
    }
   ],
   "source": [
    "# check null values in item info\n",
    "items_info_df.isnull().sum()"
   ]
  },
  {
   "cell_type": "code",
   "execution_count": 169,
   "metadata": {
    "pycharm": {
     "name": "#%%\n"
    }
   },
   "outputs": [
    {
     "data": {
      "text/plain": [
       "Book_ID                0\n",
       "ISBN                   0\n",
       "Book-Title             0\n",
       "Book-Author            0\n",
       "Year-Of-Publication    0\n",
       "Publisher              0\n",
       "Image-URL-S            0\n",
       "Image-URL-M            1\n",
       "Image-URL-L            7\n",
       "dtype: int64"
      ]
     },
     "execution_count": 169,
     "metadata": {},
     "output_type": "execute_result"
    }
   ],
   "source": [
    "# check null values in item info\n",
    "items_info_df.isnull().sum()"
   ]
  },
  {
   "cell_type": "code",
   "execution_count": 170,
   "metadata": {
    "pycharm": {
     "name": "#%%\n"
    }
   },
   "outputs": [],
   "source": [
    "# # convert 'Year-Of-Publication' values to numeric, if cannnot convert, this value cell will be np.nan\n",
    "# items_info_df['Year-Of-Publication'] = pd.to_numeric(df['Year-Of-Publication'], errors='coerce')"
   ]
  },
  {
   "cell_type": "code",
   "execution_count": 171,
   "metadata": {
    "pycharm": {
     "name": "#%%\n"
    }
   },
   "outputs": [
    {
     "data": {
      "text/html": [
       "<div>\n",
       "<style scoped>\n",
       "    .dataframe tbody tr th:only-of-type {\n",
       "        vertical-align: middle;\n",
       "    }\n",
       "\n",
       "    .dataframe tbody tr th {\n",
       "        vertical-align: top;\n",
       "    }\n",
       "\n",
       "    .dataframe thead th {\n",
       "        text-align: right;\n",
       "    }\n",
       "</style>\n",
       "<table border=\"1\" class=\"dataframe\">\n",
       "  <thead>\n",
       "    <tr style=\"text-align: right;\">\n",
       "      <th></th>\n",
       "      <th>Book_ID</th>\n",
       "      <th>ISBN</th>\n",
       "      <th>Book-Title</th>\n",
       "      <th>Book-Author</th>\n",
       "      <th>Year-Of-Publication</th>\n",
       "      <th>Publisher</th>\n",
       "      <th>Image-URL-S</th>\n",
       "      <th>Image-URL-M</th>\n",
       "      <th>Image-URL-L</th>\n",
       "    </tr>\n",
       "  </thead>\n",
       "  <tbody>\n",
       "    <tr>\n",
       "      <th>0</th>\n",
       "      <td>1</td>\n",
       "      <td>0060973129</td>\n",
       "      <td>Decision in Normandy</td>\n",
       "      <td>Carlo D'Este</td>\n",
       "      <td>1991</td>\n",
       "      <td>HarperPerennial</td>\n",
       "      <td>http://images.amazon.com/images/P/0060973129.0...</td>\n",
       "      <td>http://images.amazon.com/images/P/0060973129.0...</td>\n",
       "      <td>http://images.amazon.com/images/P/0060973129.0...</td>\n",
       "    </tr>\n",
       "    <tr>\n",
       "      <th>1</th>\n",
       "      <td>2</td>\n",
       "      <td>0393045218</td>\n",
       "      <td>The Mummies of Urumchi</td>\n",
       "      <td>E. J. W. Barber</td>\n",
       "      <td>1999</td>\n",
       "      <td>W. W. Norton &amp;amp Company</td>\n",
       "      <td>http://images.amazon.com/images/P/0393045218.0...</td>\n",
       "      <td>http://images.amazon.com/images/P/0393045218.0...</td>\n",
       "      <td>http://images.amazon.com/images/P/0393045218.0...</td>\n",
       "    </tr>\n",
       "    <tr>\n",
       "      <th>2</th>\n",
       "      <td>3</td>\n",
       "      <td>0425176428</td>\n",
       "      <td>What If?: The World's Foremost Military Histor...</td>\n",
       "      <td>Robert Cowley</td>\n",
       "      <td>2000</td>\n",
       "      <td>Berkley Publishing Group</td>\n",
       "      <td>http://images.amazon.com/images/P/0425176428.0...</td>\n",
       "      <td>http://images.amazon.com/images/P/0425176428.0...</td>\n",
       "      <td>http://images.amazon.com/images/P/0425176428.0...</td>\n",
       "    </tr>\n",
       "    <tr>\n",
       "      <th>3</th>\n",
       "      <td>4</td>\n",
       "      <td>0452264464</td>\n",
       "      <td>Beloved (Plume Contemporary Fiction)</td>\n",
       "      <td>Toni Morrison</td>\n",
       "      <td>1994</td>\n",
       "      <td>Plume</td>\n",
       "      <td>http://images.amazon.com/images/P/0452264464.0...</td>\n",
       "      <td>http://images.amazon.com/images/P/0452264464.0...</td>\n",
       "      <td>http://images.amazon.com/images/P/0452264464.0...</td>\n",
       "    </tr>\n",
       "    <tr>\n",
       "      <th>4</th>\n",
       "      <td>5</td>\n",
       "      <td>0609804618</td>\n",
       "      <td>Our Dumb Century: The Onion Presents 100 Years...</td>\n",
       "      <td>The Onion</td>\n",
       "      <td>1999</td>\n",
       "      <td>Three Rivers Press</td>\n",
       "      <td>http://images.amazon.com/images/P/0609804618.0...</td>\n",
       "      <td>http://images.amazon.com/images/P/0609804618.0...</td>\n",
       "      <td>http://images.amazon.com/images/P/0609804618.0...</td>\n",
       "    </tr>\n",
       "    <tr>\n",
       "      <th>...</th>\n",
       "      <td>...</td>\n",
       "      <td>...</td>\n",
       "      <td>...</td>\n",
       "      <td>...</td>\n",
       "      <td>...</td>\n",
       "      <td>...</td>\n",
       "      <td>...</td>\n",
       "      <td>...</td>\n",
       "      <td>...</td>\n",
       "    </tr>\n",
       "    <tr>\n",
       "      <th>17379</th>\n",
       "      <td>17380</td>\n",
       "      <td>0449209202</td>\n",
       "      <td>Guide to Confident Living</td>\n",
       "      <td>Norman Vincent Peale</td>\n",
       "      <td>1985</td>\n",
       "      <td>Fawcett Books</td>\n",
       "      <td>http://images.amazon.com/images/P/0449209202.0...</td>\n",
       "      <td>http://images.amazon.com/images/P/0449209202.0...</td>\n",
       "      <td>http://images.amazon.com/images/P/0449209202.0...</td>\n",
       "    </tr>\n",
       "    <tr>\n",
       "      <th>17380</th>\n",
       "      <td>17381</td>\n",
       "      <td>2209014026</td>\n",
       "      <td>Ludwig Feuerbach</td>\n",
       "      <td>F. Engels</td>\n",
       "      <td>1976</td>\n",
       "      <td>La Dispute</td>\n",
       "      <td>http://images.amazon.com/images/P/2209014026.0...</td>\n",
       "      <td>http://images.amazon.com/images/P/2209014026.0...</td>\n",
       "      <td>http://images.amazon.com/images/P/2209014026.0...</td>\n",
       "    </tr>\n",
       "    <tr>\n",
       "      <th>17381</th>\n",
       "      <td>17382</td>\n",
       "      <td>070892722X</td>\n",
       "      <td>To Bring You Joy (Ulverscroft Large Print Series)</td>\n",
       "      <td>Essie Summers</td>\n",
       "      <td>1992</td>\n",
       "      <td>Ulverscroft Large Print</td>\n",
       "      <td>http://images.amazon.com/images/P/070892722X.0...</td>\n",
       "      <td>http://images.amazon.com/images/P/070892722X.0...</td>\n",
       "      <td>http://images.amazon.com/images/P/070892722X.0...</td>\n",
       "    </tr>\n",
       "    <tr>\n",
       "      <th>17382</th>\n",
       "      <td>17383</td>\n",
       "      <td>1570031843</td>\n",
       "      <td>Like Unto Like: A Novel (Southern Classics Ser...</td>\n",
       "      <td>Katherine Sherwood Bonner McDowell</td>\n",
       "      <td>1997</td>\n",
       "      <td>University of South Carolina Press</td>\n",
       "      <td>http://images.amazon.com/images/P/1570031843.0...</td>\n",
       "      <td>http://images.amazon.com/images/P/1570031843.0...</td>\n",
       "      <td>http://images.amazon.com/images/P/1570031843.0...</td>\n",
       "    </tr>\n",
       "    <tr>\n",
       "      <th>17383</th>\n",
       "      <td>17384</td>\n",
       "      <td>0435272632</td>\n",
       "      <td>The Grapes of Wrath (Upper Level)</td>\n",
       "      <td>John Milne</td>\n",
       "      <td>1995</td>\n",
       "      <td>Delta Systems Co</td>\n",
       "      <td>http://images.amazon.com/images/P/0435272632.0...</td>\n",
       "      <td>http://images.amazon.com/images/P/0435272632.0...</td>\n",
       "      <td>http://images.amazon.com/images/P/0435272632.0...</td>\n",
       "    </tr>\n",
       "  </tbody>\n",
       "</table>\n",
       "<p>17384 rows × 9 columns</p>\n",
       "</div>"
      ],
      "text/plain": [
       "       Book_ID        ISBN                                         Book-Title  \\\n",
       "0            1  0060973129                               Decision in Normandy   \n",
       "1            2  0393045218                             The Mummies of Urumchi   \n",
       "2            3  0425176428  What If?: The World's Foremost Military Histor...   \n",
       "3            4  0452264464               Beloved (Plume Contemporary Fiction)   \n",
       "4            5  0609804618  Our Dumb Century: The Onion Presents 100 Years...   \n",
       "...        ...         ...                                                ...   \n",
       "17379    17380  0449209202                          Guide to Confident Living   \n",
       "17380    17381  2209014026                                   Ludwig Feuerbach   \n",
       "17381    17382  070892722X  To Bring You Joy (Ulverscroft Large Print Series)   \n",
       "17382    17383  1570031843  Like Unto Like: A Novel (Southern Classics Ser...   \n",
       "17383    17384  0435272632                  The Grapes of Wrath (Upper Level)   \n",
       "\n",
       "                              Book-Author Year-Of-Publication  \\\n",
       "0                            Carlo D'Este                1991   \n",
       "1                         E. J. W. Barber                1999   \n",
       "2                           Robert Cowley                2000   \n",
       "3                           Toni Morrison                1994   \n",
       "4                               The Onion                1999   \n",
       "...                                   ...                 ...   \n",
       "17379                Norman Vincent Peale                1985   \n",
       "17380                           F. Engels                1976   \n",
       "17381                       Essie Summers                1992   \n",
       "17382  Katherine Sherwood Bonner McDowell                1997   \n",
       "17383                          John Milne                1995   \n",
       "\n",
       "                                Publisher  \\\n",
       "0                         HarperPerennial   \n",
       "1               W. W. Norton &amp Company   \n",
       "2                Berkley Publishing Group   \n",
       "3                                   Plume   \n",
       "4                      Three Rivers Press   \n",
       "...                                   ...   \n",
       "17379                       Fawcett Books   \n",
       "17380                          La Dispute   \n",
       "17381             Ulverscroft Large Print   \n",
       "17382  University of South Carolina Press   \n",
       "17383                    Delta Systems Co   \n",
       "\n",
       "                                             Image-URL-S  \\\n",
       "0      http://images.amazon.com/images/P/0060973129.0...   \n",
       "1      http://images.amazon.com/images/P/0393045218.0...   \n",
       "2      http://images.amazon.com/images/P/0425176428.0...   \n",
       "3      http://images.amazon.com/images/P/0452264464.0...   \n",
       "4      http://images.amazon.com/images/P/0609804618.0...   \n",
       "...                                                  ...   \n",
       "17379  http://images.amazon.com/images/P/0449209202.0...   \n",
       "17380  http://images.amazon.com/images/P/2209014026.0...   \n",
       "17381  http://images.amazon.com/images/P/070892722X.0...   \n",
       "17382  http://images.amazon.com/images/P/1570031843.0...   \n",
       "17383  http://images.amazon.com/images/P/0435272632.0...   \n",
       "\n",
       "                                             Image-URL-M  \\\n",
       "0      http://images.amazon.com/images/P/0060973129.0...   \n",
       "1      http://images.amazon.com/images/P/0393045218.0...   \n",
       "2      http://images.amazon.com/images/P/0425176428.0...   \n",
       "3      http://images.amazon.com/images/P/0452264464.0...   \n",
       "4      http://images.amazon.com/images/P/0609804618.0...   \n",
       "...                                                  ...   \n",
       "17379  http://images.amazon.com/images/P/0449209202.0...   \n",
       "17380  http://images.amazon.com/images/P/2209014026.0...   \n",
       "17381  http://images.amazon.com/images/P/070892722X.0...   \n",
       "17382  http://images.amazon.com/images/P/1570031843.0...   \n",
       "17383  http://images.amazon.com/images/P/0435272632.0...   \n",
       "\n",
       "                                             Image-URL-L  \n",
       "0      http://images.amazon.com/images/P/0060973129.0...  \n",
       "1      http://images.amazon.com/images/P/0393045218.0...  \n",
       "2      http://images.amazon.com/images/P/0425176428.0...  \n",
       "3      http://images.amazon.com/images/P/0452264464.0...  \n",
       "4      http://images.amazon.com/images/P/0609804618.0...  \n",
       "...                                                  ...  \n",
       "17379  http://images.amazon.com/images/P/0449209202.0...  \n",
       "17380  http://images.amazon.com/images/P/2209014026.0...  \n",
       "17381  http://images.amazon.com/images/P/070892722X.0...  \n",
       "17382  http://images.amazon.com/images/P/1570031843.0...  \n",
       "17383  http://images.amazon.com/images/P/0435272632.0...  \n",
       "\n",
       "[17384 rows x 9 columns]"
      ]
     },
     "execution_count": 171,
     "metadata": {},
     "output_type": "execute_result"
    }
   ],
   "source": [
    "items_info_df"
   ]
  },
  {
   "cell_type": "code",
   "execution_count": 172,
   "metadata": {
    "pycharm": {
     "name": "#%%\n"
    }
   },
   "outputs": [],
   "source": [
    "book_title_df = pd.DataFrame(items_info_df[\"Book-Title\"].value_counts())"
   ]
  },
  {
   "cell_type": "code",
   "execution_count": 173,
   "metadata": {
    "pycharm": {
     "name": "#%%\n"
    }
   },
   "outputs": [
    {
     "data": {
      "text/html": [
       "<div>\n",
       "<style scoped>\n",
       "    .dataframe tbody tr th:only-of-type {\n",
       "        vertical-align: middle;\n",
       "    }\n",
       "\n",
       "    .dataframe tbody tr th {\n",
       "        vertical-align: top;\n",
       "    }\n",
       "\n",
       "    .dataframe thead th {\n",
       "        text-align: right;\n",
       "    }\n",
       "</style>\n",
       "<table border=\"1\" class=\"dataframe\">\n",
       "  <thead>\n",
       "    <tr style=\"text-align: right;\">\n",
       "      <th></th>\n",
       "      <th>count</th>\n",
       "    </tr>\n",
       "    <tr>\n",
       "      <th>Book-Title</th>\n",
       "      <th></th>\n",
       "    </tr>\n",
       "  </thead>\n",
       "  <tbody>\n",
       "    <tr>\n",
       "      <th>Wuthering Heights</th>\n",
       "      <td>6</td>\n",
       "    </tr>\n",
       "    <tr>\n",
       "      <th>Pet Sematary</th>\n",
       "      <td>6</td>\n",
       "    </tr>\n",
       "    <tr>\n",
       "      <th>The Subtle Knife (His Dark Materials, Book 2)</th>\n",
       "      <td>5</td>\n",
       "    </tr>\n",
       "    <tr>\n",
       "      <th>Island</th>\n",
       "      <td>4</td>\n",
       "    </tr>\n",
       "    <tr>\n",
       "      <th>The Secret Life of Bees</th>\n",
       "      <td>4</td>\n",
       "    </tr>\n",
       "  </tbody>\n",
       "</table>\n",
       "</div>"
      ],
      "text/plain": [
       "                                               count\n",
       "Book-Title                                          \n",
       "Wuthering Heights                                  6\n",
       "Pet Sematary                                       6\n",
       "The Subtle Knife (His Dark Materials, Book 2)      5\n",
       "Island                                             4\n",
       "The Secret Life of Bees                            4"
      ]
     },
     "execution_count": 173,
     "metadata": {},
     "output_type": "execute_result"
    }
   ],
   "source": [
    "# top 5 book's title\n",
    "book_title_df.head()"
   ]
  },
  {
   "cell_type": "code",
   "execution_count": 174,
   "metadata": {
    "pycharm": {
     "name": "#%%\n"
    }
   },
   "outputs": [],
   "source": [
    "def plot_top_values(df, column, title, x_label, y_label, top=20, template = 'plotly_dark'):\n",
    "    \n",
    "    pl = df[column].value_counts().head(top)\n",
    "    fig = px.bar(y=pl.values, \n",
    "                 x=pl.index, \n",
    "                 color_discrete_sequence=px.colors.sequential.PuBuGn,\n",
    "                 text=pl.values,\n",
    "                 title= title,\n",
    "                 template= template)\n",
    "    fig.update_layout(\n",
    "        xaxis_title=x_label,\n",
    "        yaxis_title=y_label,\n",
    "        font = dict(size=15,family=\"Franklin Gothic\"))\n",
    "    fig.show()"
   ]
  },
  {
   "cell_type": "code",
   "execution_count": 175,
   "metadata": {
    "pycharm": {
     "name": "#%%\n"
    }
   },
   "outputs": [
    {
     "data": {
      "application/vnd.plotly.v1+json": {
       "config": {
        "plotlyServerURL": "https://plot.ly"
       },
       "data": [
        {
         "alignmentgroup": "True",
         "hovertemplate": "x=%{x}<br>y=%{y}<br>text=%{text}<extra></extra>",
         "legendgroup": "",
         "marker": {
          "color": "rgb(255,247,251)",
          "pattern": {
           "shape": ""
          }
         },
         "name": "",
         "offsetgroup": "",
         "orientation": "v",
         "showlegend": false,
         "text": [
          1397,
          1354,
          1236,
          1178,
          1174,
          1058,
          1032,
          946,
          916,
          786,
          665,
          557,
          544,
          536,
          456,
          397,
          390,
          348,
          295,
          270
         ],
         "textposition": "auto",
         "type": "bar",
         "x": [
          "2002",
          "2001",
          "2000",
          "1999",
          "2003",
          "1998",
          "1997",
          "1996",
          "1995",
          "1994",
          "1993",
          "1992",
          "1991",
          "1990",
          "1989",
          "2004",
          "1988",
          "1987",
          "1986",
          "0"
         ],
         "xaxis": "x",
         "y": [
          1397,
          1354,
          1236,
          1178,
          1174,
          1058,
          1032,
          946,
          916,
          786,
          665,
          557,
          544,
          536,
          456,
          397,
          390,
          348,
          295,
          270
         ],
         "yaxis": "y"
        }
       ],
       "layout": {
        "barmode": "relative",
        "font": {
         "family": "Franklin Gothic",
         "size": 15
        },
        "legend": {
         "tracegroupgap": 0
        },
        "template": {
         "data": {
          "bar": [
           {
            "error_x": {
             "color": "#f2f5fa"
            },
            "error_y": {
             "color": "#f2f5fa"
            },
            "marker": {
             "line": {
              "color": "rgb(17,17,17)",
              "width": 0.5
             },
             "pattern": {
              "fillmode": "overlay",
              "size": 10,
              "solidity": 0.2
             }
            },
            "type": "bar"
           }
          ],
          "barpolar": [
           {
            "marker": {
             "line": {
              "color": "rgb(17,17,17)",
              "width": 0.5
             },
             "pattern": {
              "fillmode": "overlay",
              "size": 10,
              "solidity": 0.2
             }
            },
            "type": "barpolar"
           }
          ],
          "carpet": [
           {
            "aaxis": {
             "endlinecolor": "#A2B1C6",
             "gridcolor": "#506784",
             "linecolor": "#506784",
             "minorgridcolor": "#506784",
             "startlinecolor": "#A2B1C6"
            },
            "baxis": {
             "endlinecolor": "#A2B1C6",
             "gridcolor": "#506784",
             "linecolor": "#506784",
             "minorgridcolor": "#506784",
             "startlinecolor": "#A2B1C6"
            },
            "type": "carpet"
           }
          ],
          "choropleth": [
           {
            "colorbar": {
             "outlinewidth": 0,
             "ticks": ""
            },
            "type": "choropleth"
           }
          ],
          "contour": [
           {
            "colorbar": {
             "outlinewidth": 0,
             "ticks": ""
            },
            "colorscale": [
             [
              0,
              "#0d0887"
             ],
             [
              0.1111111111111111,
              "#46039f"
             ],
             [
              0.2222222222222222,
              "#7201a8"
             ],
             [
              0.3333333333333333,
              "#9c179e"
             ],
             [
              0.4444444444444444,
              "#bd3786"
             ],
             [
              0.5555555555555556,
              "#d8576b"
             ],
             [
              0.6666666666666666,
              "#ed7953"
             ],
             [
              0.7777777777777778,
              "#fb9f3a"
             ],
             [
              0.8888888888888888,
              "#fdca26"
             ],
             [
              1,
              "#f0f921"
             ]
            ],
            "type": "contour"
           }
          ],
          "contourcarpet": [
           {
            "colorbar": {
             "outlinewidth": 0,
             "ticks": ""
            },
            "type": "contourcarpet"
           }
          ],
          "heatmap": [
           {
            "colorbar": {
             "outlinewidth": 0,
             "ticks": ""
            },
            "colorscale": [
             [
              0,
              "#0d0887"
             ],
             [
              0.1111111111111111,
              "#46039f"
             ],
             [
              0.2222222222222222,
              "#7201a8"
             ],
             [
              0.3333333333333333,
              "#9c179e"
             ],
             [
              0.4444444444444444,
              "#bd3786"
             ],
             [
              0.5555555555555556,
              "#d8576b"
             ],
             [
              0.6666666666666666,
              "#ed7953"
             ],
             [
              0.7777777777777778,
              "#fb9f3a"
             ],
             [
              0.8888888888888888,
              "#fdca26"
             ],
             [
              1,
              "#f0f921"
             ]
            ],
            "type": "heatmap"
           }
          ],
          "heatmapgl": [
           {
            "colorbar": {
             "outlinewidth": 0,
             "ticks": ""
            },
            "colorscale": [
             [
              0,
              "#0d0887"
             ],
             [
              0.1111111111111111,
              "#46039f"
             ],
             [
              0.2222222222222222,
              "#7201a8"
             ],
             [
              0.3333333333333333,
              "#9c179e"
             ],
             [
              0.4444444444444444,
              "#bd3786"
             ],
             [
              0.5555555555555556,
              "#d8576b"
             ],
             [
              0.6666666666666666,
              "#ed7953"
             ],
             [
              0.7777777777777778,
              "#fb9f3a"
             ],
             [
              0.8888888888888888,
              "#fdca26"
             ],
             [
              1,
              "#f0f921"
             ]
            ],
            "type": "heatmapgl"
           }
          ],
          "histogram": [
           {
            "marker": {
             "pattern": {
              "fillmode": "overlay",
              "size": 10,
              "solidity": 0.2
             }
            },
            "type": "histogram"
           }
          ],
          "histogram2d": [
           {
            "colorbar": {
             "outlinewidth": 0,
             "ticks": ""
            },
            "colorscale": [
             [
              0,
              "#0d0887"
             ],
             [
              0.1111111111111111,
              "#46039f"
             ],
             [
              0.2222222222222222,
              "#7201a8"
             ],
             [
              0.3333333333333333,
              "#9c179e"
             ],
             [
              0.4444444444444444,
              "#bd3786"
             ],
             [
              0.5555555555555556,
              "#d8576b"
             ],
             [
              0.6666666666666666,
              "#ed7953"
             ],
             [
              0.7777777777777778,
              "#fb9f3a"
             ],
             [
              0.8888888888888888,
              "#fdca26"
             ],
             [
              1,
              "#f0f921"
             ]
            ],
            "type": "histogram2d"
           }
          ],
          "histogram2dcontour": [
           {
            "colorbar": {
             "outlinewidth": 0,
             "ticks": ""
            },
            "colorscale": [
             [
              0,
              "#0d0887"
             ],
             [
              0.1111111111111111,
              "#46039f"
             ],
             [
              0.2222222222222222,
              "#7201a8"
             ],
             [
              0.3333333333333333,
              "#9c179e"
             ],
             [
              0.4444444444444444,
              "#bd3786"
             ],
             [
              0.5555555555555556,
              "#d8576b"
             ],
             [
              0.6666666666666666,
              "#ed7953"
             ],
             [
              0.7777777777777778,
              "#fb9f3a"
             ],
             [
              0.8888888888888888,
              "#fdca26"
             ],
             [
              1,
              "#f0f921"
             ]
            ],
            "type": "histogram2dcontour"
           }
          ],
          "mesh3d": [
           {
            "colorbar": {
             "outlinewidth": 0,
             "ticks": ""
            },
            "type": "mesh3d"
           }
          ],
          "parcoords": [
           {
            "line": {
             "colorbar": {
              "outlinewidth": 0,
              "ticks": ""
             }
            },
            "type": "parcoords"
           }
          ],
          "pie": [
           {
            "automargin": true,
            "type": "pie"
           }
          ],
          "scatter": [
           {
            "marker": {
             "line": {
              "color": "#283442"
             }
            },
            "type": "scatter"
           }
          ],
          "scatter3d": [
           {
            "line": {
             "colorbar": {
              "outlinewidth": 0,
              "ticks": ""
             }
            },
            "marker": {
             "colorbar": {
              "outlinewidth": 0,
              "ticks": ""
             }
            },
            "type": "scatter3d"
           }
          ],
          "scattercarpet": [
           {
            "marker": {
             "colorbar": {
              "outlinewidth": 0,
              "ticks": ""
             }
            },
            "type": "scattercarpet"
           }
          ],
          "scattergeo": [
           {
            "marker": {
             "colorbar": {
              "outlinewidth": 0,
              "ticks": ""
             }
            },
            "type": "scattergeo"
           }
          ],
          "scattergl": [
           {
            "marker": {
             "line": {
              "color": "#283442"
             }
            },
            "type": "scattergl"
           }
          ],
          "scattermapbox": [
           {
            "marker": {
             "colorbar": {
              "outlinewidth": 0,
              "ticks": ""
             }
            },
            "type": "scattermapbox"
           }
          ],
          "scatterpolar": [
           {
            "marker": {
             "colorbar": {
              "outlinewidth": 0,
              "ticks": ""
             }
            },
            "type": "scatterpolar"
           }
          ],
          "scatterpolargl": [
           {
            "marker": {
             "colorbar": {
              "outlinewidth": 0,
              "ticks": ""
             }
            },
            "type": "scatterpolargl"
           }
          ],
          "scatterternary": [
           {
            "marker": {
             "colorbar": {
              "outlinewidth": 0,
              "ticks": ""
             }
            },
            "type": "scatterternary"
           }
          ],
          "surface": [
           {
            "colorbar": {
             "outlinewidth": 0,
             "ticks": ""
            },
            "colorscale": [
             [
              0,
              "#0d0887"
             ],
             [
              0.1111111111111111,
              "#46039f"
             ],
             [
              0.2222222222222222,
              "#7201a8"
             ],
             [
              0.3333333333333333,
              "#9c179e"
             ],
             [
              0.4444444444444444,
              "#bd3786"
             ],
             [
              0.5555555555555556,
              "#d8576b"
             ],
             [
              0.6666666666666666,
              "#ed7953"
             ],
             [
              0.7777777777777778,
              "#fb9f3a"
             ],
             [
              0.8888888888888888,
              "#fdca26"
             ],
             [
              1,
              "#f0f921"
             ]
            ],
            "type": "surface"
           }
          ],
          "table": [
           {
            "cells": {
             "fill": {
              "color": "#506784"
             },
             "line": {
              "color": "rgb(17,17,17)"
             }
            },
            "header": {
             "fill": {
              "color": "#2a3f5f"
             },
             "line": {
              "color": "rgb(17,17,17)"
             }
            },
            "type": "table"
           }
          ]
         },
         "layout": {
          "annotationdefaults": {
           "arrowcolor": "#f2f5fa",
           "arrowhead": 0,
           "arrowwidth": 1
          },
          "autotypenumbers": "strict",
          "coloraxis": {
           "colorbar": {
            "outlinewidth": 0,
            "ticks": ""
           }
          },
          "colorscale": {
           "diverging": [
            [
             0,
             "#8e0152"
            ],
            [
             0.1,
             "#c51b7d"
            ],
            [
             0.2,
             "#de77ae"
            ],
            [
             0.3,
             "#f1b6da"
            ],
            [
             0.4,
             "#fde0ef"
            ],
            [
             0.5,
             "#f7f7f7"
            ],
            [
             0.6,
             "#e6f5d0"
            ],
            [
             0.7,
             "#b8e186"
            ],
            [
             0.8,
             "#7fbc41"
            ],
            [
             0.9,
             "#4d9221"
            ],
            [
             1,
             "#276419"
            ]
           ],
           "sequential": [
            [
             0,
             "#0d0887"
            ],
            [
             0.1111111111111111,
             "#46039f"
            ],
            [
             0.2222222222222222,
             "#7201a8"
            ],
            [
             0.3333333333333333,
             "#9c179e"
            ],
            [
             0.4444444444444444,
             "#bd3786"
            ],
            [
             0.5555555555555556,
             "#d8576b"
            ],
            [
             0.6666666666666666,
             "#ed7953"
            ],
            [
             0.7777777777777778,
             "#fb9f3a"
            ],
            [
             0.8888888888888888,
             "#fdca26"
            ],
            [
             1,
             "#f0f921"
            ]
           ],
           "sequentialminus": [
            [
             0,
             "#0d0887"
            ],
            [
             0.1111111111111111,
             "#46039f"
            ],
            [
             0.2222222222222222,
             "#7201a8"
            ],
            [
             0.3333333333333333,
             "#9c179e"
            ],
            [
             0.4444444444444444,
             "#bd3786"
            ],
            [
             0.5555555555555556,
             "#d8576b"
            ],
            [
             0.6666666666666666,
             "#ed7953"
            ],
            [
             0.7777777777777778,
             "#fb9f3a"
            ],
            [
             0.8888888888888888,
             "#fdca26"
            ],
            [
             1,
             "#f0f921"
            ]
           ]
          },
          "colorway": [
           "#636efa",
           "#EF553B",
           "#00cc96",
           "#ab63fa",
           "#FFA15A",
           "#19d3f3",
           "#FF6692",
           "#B6E880",
           "#FF97FF",
           "#FECB52"
          ],
          "font": {
           "color": "#f2f5fa"
          },
          "geo": {
           "bgcolor": "rgb(17,17,17)",
           "lakecolor": "rgb(17,17,17)",
           "landcolor": "rgb(17,17,17)",
           "showlakes": true,
           "showland": true,
           "subunitcolor": "#506784"
          },
          "hoverlabel": {
           "align": "left"
          },
          "hovermode": "closest",
          "mapbox": {
           "style": "dark"
          },
          "paper_bgcolor": "rgb(17,17,17)",
          "plot_bgcolor": "rgb(17,17,17)",
          "polar": {
           "angularaxis": {
            "gridcolor": "#506784",
            "linecolor": "#506784",
            "ticks": ""
           },
           "bgcolor": "rgb(17,17,17)",
           "radialaxis": {
            "gridcolor": "#506784",
            "linecolor": "#506784",
            "ticks": ""
           }
          },
          "scene": {
           "xaxis": {
            "backgroundcolor": "rgb(17,17,17)",
            "gridcolor": "#506784",
            "gridwidth": 2,
            "linecolor": "#506784",
            "showbackground": true,
            "ticks": "",
            "zerolinecolor": "#C8D4E3"
           },
           "yaxis": {
            "backgroundcolor": "rgb(17,17,17)",
            "gridcolor": "#506784",
            "gridwidth": 2,
            "linecolor": "#506784",
            "showbackground": true,
            "ticks": "",
            "zerolinecolor": "#C8D4E3"
           },
           "zaxis": {
            "backgroundcolor": "rgb(17,17,17)",
            "gridcolor": "#506784",
            "gridwidth": 2,
            "linecolor": "#506784",
            "showbackground": true,
            "ticks": "",
            "zerolinecolor": "#C8D4E3"
           }
          },
          "shapedefaults": {
           "line": {
            "color": "#f2f5fa"
           }
          },
          "sliderdefaults": {
           "bgcolor": "#C8D4E3",
           "bordercolor": "rgb(17,17,17)",
           "borderwidth": 1,
           "tickwidth": 0
          },
          "ternary": {
           "aaxis": {
            "gridcolor": "#506784",
            "linecolor": "#506784",
            "ticks": ""
           },
           "baxis": {
            "gridcolor": "#506784",
            "linecolor": "#506784",
            "ticks": ""
           },
           "bgcolor": "rgb(17,17,17)",
           "caxis": {
            "gridcolor": "#506784",
            "linecolor": "#506784",
            "ticks": ""
           }
          },
          "title": {
           "x": 0.05
          },
          "updatemenudefaults": {
           "bgcolor": "#506784",
           "borderwidth": 0
          },
          "xaxis": {
           "automargin": true,
           "gridcolor": "#283442",
           "linecolor": "#506784",
           "ticks": "",
           "title": {
            "standoff": 15
           },
           "zerolinecolor": "#283442",
           "zerolinewidth": 2
          },
          "yaxis": {
           "automargin": true,
           "gridcolor": "#283442",
           "linecolor": "#506784",
           "ticks": "",
           "title": {
            "standoff": 15
           },
           "zerolinecolor": "#283442",
           "zerolinewidth": 2
          }
         }
        },
        "title": {
         "text": "Top 20 years in which books were published in terms of count"
        },
        "xaxis": {
         "anchor": "y",
         "domain": [
          0,
          1
         ],
         "title": {
          "text": "Year"
         }
        },
        "yaxis": {
         "anchor": "x",
         "domain": [
          0,
          1
         ],
         "title": {
          "text": "Count"
         }
        }
       }
      },
      "text/html": [
       "<div>                            <div id=\"70e0b1aa-2251-4067-b11b-ea4932be9512\" class=\"plotly-graph-div\" style=\"height:525px; width:100%;\"></div>            <script type=\"text/javascript\">                require([\"plotly\"], function(Plotly) {                    window.PLOTLYENV=window.PLOTLYENV || {};                                    if (document.getElementById(\"70e0b1aa-2251-4067-b11b-ea4932be9512\")) {                    Plotly.newPlot(                        \"70e0b1aa-2251-4067-b11b-ea4932be9512\",                        [{\"alignmentgroup\":\"True\",\"hovertemplate\":\"x=%{x}\\u003cbr\\u003ey=%{y}\\u003cbr\\u003etext=%{text}\\u003cextra\\u003e\\u003c\\u002fextra\\u003e\",\"legendgroup\":\"\",\"marker\":{\"color\":\"rgb(255,247,251)\",\"pattern\":{\"shape\":\"\"}},\"name\":\"\",\"offsetgroup\":\"\",\"orientation\":\"v\",\"showlegend\":false,\"text\":[1397.0,1354.0,1236.0,1178.0,1174.0,1058.0,1032.0,946.0,916.0,786.0,665.0,557.0,544.0,536.0,456.0,397.0,390.0,348.0,295.0,270.0],\"textposition\":\"auto\",\"x\":[\"2002\",\"2001\",\"2000\",\"1999\",\"2003\",\"1998\",\"1997\",\"1996\",\"1995\",\"1994\",\"1993\",\"1992\",\"1991\",\"1990\",\"1989\",\"2004\",\"1988\",\"1987\",\"1986\",\"0\"],\"xaxis\":\"x\",\"y\":[1397,1354,1236,1178,1174,1058,1032,946,916,786,665,557,544,536,456,397,390,348,295,270],\"yaxis\":\"y\",\"type\":\"bar\"}],                        {\"template\":{\"data\":{\"histogram2dcontour\":[{\"type\":\"histogram2dcontour\",\"colorbar\":{\"outlinewidth\":0,\"ticks\":\"\"},\"colorscale\":[[0.0,\"#0d0887\"],[0.1111111111111111,\"#46039f\"],[0.2222222222222222,\"#7201a8\"],[0.3333333333333333,\"#9c179e\"],[0.4444444444444444,\"#bd3786\"],[0.5555555555555556,\"#d8576b\"],[0.6666666666666666,\"#ed7953\"],[0.7777777777777778,\"#fb9f3a\"],[0.8888888888888888,\"#fdca26\"],[1.0,\"#f0f921\"]]}],\"choropleth\":[{\"type\":\"choropleth\",\"colorbar\":{\"outlinewidth\":0,\"ticks\":\"\"}}],\"histogram2d\":[{\"type\":\"histogram2d\",\"colorbar\":{\"outlinewidth\":0,\"ticks\":\"\"},\"colorscale\":[[0.0,\"#0d0887\"],[0.1111111111111111,\"#46039f\"],[0.2222222222222222,\"#7201a8\"],[0.3333333333333333,\"#9c179e\"],[0.4444444444444444,\"#bd3786\"],[0.5555555555555556,\"#d8576b\"],[0.6666666666666666,\"#ed7953\"],[0.7777777777777778,\"#fb9f3a\"],[0.8888888888888888,\"#fdca26\"],[1.0,\"#f0f921\"]]}],\"heatmap\":[{\"type\":\"heatmap\",\"colorbar\":{\"outlinewidth\":0,\"ticks\":\"\"},\"colorscale\":[[0.0,\"#0d0887\"],[0.1111111111111111,\"#46039f\"],[0.2222222222222222,\"#7201a8\"],[0.3333333333333333,\"#9c179e\"],[0.4444444444444444,\"#bd3786\"],[0.5555555555555556,\"#d8576b\"],[0.6666666666666666,\"#ed7953\"],[0.7777777777777778,\"#fb9f3a\"],[0.8888888888888888,\"#fdca26\"],[1.0,\"#f0f921\"]]}],\"heatmapgl\":[{\"type\":\"heatmapgl\",\"colorbar\":{\"outlinewidth\":0,\"ticks\":\"\"},\"colorscale\":[[0.0,\"#0d0887\"],[0.1111111111111111,\"#46039f\"],[0.2222222222222222,\"#7201a8\"],[0.3333333333333333,\"#9c179e\"],[0.4444444444444444,\"#bd3786\"],[0.5555555555555556,\"#d8576b\"],[0.6666666666666666,\"#ed7953\"],[0.7777777777777778,\"#fb9f3a\"],[0.8888888888888888,\"#fdca26\"],[1.0,\"#f0f921\"]]}],\"contourcarpet\":[{\"type\":\"contourcarpet\",\"colorbar\":{\"outlinewidth\":0,\"ticks\":\"\"}}],\"contour\":[{\"type\":\"contour\",\"colorbar\":{\"outlinewidth\":0,\"ticks\":\"\"},\"colorscale\":[[0.0,\"#0d0887\"],[0.1111111111111111,\"#46039f\"],[0.2222222222222222,\"#7201a8\"],[0.3333333333333333,\"#9c179e\"],[0.4444444444444444,\"#bd3786\"],[0.5555555555555556,\"#d8576b\"],[0.6666666666666666,\"#ed7953\"],[0.7777777777777778,\"#fb9f3a\"],[0.8888888888888888,\"#fdca26\"],[1.0,\"#f0f921\"]]}],\"surface\":[{\"type\":\"surface\",\"colorbar\":{\"outlinewidth\":0,\"ticks\":\"\"},\"colorscale\":[[0.0,\"#0d0887\"],[0.1111111111111111,\"#46039f\"],[0.2222222222222222,\"#7201a8\"],[0.3333333333333333,\"#9c179e\"],[0.4444444444444444,\"#bd3786\"],[0.5555555555555556,\"#d8576b\"],[0.6666666666666666,\"#ed7953\"],[0.7777777777777778,\"#fb9f3a\"],[0.8888888888888888,\"#fdca26\"],[1.0,\"#f0f921\"]]}],\"mesh3d\":[{\"type\":\"mesh3d\",\"colorbar\":{\"outlinewidth\":0,\"ticks\":\"\"}}],\"scatter\":[{\"marker\":{\"line\":{\"color\":\"#283442\"}},\"type\":\"scatter\"}],\"parcoords\":[{\"type\":\"parcoords\",\"line\":{\"colorbar\":{\"outlinewidth\":0,\"ticks\":\"\"}}}],\"scatterpolargl\":[{\"type\":\"scatterpolargl\",\"marker\":{\"colorbar\":{\"outlinewidth\":0,\"ticks\":\"\"}}}],\"bar\":[{\"error_x\":{\"color\":\"#f2f5fa\"},\"error_y\":{\"color\":\"#f2f5fa\"},\"marker\":{\"line\":{\"color\":\"rgb(17,17,17)\",\"width\":0.5},\"pattern\":{\"fillmode\":\"overlay\",\"size\":10,\"solidity\":0.2}},\"type\":\"bar\"}],\"scattergeo\":[{\"type\":\"scattergeo\",\"marker\":{\"colorbar\":{\"outlinewidth\":0,\"ticks\":\"\"}}}],\"scatterpolar\":[{\"type\":\"scatterpolar\",\"marker\":{\"colorbar\":{\"outlinewidth\":0,\"ticks\":\"\"}}}],\"histogram\":[{\"marker\":{\"pattern\":{\"fillmode\":\"overlay\",\"size\":10,\"solidity\":0.2}},\"type\":\"histogram\"}],\"scattergl\":[{\"marker\":{\"line\":{\"color\":\"#283442\"}},\"type\":\"scattergl\"}],\"scatter3d\":[{\"type\":\"scatter3d\",\"line\":{\"colorbar\":{\"outlinewidth\":0,\"ticks\":\"\"}},\"marker\":{\"colorbar\":{\"outlinewidth\":0,\"ticks\":\"\"}}}],\"scattermapbox\":[{\"type\":\"scattermapbox\",\"marker\":{\"colorbar\":{\"outlinewidth\":0,\"ticks\":\"\"}}}],\"scatterternary\":[{\"type\":\"scatterternary\",\"marker\":{\"colorbar\":{\"outlinewidth\":0,\"ticks\":\"\"}}}],\"scattercarpet\":[{\"type\":\"scattercarpet\",\"marker\":{\"colorbar\":{\"outlinewidth\":0,\"ticks\":\"\"}}}],\"carpet\":[{\"aaxis\":{\"endlinecolor\":\"#A2B1C6\",\"gridcolor\":\"#506784\",\"linecolor\":\"#506784\",\"minorgridcolor\":\"#506784\",\"startlinecolor\":\"#A2B1C6\"},\"baxis\":{\"endlinecolor\":\"#A2B1C6\",\"gridcolor\":\"#506784\",\"linecolor\":\"#506784\",\"minorgridcolor\":\"#506784\",\"startlinecolor\":\"#A2B1C6\"},\"type\":\"carpet\"}],\"table\":[{\"cells\":{\"fill\":{\"color\":\"#506784\"},\"line\":{\"color\":\"rgb(17,17,17)\"}},\"header\":{\"fill\":{\"color\":\"#2a3f5f\"},\"line\":{\"color\":\"rgb(17,17,17)\"}},\"type\":\"table\"}],\"barpolar\":[{\"marker\":{\"line\":{\"color\":\"rgb(17,17,17)\",\"width\":0.5},\"pattern\":{\"fillmode\":\"overlay\",\"size\":10,\"solidity\":0.2}},\"type\":\"barpolar\"}],\"pie\":[{\"automargin\":true,\"type\":\"pie\"}]},\"layout\":{\"autotypenumbers\":\"strict\",\"colorway\":[\"#636efa\",\"#EF553B\",\"#00cc96\",\"#ab63fa\",\"#FFA15A\",\"#19d3f3\",\"#FF6692\",\"#B6E880\",\"#FF97FF\",\"#FECB52\"],\"font\":{\"color\":\"#f2f5fa\"},\"hovermode\":\"closest\",\"hoverlabel\":{\"align\":\"left\"},\"paper_bgcolor\":\"rgb(17,17,17)\",\"plot_bgcolor\":\"rgb(17,17,17)\",\"polar\":{\"bgcolor\":\"rgb(17,17,17)\",\"angularaxis\":{\"gridcolor\":\"#506784\",\"linecolor\":\"#506784\",\"ticks\":\"\"},\"radialaxis\":{\"gridcolor\":\"#506784\",\"linecolor\":\"#506784\",\"ticks\":\"\"}},\"ternary\":{\"bgcolor\":\"rgb(17,17,17)\",\"aaxis\":{\"gridcolor\":\"#506784\",\"linecolor\":\"#506784\",\"ticks\":\"\"},\"baxis\":{\"gridcolor\":\"#506784\",\"linecolor\":\"#506784\",\"ticks\":\"\"},\"caxis\":{\"gridcolor\":\"#506784\",\"linecolor\":\"#506784\",\"ticks\":\"\"}},\"coloraxis\":{\"colorbar\":{\"outlinewidth\":0,\"ticks\":\"\"}},\"colorscale\":{\"sequential\":[[0.0,\"#0d0887\"],[0.1111111111111111,\"#46039f\"],[0.2222222222222222,\"#7201a8\"],[0.3333333333333333,\"#9c179e\"],[0.4444444444444444,\"#bd3786\"],[0.5555555555555556,\"#d8576b\"],[0.6666666666666666,\"#ed7953\"],[0.7777777777777778,\"#fb9f3a\"],[0.8888888888888888,\"#fdca26\"],[1.0,\"#f0f921\"]],\"sequentialminus\":[[0.0,\"#0d0887\"],[0.1111111111111111,\"#46039f\"],[0.2222222222222222,\"#7201a8\"],[0.3333333333333333,\"#9c179e\"],[0.4444444444444444,\"#bd3786\"],[0.5555555555555556,\"#d8576b\"],[0.6666666666666666,\"#ed7953\"],[0.7777777777777778,\"#fb9f3a\"],[0.8888888888888888,\"#fdca26\"],[1.0,\"#f0f921\"]],\"diverging\":[[0,\"#8e0152\"],[0.1,\"#c51b7d\"],[0.2,\"#de77ae\"],[0.3,\"#f1b6da\"],[0.4,\"#fde0ef\"],[0.5,\"#f7f7f7\"],[0.6,\"#e6f5d0\"],[0.7,\"#b8e186\"],[0.8,\"#7fbc41\"],[0.9,\"#4d9221\"],[1,\"#276419\"]]},\"xaxis\":{\"gridcolor\":\"#283442\",\"linecolor\":\"#506784\",\"ticks\":\"\",\"title\":{\"standoff\":15},\"zerolinecolor\":\"#283442\",\"automargin\":true,\"zerolinewidth\":2},\"yaxis\":{\"gridcolor\":\"#283442\",\"linecolor\":\"#506784\",\"ticks\":\"\",\"title\":{\"standoff\":15},\"zerolinecolor\":\"#283442\",\"automargin\":true,\"zerolinewidth\":2},\"scene\":{\"xaxis\":{\"backgroundcolor\":\"rgb(17,17,17)\",\"gridcolor\":\"#506784\",\"linecolor\":\"#506784\",\"showbackground\":true,\"ticks\":\"\",\"zerolinecolor\":\"#C8D4E3\",\"gridwidth\":2},\"yaxis\":{\"backgroundcolor\":\"rgb(17,17,17)\",\"gridcolor\":\"#506784\",\"linecolor\":\"#506784\",\"showbackground\":true,\"ticks\":\"\",\"zerolinecolor\":\"#C8D4E3\",\"gridwidth\":2},\"zaxis\":{\"backgroundcolor\":\"rgb(17,17,17)\",\"gridcolor\":\"#506784\",\"linecolor\":\"#506784\",\"showbackground\":true,\"ticks\":\"\",\"zerolinecolor\":\"#C8D4E3\",\"gridwidth\":2}},\"shapedefaults\":{\"line\":{\"color\":\"#f2f5fa\"}},\"annotationdefaults\":{\"arrowcolor\":\"#f2f5fa\",\"arrowhead\":0,\"arrowwidth\":1},\"geo\":{\"bgcolor\":\"rgb(17,17,17)\",\"landcolor\":\"rgb(17,17,17)\",\"subunitcolor\":\"#506784\",\"showland\":true,\"showlakes\":true,\"lakecolor\":\"rgb(17,17,17)\"},\"title\":{\"x\":0.05},\"updatemenudefaults\":{\"bgcolor\":\"#506784\",\"borderwidth\":0},\"sliderdefaults\":{\"bgcolor\":\"#C8D4E3\",\"borderwidth\":1,\"bordercolor\":\"rgb(17,17,17)\",\"tickwidth\":0},\"mapbox\":{\"style\":\"dark\"}}},\"xaxis\":{\"anchor\":\"y\",\"domain\":[0.0,1.0],\"title\":{\"text\":\"Year\"}},\"yaxis\":{\"anchor\":\"x\",\"domain\":[0.0,1.0],\"title\":{\"text\":\"Count\"}},\"legend\":{\"tracegroupgap\":0},\"title\":{\"text\":\"Top 20 years in which books were published in terms of count\"},\"barmode\":\"relative\",\"font\":{\"size\":15,\"family\":\"Franklin Gothic\"}},                        {\"responsive\": true}                    ).then(function(){\n",
       "                            \n",
       "var gd = document.getElementById('70e0b1aa-2251-4067-b11b-ea4932be9512');\n",
       "var x = new MutationObserver(function (mutations, observer) {{\n",
       "        var display = window.getComputedStyle(gd).display;\n",
       "        if (!display || display === 'none') {{\n",
       "            console.log([gd, 'removed!']);\n",
       "            Plotly.purge(gd);\n",
       "            observer.disconnect();\n",
       "        }}\n",
       "}});\n",
       "\n",
       "// Listen for the removal of the full notebook cells\n",
       "var notebookContainer = gd.closest('#notebook-container');\n",
       "if (notebookContainer) {{\n",
       "    x.observe(notebookContainer, {childList: true});\n",
       "}}\n",
       "\n",
       "// Listen for the clearing of the current output cell\n",
       "var outputEl = gd.closest('.output');\n",
       "if (outputEl) {{\n",
       "    x.observe(outputEl, {childList: true});\n",
       "}}\n",
       "\n",
       "                        })                };                });            </script>        </div>"
      ]
     },
     "metadata": {},
     "output_type": "display_data"
    }
   ],
   "source": [
    "plot_top_values(items_info_df, 'Year-Of-Publication', 'Top 20 years in which books were published in terms of count', \"Year\", \"Count\")"
   ]
  },
  {
   "cell_type": "code",
   "execution_count": 176,
   "metadata": {
    "pycharm": {
     "name": "#%%\n"
    }
   },
   "outputs": [],
   "source": [
    "# as we see, number of books were published increasing every year"
   ]
  },
  {
   "cell_type": "code",
   "execution_count": 177,
   "metadata": {
    "pycharm": {
     "name": "#%%\n"
    }
   },
   "outputs": [
    {
     "name": "stdout",
     "output_type": "stream",
     "text": [
      "['1991' '1999' '2000' '1994' '2001' '2003' '1997' '1996' '1998' '1988'\n",
      " '2002' '1993' '1982' '1992' '1995' '1980' '1983' '1952' '1987' '2004'\n",
      " '1986' '1984' '0' '1981' '1968' '1961' '1958' '1990' '1985' '1974' '1976'\n",
      " '1989' '1977' '1978' '1971' '1973' '1960' '1975' '1962'\n",
      " 'Baldini&amp Castoldi' '1979' '1972' '1956' '1970' '1953' '1942' '1963'\n",
      " '1965' 'Bantam Books' '1969' '1954' '1950' '1966' '1957' '1964' '1955'\n",
      " '1920' '1946' '1937' '1925' '1967' '1948' '1951' '1959' '1938' '2005'\n",
      " '1940' 'Hutchinson'\n",
      " 'http://images.amazon.com/images/P/0451404874.01.THUMBZZZ.jpg' '1928'\n",
      " '1927' '2050' '1923']\n"
     ]
    }
   ],
   "source": [
    "print(items_info_df['Year-Of-Publication'].unique())"
   ]
  },
  {
   "cell_type": "code",
   "execution_count": 178,
   "metadata": {
    "pycharm": {
     "name": "#%%\n"
    }
   },
   "outputs": [
    {
     "name": "stdout",
     "output_type": "stream",
     "text": [
      "Index([13444], dtype='int64')\n",
      "Index([621], dtype='int64')\n",
      "Index([], dtype='int64')\n",
      "Index([13550], dtype='int64')\n"
     ]
    }
   ],
   "source": [
    "print(items_info_df[items_info_df['Year-Of-Publication']=='Hutchinson'].index)\n",
    "print(items_info_df[items_info_df['Year-Of-Publication']=='Baldini&amp Castoldi'].index)\n",
    "print(items_info_df[items_info_df['Year-Of-Publication']=='Bantam Book'].index)\n",
    "print(items_info_df[items_info_df['Year-Of-Publication']=='http://images.amazon.com/images/P/0451404874.01.THUMBZZZ.jpg'].index)"
   ]
  },
  {
   "cell_type": "code",
   "execution_count": 179,
   "metadata": {
    "pycharm": {
     "name": "#%%\n"
    }
   },
   "outputs": [],
   "source": [
    "items_info_df = items_info_df.drop(items_info_df[items_info_df['Year-Of-Publication']=='Hutchinson'].index)\n",
    "items_info_df = items_info_df.drop(items_info_df[items_info_df['Year-Of-Publication']=='Baldini&amp Castoldi'].index)\n",
    "items_info_df = items_info_df.drop(items_info_df[items_info_df['Year-Of-Publication']=='http://images.amazon.com/images/P/0451404874.01.THUMBZZZ.jpg'].index)"
   ]
  },
  {
   "cell_type": "code",
   "execution_count": 180,
   "metadata": {
    "pycharm": {
     "name": "#%%\n"
    }
   },
   "outputs": [],
   "source": [
    "items_info_df[\"Book-Author\"] = items_info_df[\"Book-Author\"].apply(lambda x: x.strip())"
   ]
  },
  {
   "cell_type": "code",
   "execution_count": 181,
   "metadata": {
    "pycharm": {
     "name": "#%%\n"
    }
   },
   "outputs": [
    {
     "name": "stdout",
     "output_type": "stream",
     "text": [
      "[\"Carlo D'Este\" 'E. J. W. Barber' 'Robert Cowley' ... 'F. Engels'\n",
      " 'Essie Summers' 'Katherine Sherwood Bonner McDowell']\n"
     ]
    }
   ],
   "source": [
    "print(items_info_df[\"Book-Author\"].unique())"
   ]
  },
  {
   "cell_type": "code",
   "execution_count": 182,
   "metadata": {
    "pycharm": {
     "name": "#%%\n"
    }
   },
   "outputs": [
    {
     "name": "stdout",
     "output_type": "stream",
     "text": [
      "       Book_ID        ISBN                                         Book-Title  \\\n",
      "33          34  1414035004  The Adventures of Drew and Ellie: The Magical ...   \n",
      "2716      2717  1410798860  The Diary of Alice Mary: A Factual Childhood D...   \n",
      "4703      4704  140332557X  The Little Guide to Happiness: How to Smile Again   \n",
      "10080    10081  1410744310   Lost in the Rain II: Poetry and Quotes to Ponder   \n",
      "10290    10291  1588204030  $oft Money: The True Power in Our Nation's Cap...   \n",
      "11239    11240  1410716856                              Starlight, Starbright   \n",
      "11602    11603  141401354X                                  Ocean of the Dead   \n",
      "13198    13199  1410785971             The Story in the Little Brown Suitcase   \n",
      "\n",
      "                     Book-Author Year-Of-Publication         Publisher  \\\n",
      "33                Charles Noland                2003  1stBooks Library   \n",
      "2716    Alice Mary Connally Fisk                2003  1stBooks Library   \n",
      "4703       Michael Kevin Naselli                2001  1stBooks Library   \n",
      "10080            Glenda Schattie                2003  1stBooks Library   \n",
      "10290               E. L. Burton                2000  1stBooks Library   \n",
      "11239  Barbara Elliott Carpenter                2003  1stBooks Library   \n",
      "11602          M. J. Morrissette                2003  1stBooks Library   \n",
      "13198         Carol Lynn Caswell                2003  1stBooks Library   \n",
      "\n",
      "                                             Image-URL-S  \\\n",
      "33     http://images.amazon.com/images/P/1414035004.0...   \n",
      "2716   http://images.amazon.com/images/P/1410798860.0...   \n",
      "4703   http://images.amazon.com/images/P/140332557X.0...   \n",
      "10080  http://images.amazon.com/images/P/1410744310.0...   \n",
      "10290  http://images.amazon.com/images/P/1588204030.0...   \n",
      "11239  http://images.amazon.com/images/P/1410716856.0...   \n",
      "11602  http://images.amazon.com/images/P/141401354X.0...   \n",
      "13198  http://images.amazon.com/images/P/1410785971.0...   \n",
      "\n",
      "                                             Image-URL-M  \\\n",
      "33     http://images.amazon.com/images/P/1414035004.0...   \n",
      "2716   http://images.amazon.com/images/P/1410798860.0...   \n",
      "4703   http://images.amazon.com/images/P/140332557X.0...   \n",
      "10080  http://images.amazon.com/images/P/1410744310.0...   \n",
      "10290  http://images.amazon.com/images/P/1588204030.0...   \n",
      "11239  http://images.amazon.com/images/P/1410716856.0...   \n",
      "11602  http://images.amazon.com/images/P/141401354X.0...   \n",
      "13198  http://images.amazon.com/images/P/1410785971.0...   \n",
      "\n",
      "                                             Image-URL-L  \n",
      "33     http://images.amazon.com/images/P/1414035004.0...  \n",
      "2716   http://images.amazon.com/images/P/1410798860.0...  \n",
      "4703   http://images.amazon.com/images/P/140332557X.0...  \n",
      "10080  http://images.amazon.com/images/P/1410744310.0...  \n",
      "10290  http://images.amazon.com/images/P/1588204030.0...  \n",
      "11239  http://images.amazon.com/images/P/1410716856.0...  \n",
      "11602  http://images.amazon.com/images/P/141401354X.0...  \n",
      "13198  http://images.amazon.com/images/P/1410785971.0...  \n"
     ]
    }
   ],
   "source": [
    "print(items_info_df[items_info_df[\"Publisher\"]=='1stBooks Library'])"
   ]
  },
  {
   "cell_type": "markdown",
   "metadata": {
    "pycharm": {
     "name": "#%% md\n"
    }
   },
   "source": [
    "## 3.3 EXPLORE with RATING INFO"
   ]
  },
  {
   "cell_type": "code",
   "execution_count": 183,
   "metadata": {
    "pycharm": {
     "name": "#%%\n"
    }
   },
   "outputs": [
    {
     "data": {
      "text/html": [
       "<div>\n",
       "<style scoped>\n",
       "    .dataframe tbody tr th:only-of-type {\n",
       "        vertical-align: middle;\n",
       "    }\n",
       "\n",
       "    .dataframe tbody tr th {\n",
       "        vertical-align: top;\n",
       "    }\n",
       "\n",
       "    .dataframe thead th {\n",
       "        text-align: right;\n",
       "    }\n",
       "</style>\n",
       "<table border=\"1\" class=\"dataframe\">\n",
       "  <thead>\n",
       "    <tr style=\"text-align: right;\">\n",
       "      <th></th>\n",
       "      <th>user</th>\n",
       "      <th>item</th>\n",
       "      <th>rating</th>\n",
       "    </tr>\n",
       "  </thead>\n",
       "  <tbody>\n",
       "    <tr>\n",
       "      <th>0</th>\n",
       "      <td>1</td>\n",
       "      <td>6264</td>\n",
       "      <td>7.0</td>\n",
       "    </tr>\n",
       "    <tr>\n",
       "      <th>1</th>\n",
       "      <td>1</td>\n",
       "      <td>4350</td>\n",
       "      <td>7.0</td>\n",
       "    </tr>\n",
       "    <tr>\n",
       "      <th>2</th>\n",
       "      <td>1</td>\n",
       "      <td>6252</td>\n",
       "      <td>5.0</td>\n",
       "    </tr>\n",
       "    <tr>\n",
       "      <th>3</th>\n",
       "      <td>1</td>\n",
       "      <td>202</td>\n",
       "      <td>9.0</td>\n",
       "    </tr>\n",
       "    <tr>\n",
       "      <th>4</th>\n",
       "      <td>1</td>\n",
       "      <td>6266</td>\n",
       "      <td>6.0</td>\n",
       "    </tr>\n",
       "  </tbody>\n",
       "</table>\n",
       "</div>"
      ],
      "text/plain": [
       "   user  item  rating\n",
       "0     1  6264     7.0\n",
       "1     1  4350     7.0\n",
       "2     1  6252     5.0\n",
       "3     1   202     9.0\n",
       "4     1  6266     6.0"
      ]
     },
     "execution_count": 183,
     "metadata": {},
     "output_type": "execute_result"
    }
   ],
   "source": [
    "book_rate_df.head()"
   ]
  },
  {
   "cell_type": "code",
   "execution_count": 184,
   "metadata": {
    "pycharm": {
     "name": "#%%\n"
    }
   },
   "outputs": [
    {
     "name": "stdout",
     "output_type": "stream",
     "text": [
      "               user          item        rating\n",
      "count  62656.000000  62656.000000  62656.000000\n",
      "mean    1458.705056   6106.118839      7.953700\n",
      "std      848.564252   4847.444402      1.717846\n",
      "min        1.000000      1.000000      1.000000\n",
      "25%      760.000000   1888.000000      7.000000\n",
      "50%     1398.000000   4977.000000      8.000000\n",
      "75%     2218.000000   9538.000000      9.000000\n",
      "max     2945.000000  17384.000000     10.000000\n"
     ]
    }
   ],
   "source": [
    "print(book_rate_df.describe())"
   ]
  },
  {
   "cell_type": "code",
   "execution_count": 185,
   "metadata": {
    "pycharm": {
     "name": "#%%\n"
    }
   },
   "outputs": [
    {
     "name": "stdout",
     "output_type": "stream",
     "text": [
      "<class 'pandas.core.frame.DataFrame'>\n",
      "RangeIndex: 62656 entries, 0 to 62655\n",
      "Data columns (total 3 columns):\n",
      " #   Column  Non-Null Count  Dtype  \n",
      "---  ------  --------------  -----  \n",
      " 0   user    62656 non-null  int64  \n",
      " 1   item    62656 non-null  int64  \n",
      " 2   rating  62656 non-null  float64\n",
      "dtypes: float64(1), int64(2)\n",
      "memory usage: 1.4 MB\n",
      "None\n"
     ]
    }
   ],
   "source": [
    "print(book_rate_df.info())"
   ]
  },
  {
   "cell_type": "code",
   "execution_count": 186,
   "metadata": {
    "pycharm": {
     "name": "#%%\n"
    }
   },
   "outputs": [
    {
     "name": "stdout",
     "output_type": "stream",
     "text": [
      "[ 7.  5.  9.  6.  8. 10.  4.  3.  1.  2.]\n"
     ]
    }
   ],
   "source": [
    "print(book_rate_df['rating'].unique())"
   ]
  },
  {
   "cell_type": "code",
   "execution_count": 187,
   "metadata": {
    "pycharm": {
     "name": "#%%\n"
    }
   },
   "outputs": [
    {
     "name": "stdout",
     "output_type": "stream",
     "text": [
      "rating\n",
      "8.0     15629\n",
      "10.0    13884\n",
      "9.0     12008\n",
      "7.0      9906\n",
      "5.0      5183\n",
      "6.0      4236\n",
      "4.0       859\n",
      "3.0       552\n",
      "2.0       239\n",
      "1.0       160\n",
      "Name: count, dtype: int64\n"
     ]
    }
   ],
   "source": [
    "print(book_rate_df['rating'].value_counts())"
   ]
  },
  {
   "cell_type": "code",
   "execution_count": 188,
   "metadata": {
    "pycharm": {
     "name": "#%%\n"
    }
   },
   "outputs": [],
   "source": [
    "user_group = book_rate_df.groupby(\"user\")\n",
    "item_group = book_rate_df.groupby(\"item\")\n",
    "\n",
    "\n",
    "average_user_rating = user_group[\"rating\"].mean()\n",
    "number_of_ratings_by_user = user_group[\"rating\"].count()\n",
    "average_book_rating = item_group[\"rating\"].mean()\n",
    "number_of_book_ratings = item_group[\"rating\"].count()\n",
    "\n",
    "average_user_rating.name = \"avg_rating\"\n",
    "number_of_ratings_by_user.name = \"N_ratings\"\n",
    "average_book_rating.name = \"avg_rating\"\n",
    "number_of_book_ratings.name = \"N_ratings\""
   ]
  },
  {
   "cell_type": "code",
   "execution_count": 189,
   "metadata": {
    "pycharm": {
     "name": "#%%\n"
    }
   },
   "outputs": [
    {
     "data": {
      "text/plain": [
       "user\n",
       "1        8.062500\n",
       "2        9.282051\n",
       "5        8.500000\n",
       "7        7.045455\n",
       "9        7.040000\n",
       "          ...    \n",
       "2937     8.662500\n",
       "2939    10.000000\n",
       "2942     7.250000\n",
       "2943     7.956522\n",
       "2945     7.166667\n",
       "Name: avg_rating, Length: 1295, dtype: float64"
      ]
     },
     "execution_count": 189,
     "metadata": {},
     "output_type": "execute_result"
    }
   ],
   "source": [
    "average_user_rating"
   ]
  },
  {
   "cell_type": "code",
   "execution_count": 190,
   "metadata": {
    "pycharm": {
     "name": "#%%\n"
    }
   },
   "outputs": [
    {
     "name": "stdout",
     "output_type": "stream",
     "text": [
      "   user                     Location  Age Country\n",
      "0     1  minneapolis, minnesota, usa   24     USA\n",
      "1     2   san diego, california, usa   20     USA\n",
      "2     3      novinger, missouri, usa   16     USA\n",
      "3     4      sonoma, california, usa   34     USA\n",
      "4     5    berkeley, california, usa   23     USA\n"
     ]
    }
   ],
   "source": [
    "# Merge with orig df\n",
    "user_info_df = user_info_df.rename(columns={'User-ID': 'user'})\n",
    "print(user_info_df.head())\n",
    "user_info_df = user_info_df.join(number_of_ratings_by_user, on=\"user\")\n",
    "# user_info_df = user_info_df.join(average_user_rating, on=\"user\")\n",
    "# books = books.join(number_of_book_ratings, on=\"ISBN\")\n",
    "# books = books.join(average_book_rating, on=\"ISBN\")\n",
    "\n",
    "# users[\"N_ratings\"] = users[\"N_ratings\"].fillna(0)\n",
    "# books[\"N_ratings\"] = books[\"N_ratings\"].fillna(0)\n",
    "\n",
    "# users[\"N_ratings\"] = users[\"N_ratings\"].astype(\"int64\")\n",
    "# books[\"N_ratings\"] = books[\"N_ratings\"].astype(\"int64\")"
   ]
  },
  {
   "cell_type": "code",
   "execution_count": 191,
   "metadata": {
    "pycharm": {
     "name": "#%%\n"
    }
   },
   "outputs": [],
   "source": [
    "user_info_df = user_info_df.join(average_user_rating, on=\"user\")\n"
   ]
  },
  {
   "cell_type": "code",
   "execution_count": 192,
   "metadata": {
    "pycharm": {
     "name": "#%%\n"
    }
   },
   "outputs": [
    {
     "ename": "NameError",
     "evalue": "name 'books' is not defined",
     "output_type": "error",
     "traceback": [
      "\u001b[1;31m---------------------------------------------------------------------------\u001b[0m",
      "\u001b[1;31mNameError\u001b[0m                                 Traceback (most recent call last)",
      "Cell \u001b[1;32mIn[192], line 1\u001b[0m\n\u001b[1;32m----> 1\u001b[0m books \u001b[38;5;241m=\u001b[39m \u001b[43mbooks\u001b[49m\u001b[38;5;241m.\u001b[39mjoin(number_of_book_ratings, on\u001b[38;5;241m=\u001b[39m\u001b[38;5;124m\"\u001b[39m\u001b[38;5;124mISBN\u001b[39m\u001b[38;5;124m\"\u001b[39m)\n\u001b[0;32m      2\u001b[0m books \u001b[38;5;241m=\u001b[39m books\u001b[38;5;241m.\u001b[39mjoin(average_book_rating, on\u001b[38;5;241m=\u001b[39m\u001b[38;5;124m\"\u001b[39m\u001b[38;5;124mISBN\u001b[39m\u001b[38;5;124m\"\u001b[39m)\n",
      "\u001b[1;31mNameError\u001b[0m: name 'books' is not defined"
     ]
    }
   ],
   "source": [
    "books = books.join(number_of_book_ratings, on=\"ISBN\")\n",
    "books = books.join(average_book_rating, on=\"ISBN\")\n"
   ]
  },
  {
   "cell_type": "code",
   "execution_count": 193,
   "metadata": {
    "pycharm": {
     "name": "#%%\n"
    }
   },
   "outputs": [],
   "source": [
    "items_info_df = items_info_df.drop(items_info_df[items_info_df['Year-Of-Publication']=='Hutchinson'].index)\n",
    "items_info_df = items_info_df.drop(items_info_df[items_info_df['Year-Of-Publication']=='Baldini&amp Castoldi'].index)\n",
    "items_info_df = items_info_df.drop(items_info_df[items_info_df['Year-Of-Publication']=='http://images.amazon.com/images/P/0451404874.01.THUMBZZZ.jpg'].index)"
   ]
  },
  {
   "cell_type": "code",
   "execution_count": 194,
   "metadata": {
    "pycharm": {
     "name": "#%%\n"
    }
   },
   "outputs": [],
   "source": [
    "items_info_df[\"Book-Author\"] = items_info_df[\"Book-Author\"].apply(lambda x: x.strip())"
   ]
  },
  {
   "cell_type": "code",
   "execution_count": 195,
   "metadata": {
    "pycharm": {
     "name": "#%%\n"
    }
   },
   "outputs": [
    {
     "name": "stdout",
     "output_type": "stream",
     "text": [
      "[\"Carlo D'Este\" 'E. J. W. Barber' 'Robert Cowley' ... 'F. Engels'\n",
      " 'Essie Summers' 'Katherine Sherwood Bonner McDowell']\n"
     ]
    }
   ],
   "source": [
    "print(items_info_df[\"Book-Author\"].unique())"
   ]
  },
  {
   "cell_type": "code",
   "execution_count": 196,
   "metadata": {
    "pycharm": {
     "name": "#%%\n"
    }
   },
   "outputs": [
    {
     "name": "stdout",
     "output_type": "stream",
     "text": [
      "       Book_ID        ISBN                                         Book-Title  \\\n",
      "33          34  1414035004  The Adventures of Drew and Ellie: The Magical ...   \n",
      "2716      2717  1410798860  The Diary of Alice Mary: A Factual Childhood D...   \n",
      "4703      4704  140332557X  The Little Guide to Happiness: How to Smile Again   \n",
      "10080    10081  1410744310   Lost in the Rain II: Poetry and Quotes to Ponder   \n",
      "10290    10291  1588204030  $oft Money: The True Power in Our Nation's Cap...   \n",
      "11239    11240  1410716856                              Starlight, Starbright   \n",
      "11602    11603  141401354X                                  Ocean of the Dead   \n",
      "13198    13199  1410785971             The Story in the Little Brown Suitcase   \n",
      "\n",
      "                     Book-Author Year-Of-Publication         Publisher  \\\n",
      "33                Charles Noland                2003  1stBooks Library   \n",
      "2716    Alice Mary Connally Fisk                2003  1stBooks Library   \n",
      "4703       Michael Kevin Naselli                2001  1stBooks Library   \n",
      "10080            Glenda Schattie                2003  1stBooks Library   \n",
      "10290               E. L. Burton                2000  1stBooks Library   \n",
      "11239  Barbara Elliott Carpenter                2003  1stBooks Library   \n",
      "11602          M. J. Morrissette                2003  1stBooks Library   \n",
      "13198         Carol Lynn Caswell                2003  1stBooks Library   \n",
      "\n",
      "                                             Image-URL-S  \\\n",
      "33     http://images.amazon.com/images/P/1414035004.0...   \n",
      "2716   http://images.amazon.com/images/P/1410798860.0...   \n",
      "4703   http://images.amazon.com/images/P/140332557X.0...   \n",
      "10080  http://images.amazon.com/images/P/1410744310.0...   \n",
      "10290  http://images.amazon.com/images/P/1588204030.0...   \n",
      "11239  http://images.amazon.com/images/P/1410716856.0...   \n",
      "11602  http://images.amazon.com/images/P/141401354X.0...   \n",
      "13198  http://images.amazon.com/images/P/1410785971.0...   \n",
      "\n",
      "                                             Image-URL-M  \\\n",
      "33     http://images.amazon.com/images/P/1414035004.0...   \n",
      "2716   http://images.amazon.com/images/P/1410798860.0...   \n",
      "4703   http://images.amazon.com/images/P/140332557X.0...   \n",
      "10080  http://images.amazon.com/images/P/1410744310.0...   \n",
      "10290  http://images.amazon.com/images/P/1588204030.0...   \n",
      "11239  http://images.amazon.com/images/P/1410716856.0...   \n",
      "11602  http://images.amazon.com/images/P/141401354X.0...   \n",
      "13198  http://images.amazon.com/images/P/1410785971.0...   \n",
      "\n",
      "                                             Image-URL-L  \n",
      "33     http://images.amazon.com/images/P/1414035004.0...  \n",
      "2716   http://images.amazon.com/images/P/1410798860.0...  \n",
      "4703   http://images.amazon.com/images/P/140332557X.0...  \n",
      "10080  http://images.amazon.com/images/P/1410744310.0...  \n",
      "10290  http://images.amazon.com/images/P/1588204030.0...  \n",
      "11239  http://images.amazon.com/images/P/1410716856.0...  \n",
      "11602  http://images.amazon.com/images/P/141401354X.0...  \n",
      "13198  http://images.amazon.com/images/P/1410785971.0...  \n"
     ]
    }
   ],
   "source": [
    "print(items_info_df[items_info_df[\"Publisher\"]=='1stBooks Library'])"
   ]
  },
  {
   "cell_type": "markdown",
   "metadata": {
    "pycharm": {
     "name": "#%% md\n"
    }
   },
   "source": [
    "## 3.3 EXPLORE with RATING INFO"
   ]
  },
  {
   "cell_type": "code",
   "execution_count": 197,
   "metadata": {
    "pycharm": {
     "name": "#%%\n"
    }
   },
   "outputs": [
    {
     "data": {
      "text/html": [
       "<div>\n",
       "<style scoped>\n",
       "    .dataframe tbody tr th:only-of-type {\n",
       "        vertical-align: middle;\n",
       "    }\n",
       "\n",
       "    .dataframe tbody tr th {\n",
       "        vertical-align: top;\n",
       "    }\n",
       "\n",
       "    .dataframe thead th {\n",
       "        text-align: right;\n",
       "    }\n",
       "</style>\n",
       "<table border=\"1\" class=\"dataframe\">\n",
       "  <thead>\n",
       "    <tr style=\"text-align: right;\">\n",
       "      <th></th>\n",
       "      <th>user</th>\n",
       "      <th>item</th>\n",
       "      <th>rating</th>\n",
       "    </tr>\n",
       "  </thead>\n",
       "  <tbody>\n",
       "    <tr>\n",
       "      <th>0</th>\n",
       "      <td>1</td>\n",
       "      <td>6264</td>\n",
       "      <td>7.0</td>\n",
       "    </tr>\n",
       "    <tr>\n",
       "      <th>1</th>\n",
       "      <td>1</td>\n",
       "      <td>4350</td>\n",
       "      <td>7.0</td>\n",
       "    </tr>\n",
       "    <tr>\n",
       "      <th>2</th>\n",
       "      <td>1</td>\n",
       "      <td>6252</td>\n",
       "      <td>5.0</td>\n",
       "    </tr>\n",
       "    <tr>\n",
       "      <th>3</th>\n",
       "      <td>1</td>\n",
       "      <td>202</td>\n",
       "      <td>9.0</td>\n",
       "    </tr>\n",
       "    <tr>\n",
       "      <th>4</th>\n",
       "      <td>1</td>\n",
       "      <td>6266</td>\n",
       "      <td>6.0</td>\n",
       "    </tr>\n",
       "  </tbody>\n",
       "</table>\n",
       "</div>"
      ],
      "text/plain": [
       "   user  item  rating\n",
       "0     1  6264     7.0\n",
       "1     1  4350     7.0\n",
       "2     1  6252     5.0\n",
       "3     1   202     9.0\n",
       "4     1  6266     6.0"
      ]
     },
     "execution_count": 197,
     "metadata": {},
     "output_type": "execute_result"
    }
   ],
   "source": [
    "book_rate_df.head()"
   ]
  },
  {
   "cell_type": "code",
   "execution_count": 198,
   "metadata": {
    "pycharm": {
     "name": "#%%\n"
    }
   },
   "outputs": [
    {
     "name": "stdout",
     "output_type": "stream",
     "text": [
      "               user          item        rating\n",
      "count  62656.000000  62656.000000  62656.000000\n",
      "mean    1458.705056   6106.118839      7.953700\n",
      "std      848.564252   4847.444402      1.717846\n",
      "min        1.000000      1.000000      1.000000\n",
      "25%      760.000000   1888.000000      7.000000\n",
      "50%     1398.000000   4977.000000      8.000000\n",
      "75%     2218.000000   9538.000000      9.000000\n",
      "max     2945.000000  17384.000000     10.000000\n"
     ]
    }
   ],
   "source": [
    "print(book_rate_df.describe())"
   ]
  },
  {
   "cell_type": "code",
   "execution_count": 199,
   "metadata": {
    "pycharm": {
     "name": "#%%\n"
    }
   },
   "outputs": [
    {
     "name": "stdout",
     "output_type": "stream",
     "text": [
      "<class 'pandas.core.frame.DataFrame'>\n",
      "RangeIndex: 62656 entries, 0 to 62655\n",
      "Data columns (total 3 columns):\n",
      " #   Column  Non-Null Count  Dtype  \n",
      "---  ------  --------------  -----  \n",
      " 0   user    62656 non-null  int64  \n",
      " 1   item    62656 non-null  int64  \n",
      " 2   rating  62656 non-null  float64\n",
      "dtypes: float64(1), int64(2)\n",
      "memory usage: 1.4 MB\n",
      "None\n"
     ]
    }
   ],
   "source": [
    "print(book_rate_df.info())"
   ]
  },
  {
   "cell_type": "code",
   "execution_count": 200,
   "metadata": {
    "pycharm": {
     "name": "#%%\n"
    }
   },
   "outputs": [
    {
     "name": "stdout",
     "output_type": "stream",
     "text": [
      "[ 7.  5.  9.  6.  8. 10.  4.  3.  1.  2.]\n"
     ]
    }
   ],
   "source": [
    "print(book_rate_df['rating'].unique())"
   ]
  },
  {
   "cell_type": "code",
   "execution_count": 201,
   "metadata": {
    "pycharm": {
     "name": "#%%\n"
    }
   },
   "outputs": [
    {
     "name": "stdout",
     "output_type": "stream",
     "text": [
      "rating\n",
      "8.0     15629\n",
      "10.0    13884\n",
      "9.0     12008\n",
      "7.0      9906\n",
      "5.0      5183\n",
      "6.0      4236\n",
      "4.0       859\n",
      "3.0       552\n",
      "2.0       239\n",
      "1.0       160\n",
      "Name: count, dtype: int64\n"
     ]
    }
   ],
   "source": [
    "print(book_rate_df['rating'].value_counts())"
   ]
  },
  {
   "cell_type": "code",
   "execution_count": null,
   "metadata": {
    "pycharm": {
     "name": "#%%\n"
    }
   },
   "outputs": [],
   "source": [
    "book_rate_df = book_rate_df.rename(columns={'user': 'User-ID',\n",
    "                                                      'item': 'Book-ID'})\n",
    "items_info_df = items_info_df.rename(columns={'Book_ID': 'Book-ID'})\n",
    "\n",
    "user_group = book_rate_df.groupby(\"User-ID\")\n",
    "item_group = book_rate_df.groupby(\"Book-ID\")\n",
    "\n",
    "\n",
    "average_user_rating = user_group[\"rating\"].mean()\n",
    "number_of_ratings_by_user = user_group[\"rating\"].count()\n",
    "average_book_rating = item_group[\"rating\"].mean()\n",
    "number_of_book_ratings = item_group[\"rating\"].count()\n",
    "\n",
    "average_user_rating.name = \"avg_rating\"\n",
    "number_of_ratings_by_user.name = \"n_ratings\"\n",
    "average_book_rating.name = \"avg_rating\"\n",
    "number_of_book_ratings.name = \"n_ratings\""
   ]
  },
  {
   "cell_type": "code",
   "execution_count": null,
   "metadata": {
    "pycharm": {
     "name": "#%%\n"
    }
   },
   "outputs": [],
   "source": [
    "average_user_rating"
   ]
  },
  {
   "cell_type": "code",
   "execution_count": null,
   "metadata": {
    "pycharm": {
     "name": "#%%\n"
    }
   },
   "outputs": [],
   "source": [
    "# join ratings info with users info and items info\n",
    "user_info_df = user_info_df.join(number_of_ratings_by_user, on=\"User-ID\")\n",
    "user_info_df = user_info_df.join(average_user_rating, on=\"User-ID\")\n",
    "\n",
    "items_info_df = items_info_df.join(number_of_book_ratings, on=\"Book-ID\")\n",
    "items_info_df = items_info_df.join(average_book_rating, on=\"Book-ID\")\n",
    "\n",
    "# fill na values of number rating with zero\n",
    "user_info_df[\"n_ratings\"] = user_info_df[\"n_ratings\"].fillna(0)\n",
    "items_info_df[\"n_ratings\"] = items_info_df[\"n_ratings\"].fillna(0)\n",
    "\n",
    "# convert to integer\n",
    "user_info_df[\"n_ratings\"] = user_info_df[\"n_ratings\"].astype(int)\n",
    "items_info_df[\"n_ratings\"] = items_info_df[\"n_ratings\"].astype(int)"
   ]
  },
  {
   "cell_type": "code",
   "execution_count": null,
   "metadata": {
    "pycharm": {
     "name": "#%%\n"
    }
   },
   "outputs": [],
   "source": []
  },
  {
   "cell_type": "code",
   "execution_count": null,
   "metadata": {
    "pycharm": {
     "name": "#%%\n"
    }
   },
   "outputs": [],
   "source": []
  },
  {
   "cell_type": "code",
   "execution_count": null,
   "metadata": {},
   "outputs": [],
   "source": []
  },
  {
   "cell_type": "code",
   "execution_count": null,
   "metadata": {},
   "outputs": [],
   "source": []
  }
 ],
 "metadata": {
  "kernelspec": {
   "display_name": "Python 3 (ipykernel)",
   "language": "python",
   "name": "python3"
  },
  "language_info": {
   "codemirror_mode": {
    "name": "ipython",
    "version": 3
   },
   "file_extension": ".py",
   "mimetype": "text/x-python",
   "name": "python",
   "nbconvert_exporter": "python",
   "pygments_lexer": "ipython3",
   "version": "3.9.13"
  }
 },
 "nbformat": 4,
 "nbformat_minor": 1
}
