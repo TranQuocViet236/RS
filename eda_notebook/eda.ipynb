{
 "cells": [
  {
   "cell_type": "markdown",
   "metadata": {
    "pycharm": {
     "name": "#%% md\n"
    }
   },
   "source": [
    "# 1. Install and import require packages for EDA"
   ]
  },
  {
   "cell_type": "code",
   "execution_count": 92,
   "metadata": {
    "pycharm": {
     "is_executing": true,
     "name": "#%%\n"
    }
   },
   "outputs": [
    {
     "name": "stderr",
     "output_type": "stream",
     "text": [
      "WARNING: You are using pip version 21.3.1; however, version 23.1.2 is available.\n",
      "You should consider upgrading via the 'C:\\Users\\ad\\PycharmProjects\\RS\\venv\\Scripts\\python.exe -m pip install --upgrade pip' command.\n"
     ]
    },
    {
     "name": "stdout",
     "output_type": "stream",
     "text": [
      "Requirement already satisfied: pandas in c:\\users\\ad\\pycharmprojects\\rs\\venv\\lib\\site-packages (2.0.2)\n",
      "Requirement already satisfied: tzdata>=2022.1 in c:\\users\\ad\\pycharmprojects\\rs\\venv\\lib\\site-packages (from pandas) (2023.3)\n",
      "Requirement already satisfied: python-dateutil>=2.8.2 in c:\\users\\ad\\pycharmprojects\\rs\\venv\\lib\\site-packages (from pandas) (2.8.2)\n",
      "Requirement already satisfied: pytz>=2020.1 in c:\\users\\ad\\pycharmprojects\\rs\\venv\\lib\\site-packages (from pandas) (2023.3)\n",
      "Requirement already satisfied: numpy>=1.20.3 in c:\\users\\ad\\pycharmprojects\\rs\\venv\\lib\\site-packages (from pandas) (1.24.3)\n",
      "Requirement already satisfied: six>=1.5 in c:\\users\\ad\\pycharmprojects\\rs\\venv\\lib\\site-packages (from python-dateutil>=2.8.2->pandas) (1.16.0)\n",
      "Requirement already satisfied: country_converter in c:\\users\\ad\\pycharmprojects\\rs\\venv\\lib\\site-packages (1.0.0)"
     ]
    },
    {
     "name": "stderr",
     "output_type": "stream",
     "text": [
      "WARNING: You are using pip version 21.3.1; however, version 23.1.2 is available.\n",
      "You should consider upgrading via the 'C:\\Users\\ad\\PycharmProjects\\RS\\venv\\Scripts\\python.exe -m pip install --upgrade pip' command.\n"
     ]
    },
    {
     "name": "stdout",
     "output_type": "stream",
     "text": [
      "\n",
      "Requirement already satisfied: pandas>=1.0 in c:\\users\\ad\\pycharmprojects\\rs\\venv\\lib\\site-packages (from country_converter) (2.0.2)\n",
      "Requirement already satisfied: pytz>=2020.1 in c:\\users\\ad\\pycharmprojects\\rs\\venv\\lib\\site-packages (from pandas>=1.0->country_converter) (2023.3)\n",
      "Requirement already satisfied: python-dateutil>=2.8.2 in c:\\users\\ad\\pycharmprojects\\rs\\venv\\lib\\site-packages (from pandas>=1.0->country_converter) (2.8.2)\n",
      "Requirement already satisfied: numpy>=1.20.3 in c:\\users\\ad\\pycharmprojects\\rs\\venv\\lib\\site-packages (from pandas>=1.0->country_converter) (1.24.3)\n",
      "Requirement already satisfied: tzdata>=2022.1 in c:\\users\\ad\\pycharmprojects\\rs\\venv\\lib\\site-packages (from pandas>=1.0->country_converter) (2023.3)\n",
      "Requirement already satisfied: six>=1.5 in c:\\users\\ad\\pycharmprojects\\rs\\venv\\lib\\site-packages (from python-dateutil>=2.8.2->pandas>=1.0->country_converter) (1.16.0)\n",
      "Requirement already satisfied: plotly in c:\\users\\ad\\pycharmprojects\\rs\\venv\\lib\\site-packages (5.15.0)\n",
      "Requirement already satisfied: tenacity>=6.2.0 in c:\\users\\ad\\pycharmprojects\\rs\\venv\\lib\\site-packages (from plotly) (8.2.2)\n",
      "Requirement already satisfied: packaging in c:\\users\\ad\\pycharmprojects\\rs\\venv\\lib\\site-packages (from plotly) (23.1)\n"
     ]
    },
    {
     "name": "stderr",
     "output_type": "stream",
     "text": [
      "WARNING: You are using pip version 21.3.1; however, version 23.1.2 is available.\n",
      "You should consider upgrading via the 'C:\\Users\\ad\\PycharmProjects\\RS\\venv\\Scripts\\python.exe -m pip install --upgrade pip' command.\n"
     ]
    },
    {
     "name": "stdout",
     "output_type": "stream",
     "text": [
      "Requirement already satisfied: matplotlib in c:\\users\\ad\\pycharmprojects\\rs\\venv\\lib\\site-packages (3.7.1)\n",
      "Requirement already satisfied: kiwisolver>=1.0.1 in c:\\users\\ad\\pycharmprojects\\rs\\venv\\lib\\site-packages (from matplotlib) (1.4.4)\n",
      "Requirement already satisfied: packaging>=20.0 in c:\\users\\ad\\pycharmprojects\\rs\\venv\\lib\\site-packages (from matplotlib) (23.1)\n",
      "Requirement already satisfied: pyparsing>=2.3.1 in c:\\users\\ad\\pycharmprojects\\rs\\venv\\lib\\site-packages (from matplotlib) (3.0.9)\n",
      "Requirement already satisfied: contourpy>=1.0.1 in c:\\users\\ad\\pycharmprojects\\rs\\venv\\lib\\site-packages (from matplotlib) (1.0.7)\n",
      "Requirement already satisfied: pillow>=6.2.0 in c:\\users\\ad\\pycharmprojects\\rs\\venv\\lib\\site-packages (from matplotlib) (9.5.0)\n",
      "Requirement already satisfied: fonttools>=4.22.0 in c:\\users\\ad\\pycharmprojects\\rs\\venv\\lib\\site-packages (from matplotlib) (4.39.4)\n",
      "Requirement already satisfied: numpy>=1.20 in c:\\users\\ad\\pycharmprojects\\rs\\venv\\lib\\site-packages (from matplotlib) (1.24.3)\n",
      "Requirement already satisfied: cycler>=0.10 in c:\\users\\ad\\pycharmprojects\\rs\\venv\\lib\\site-packages (from matplotlib) (0.11.0)\n",
      "Requirement already satisfied: python-dateutil>=2.7 in c:\\users\\ad\\pycharmprojects\\rs\\venv\\lib\\site-packages (from matplotlib) (2.8.2)\n",
      "Requirement already satisfied: importlib-resources>=3.2.0 in c:\\users\\ad\\pycharmprojects\\rs\\venv\\lib\\site-packages (from matplotlib) (5.12.0)\n",
      "Requirement already satisfied: zipp>=3.1.0 in c:\\users\\ad\\pycharmprojects\\rs\\venv\\lib\\site-packages (from importlib-resources>=3.2.0->matplotlib) (3.15.0)\n",
      "Requirement already satisfied: six>=1.5 in c:\\users\\ad\\pycharmprojects\\rs\\venv\\lib\\site-packages (from python-dateutil>=2.7->matplotlib) (1.16.0)\n"
     ]
    },
    {
     "name": "stderr",
     "output_type": "stream",
     "text": [
      "WARNING: You are using pip version 21.3.1; however, version 23.1.2 is available.\n",
      "You should consider upgrading via the 'C:\\Users\\ad\\PycharmProjects\\RS\\venv\\Scripts\\python.exe -m pip install --upgrade pip' command.\n"
     ]
    },
    {
     "name": "stdout",
     "output_type": "stream",
     "text": [
      "Collecting seaborn\n",
      "  Downloading seaborn-0.12.2-py3-none-any.whl (293 kB)\n",
      "Requirement already satisfied: matplotlib!=3.6.1,>=3.1 in c:\\users\\ad\\pycharmprojects\\rs\\venv\\lib\\site-packages (from seaborn) (3.7.1)\n",
      "Requirement already satisfied: pandas>=0.25 in c:\\users\\ad\\pycharmprojects\\rs\\venv\\lib\\site-packages (from seaborn) (2.0.2)\n",
      "Requirement already satisfied: numpy!=1.24.0,>=1.17 in c:\\users\\ad\\pycharmprojects\\rs\\venv\\lib\\site-packages (from seaborn) (1.24.3)\n",
      "Requirement already satisfied: cycler>=0.10 in c:\\users\\ad\\pycharmprojects\\rs\\venv\\lib\\site-packages (from matplotlib!=3.6.1,>=3.1->seaborn) (0.11.0)\n",
      "Requirement already satisfied: fonttools>=4.22.0 in c:\\users\\ad\\pycharmprojects\\rs\\venv\\lib\\site-packages (from matplotlib!=3.6.1,>=3.1->seaborn) (4.39.4)\n",
      "Requirement already satisfied: python-dateutil>=2.7 in c:\\users\\ad\\pycharmprojects\\rs\\venv\\lib\\site-packages (from matplotlib!=3.6.1,>=3.1->seaborn) (2.8.2)\n",
      "Requirement already satisfied: pillow>=6.2.0 in c:\\users\\ad\\pycharmprojects\\rs\\venv\\lib\\site-packages (from matplotlib!=3.6.1,>=3.1->seaborn) (9.5.0)\n",
      "Requirement already satisfied: kiwisolver>=1.0.1 in c:\\users\\ad\\pycharmprojects\\rs\\venv\\lib\\site-packages (from matplotlib!=3.6.1,>=3.1->seaborn) (1.4.4)\n",
      "Requirement already satisfied: contourpy>=1.0.1 in c:\\users\\ad\\pycharmprojects\\rs\\venv\\lib\\site-packages (from matplotlib!=3.6.1,>=3.1->seaborn) (1.0.7)\n",
      "Requirement already satisfied: importlib-resources>=3.2.0 in c:\\users\\ad\\pycharmprojects\\rs\\venv\\lib\\site-packages (from matplotlib!=3.6.1,>=3.1->seaborn) (5.12.0)\n",
      "Requirement already satisfied: packaging>=20.0 in c:\\users\\ad\\pycharmprojects\\rs\\venv\\lib\\site-packages (from matplotlib!=3.6.1,>=3.1->seaborn) (23.1)\n",
      "Requirement already satisfied: pyparsing>=2.3.1 in c:\\users\\ad\\pycharmprojects\\rs\\venv\\lib\\site-packages (from matplotlib!=3.6.1,>=3.1->seaborn) (3.0.9)\n",
      "Requirement already satisfied: tzdata>=2022.1 in c:\\users\\ad\\pycharmprojects\\rs\\venv\\lib\\site-packages (from pandas>=0.25->seaborn) (2023.3)\n",
      "Requirement already satisfied: pytz>=2020.1 in c:\\users\\ad\\pycharmprojects\\rs\\venv\\lib\\site-packages (from pandas>=0.25->seaborn) (2023.3)\n",
      "Requirement already satisfied: zipp>=3.1.0 in c:\\users\\ad\\pycharmprojects\\rs\\venv\\lib\\site-packages (from importlib-resources>=3.2.0->matplotlib!=3.6.1,>=3.1->seaborn) (3.15.0)\n",
      "Requirement already satisfied: six>=1.5 in c:\\users\\ad\\pycharmprojects\\rs\\venv\\lib\\site-packages (from python-dateutil>=2.7->matplotlib!=3.6.1,>=3.1->seaborn) (1.16.0)\n",
      "Installing collected packages: seaborn\n",
      "Successfully installed seaborn-0.12.2\n"
     ]
    },
    {
     "name": "stderr",
     "output_type": "stream",
     "text": [
      "WARNING: You are using pip version 21.3.1; however, version 23.1.2 is available.\n",
      "You should consider upgrading via the 'C:\\Users\\ad\\PycharmProjects\\RS\\venv\\Scripts\\python.exe -m pip install --upgrade pip' command.\n"
     ]
    }
   ],
   "source": [
    "# install require packages\n",
    "!pip install pandas\n",
    "!pip install country_converter\n",
    "!pip install plotly\n",
    "!pip install matplotlib\n",
    "!pip install seaborn"
   ]
  },
  {
   "cell_type": "code",
   "execution_count": null,
   "outputs": [],
   "source": [
    "# import require packages\n",
    "\n",
    "import pandas as pd\n",
    "import numpy as np\n",
    "import country_converter as coco\n",
    "import plotly.express as px\n",
    "import matplotlib.pyplot as plt\n",
    "import seaborn as sns"
   ],
   "metadata": {
    "collapsed": false,
    "pycharm": {
     "name": "#%%\n"
    }
   }
  },
  {
   "cell_type": "markdown",
   "source": [
    "# 2. Load dataset as dataframes"
   ],
   "metadata": {
    "collapsed": false,
    "pycharm": {
     "name": "#%% md\n"
    }
   }
  },
  {
   "cell_type": "code",
   "execution_count": null,
   "outputs": [],
   "source": [
    "# data paths\n",
    "book_hist_path = '../book_crossing/book_history.dat'\n",
    "book_rate_path = '../book_crossing/book_ratings.dat'\n",
    "items_info_path = '../book_crossing/items_info.dat'\n",
    "users_info_path = '../book_crossing/users_info.dat'"
   ],
   "metadata": {
    "collapsed": false,
    "pycharm": {
     "name": "#%%\n"
    }
   }
  },
  {
   "cell_type": "code",
   "execution_count": null,
   "outputs": [],
   "source": [
    "book_hist_df = pd.read_csv(book_hist_path, delimiter='\\t', header=None, low_memory=False, na_values=np.nan)\n",
    "print(book_hist_df.head())"
   ],
   "metadata": {
    "collapsed": false,
    "pycharm": {
     "name": "#%%\n"
    }
   }
  },
  {
   "cell_type": "code",
   "execution_count": null,
   "outputs": [],
   "source": [
    "book_rate_df = pd.read_csv(book_rate_path, delimiter='\\t', low_memory=False)\n",
    "print(book_rate_df.head())"
   ],
   "metadata": {
    "collapsed": false,
    "pycharm": {
     "name": "#%%\n"
    }
   }
  },
  {
   "cell_type": "markdown",
   "source": [],
   "metadata": {
    "collapsed": false,
    "pycharm": {
     "name": "#%% md\n"
    }
   }
  },
  {
   "cell_type": "code",
   "execution_count": null,
   "outputs": [],
   "source": [
    "user_info_df = pd.read_csv(users_info_path, delimiter='\\t', index_col=None, na_values=np.nan)"
   ],
   "metadata": {
    "collapsed": false,
    "pycharm": {
     "name": "#%%\n"
    }
   }
  },
  {
   "cell_type": "code",
   "execution_count": null,
   "outputs": [],
   "source": [
    "print(user_info_df.columns)"
   ],
   "metadata": {
    "collapsed": false,
    "pycharm": {
     "name": "#%%\n"
    }
   }
  },
  {
   "cell_type": "code",
   "execution_count": null,
   "outputs": [],
   "source": [
    "user_info_df.head()"
   ],
   "metadata": {
    "collapsed": false,
    "pycharm": {
     "name": "#%%\n"
    }
   }
  },
  {
   "cell_type": "code",
   "execution_count": null,
   "outputs": [],
   "source": [
    "items_info_df = pd.read_csv(items_info_path, delimiter='\\t')\n",
    "\n",
    "print(items_info_df.head())"
   ],
   "metadata": {
    "collapsed": false,
    "pycharm": {
     "name": "#%%\n"
    }
   }
  },
  {
   "cell_type": "code",
   "execution_count": null,
   "outputs": [],
   "source": [
    "print(items_info_df.columns)"
   ],
   "metadata": {
    "collapsed": false,
    "pycharm": {
     "name": "#%%\n"
    }
   }
  },
  {
   "cell_type": "markdown",
   "source": [
    "# 3. EDA"
   ],
   "metadata": {
    "collapsed": false,
    "pycharm": {
     "name": "#%% md\n"
    }
   }
  },
  {
   "cell_type": "markdown",
   "source": [
    "## 3.1  Exploring USER INFO"
   ],
   "metadata": {
    "collapsed": false,
    "pycharm": {
     "name": "#%% md\n"
    }
   }
  },
  {
   "cell_type": "code",
   "execution_count": null,
   "outputs": [],
   "source": [
    "# get number of users\n",
    "print(user_info_df.shape)\n",
    "print(user_info_df.columns)\n",
    "print(user_info_df.head())"
   ],
   "metadata": {
    "collapsed": false,
    "pycharm": {
     "name": "#%%\n"
    }
   }
  },
  {
   "cell_type": "markdown",
   "source": [
    "##### >> Total: 2946 users, each user has 3 attributes: 'User-ID', 'Location', 'Age'."
   ],
   "metadata": {
    "collapsed": false,
    "pycharm": {
     "name": "#%% md\n"
    }
   }
  },
  {
   "cell_type": "markdown",
   "source": [
    "#### 3.1.1. Explore Age from users info"
   ],
   "metadata": {
    "collapsed": false,
    "pycharm": {
     "name": "#%% md\n"
    }
   }
  },
  {
   "cell_type": "code",
   "execution_count": null,
   "outputs": [],
   "source": [
    "# Print out age values\n",
    "print(sorted(user_info_df.Age.unique()))"
   ],
   "metadata": {
    "collapsed": false,
    "pycharm": {
     "name": "#%%\n"
    }
   }
  },
  {
   "cell_type": "markdown",
   "source": [
    "##### >> 'Age' columns no have any null values, and have some value very high, more than 100."
   ],
   "metadata": {
    "collapsed": false,
    "pycharm": {
     "name": "#%% md\n"
    }
   }
  },
  {
   "cell_type": "markdown",
   "source": [
    "##### // As we see, people who are less than 5 years old or more than 90 years old usually can't rate books much, so in this case we will replace them with nan values."
   ],
   "metadata": {
    "collapsed": false,
    "pycharm": {
     "name": "#%% md\n"
    }
   }
  },
  {
   "cell_type": "code",
   "execution_count": null,
   "outputs": [],
   "source": [
    "user_info_df.loc[(user_info_df.Age > 90) | (user_info_df.Age < 5), 'Age'] = np.nan"
   ],
   "metadata": {
    "collapsed": false,
    "pycharm": {
     "name": "#%%\n"
    }
   }
  },
  {
   "cell_type": "code",
   "execution_count": null,
   "outputs": [],
   "source": [
    "print(user_info_df[(user_info_df.Age > 90) | (user_info_df.Age < 5)])"
   ],
   "metadata": {
    "collapsed": false,
    "pycharm": {
     "name": "#%%\n"
    }
   }
  },
  {
   "cell_type": "code",
   "execution_count": null,
   "outputs": [],
   "source": [
    "print(user_info_df[user_info_df['Age'] == np.nan])"
   ],
   "metadata": {
    "collapsed": false,
    "pycharm": {
     "name": "#%%\n"
    }
   }
  },
  {
   "cell_type": "markdown",
   "source": [
    "##### Replace nan values in Age column with mean()"
   ],
   "metadata": {
    "collapsed": false,
    "pycharm": {
     "name": "#%% md\n"
    }
   }
  },
  {
   "cell_type": "code",
   "execution_count": null,
   "outputs": [],
   "source": [
    "user_info_df['Age'] = user_info_df['Age'].fillna(user_info_df['Age'].mean())"
   ],
   "metadata": {
    "collapsed": false,
    "pycharm": {
     "name": "#%%\n"
    }
   }
  },
  {
   "cell_type": "code",
   "execution_count": null,
   "outputs": [],
   "source": [
    "user_info_df.head()"
   ],
   "metadata": {
    "collapsed": false,
    "pycharm": {
     "name": "#%%\n"
    }
   }
  },
  {
   "cell_type": "code",
   "execution_count": null,
   "outputs": [],
   "source": [
    "# convert type 'Age' to integer\n",
    "user_info_df['Age'] = user_info_df['Age'].astype(int)"
   ],
   "metadata": {
    "collapsed": false,
    "pycharm": {
     "name": "#%%\n"
    }
   }
  },
  {
   "cell_type": "code",
   "execution_count": null,
   "outputs": [],
   "source": [
    "user_info_df.head()"
   ],
   "metadata": {
    "collapsed": false,
    "pycharm": {
     "name": "#%%\n"
    }
   }
  },
  {
   "cell_type": "markdown",
   "source": [
    "#### 3.1.2. Explore User's Location"
   ],
   "metadata": {
    "collapsed": false,
    "pycharm": {
     "name": "#%% md\n"
    }
   }
  },
  {
   "cell_type": "code",
   "execution_count": null,
   "outputs": [],
   "source": [
    "# explore countries from location\n",
    "countries = []\n",
    "user_info_df['Country'] = user_info_df['Location'].apply(lambda x: x.split(',')[-1])\n",
    "# countries.append(add[-1] for add in addresses)"
   ],
   "metadata": {
    "collapsed": false,
    "pycharm": {
     "name": "#%%\n"
    }
   }
  },
  {
   "cell_type": "code",
   "execution_count": null,
   "outputs": [],
   "source": [
    "print(user_info_df.head())"
   ],
   "metadata": {
    "collapsed": false,
    "pycharm": {
     "name": "#%%\n"
    }
   }
  },
  {
   "cell_type": "code",
   "execution_count": null,
   "outputs": [],
   "source": [
    "# print out all location from all users\n",
    "locations = sorted(user_info_df.Location.unique())\n",
    "countries = sorted(user_info_df.Country.unique())\n",
    "\n",
    "print(f'We have total: {len(locations)} locations')\n",
    "print(f'We have total: {len(countries)} countries')"
   ],
   "metadata": {
    "collapsed": false,
    "pycharm": {
     "name": "#%%\n"
    }
   }
  },
  {
   "cell_type": "markdown",
   "source": [
    "##### >> So, we have 1799 unique locations from 2946 users in dataset"
   ],
   "metadata": {
    "collapsed": false,
    "pycharm": {
     "name": "#%% md\n"
    }
   }
  },
  {
   "cell_type": "code",
   "execution_count": null,
   "outputs": [],
   "source": [
    "print(user_info_df['Country'].value_counts())"
   ],
   "metadata": {
    "collapsed": false,
    "pycharm": {
     "name": "#%%\n"
    }
   }
  },
  {
   "cell_type": "markdown",
   "source": [
    "#### As we see, top 3 countries has most book reviewers: usa (2128), canada (284), united kingdom(113)."
   ],
   "metadata": {
    "collapsed": false,
    "pycharm": {
     "name": "#%% md\n"
    }
   }
  },
  {
   "cell_type": "code",
   "execution_count": null,
   "outputs": [],
   "source": [
    "print(user_info_df[user_info_df['Country']==''])"
   ],
   "metadata": {
    "collapsed": false,
    "pycharm": {
     "name": "#%%\n"
    }
   }
  },
  {
   "cell_type": "markdown",
   "source": [
    "##### And has 72 people who we miss about their country name"
   ],
   "metadata": {
    "collapsed": false,
    "pycharm": {
     "name": "#%% md\n"
    }
   }
  },
  {
   "cell_type": "code",
   "execution_count": null,
   "outputs": [],
   "source": [
    "converted_country=coco.convert(names=user_info_df[\"Country\"], to=\"ISO3\")\n",
    "user_info_df[\"Country\"]=converted_country"
   ],
   "metadata": {
    "collapsed": false,
    "pycharm": {
     "name": "#%%\n"
    }
   }
  },
  {
   "cell_type": "code",
   "execution_count": null,
   "outputs": [],
   "source": [
    "country=user_info_df[\"Country\"].value_counts()\n",
    "# user_info_df.loc[user_info_df['Country']=='not found'] = 'USA'\n",
    "\n",
    "# country=user_info_df[\"Country\"].value_counts()\n",
    "user_info_df['Country'].loc[user_info_df['Country']=='not found'] = 'USA'\n",
    "\n",
    "\n",
    "print(country)\n",
    "print(type((country)))\n",
    "fig=px.choropleth(locations=country.index,\n",
    "                  color=country.values,\n",
    "                  color_continuous_scale=px.colors.sequential.dense,\n",
    "                  template='plotly_dark',\n",
    "                  title='Distribution of users by countries')\n",
    "\n",
    "fig.update_layout(font=dict(size=17, family=\"Franklin Gothic\"))\n",
    "fig.show()"
   ],
   "metadata": {
    "collapsed": false,
    "pycharm": {
     "name": "#%%\n"
    }
   }
  },
  {
   "cell_type": "code",
   "execution_count": null,
   "outputs": [],
   "source": [
    "user_info_df\n",
    "print(user_info_df['Country'].value_counts())"
   ],
   "metadata": {
    "collapsed": false,
    "pycharm": {
     "name": "#%%\n"
    }
   }
  },
  {
   "cell_type": "markdown",
   "source": [
    "##  3.2  Explore ITEM INFO"
   ],
   "metadata": {
    "collapsed": false,
    "pycharm": {
     "name": "#%% md\n"
    }
   }
  },
  {
   "cell_type": "code",
   "execution_count": null,
   "outputs": [],
   "source": [
    "print(items_info_df.head())"
   ],
   "metadata": {
    "collapsed": false,
    "pycharm": {
     "name": "#%%\n"
    }
   }
  },
  {
   "cell_type": "code",
   "execution_count": null,
   "outputs": [],
   "source": [
    "# describe item info df\n",
    "items_info_df.describe()"
   ],
   "metadata": {
    "collapsed": false,
    "pycharm": {
     "name": "#%%\n"
    }
   }
  },
  {
   "cell_type": "code",
   "execution_count": null,
   "outputs": [],
   "source": [
    "items_info_df.info()"
   ],
   "metadata": {
    "collapsed": false,
    "pycharm": {
     "name": "#%%\n"
    }
   }
  },
  {
   "cell_type": "code",
   "execution_count": null,
   "outputs": [],
   "source": [
    "# check null values in item info\n",
    "items_info_df.isnull().sum()"
   ],
   "metadata": {
    "collapsed": false,
    "pycharm": {
     "name": "#%%\n"
    }
   }
  },
  {
   "cell_type": "code",
   "execution_count": null,
   "outputs": [],
   "source": [
    "# check null values in item info\n",
    "items_info_df.isnull().sum()"
   ],
   "metadata": {
    "collapsed": false,
    "pycharm": {
     "name": "#%%\n"
    }
   }
  },
  {
   "cell_type": "code",
   "execution_count": null,
   "outputs": [],
   "source": [
    "# # convert 'Year-Of-Publication' values to numeric, if cannnot convert, this value cell will be np.nan\n",
    "# items_info_df['Year-Of-Publication'] = pd.to_numeric(df['Year-Of-Publication'], errors='coerce')"
   ],
   "metadata": {
    "collapsed": false,
    "pycharm": {
     "name": "#%%\n"
    }
   }
  },
  {
   "cell_type": "code",
   "execution_count": null,
   "outputs": [],
   "source": [
    "items_info_df"
   ],
   "metadata": {
    "collapsed": false,
    "pycharm": {
     "name": "#%%\n"
    }
   }
  },
  {
   "cell_type": "code",
   "execution_count": null,
   "outputs": [],
   "source": [
    "book_title_df = pd.DataFrame(items_info_df[\"Book-Title\"].value_counts())"
   ],
   "metadata": {
    "collapsed": false,
    "pycharm": {
     "name": "#%%\n"
    }
   }
  },
  {
   "cell_type": "code",
   "execution_count": null,
   "outputs": [],
   "source": [
    "# top 5 book's title\n",
    "book_title_df.head()"
   ],
   "metadata": {
    "collapsed": false,
    "pycharm": {
     "name": "#%%\n"
    }
   }
  },
  {
   "cell_type": "code",
   "execution_count": null,
   "outputs": [],
   "source": [
    "def plot_top_values(df, column, title, x_label, y_label, top=20, template = 'plotly_dark'):\n",
    "    \n",
    "    pl = df[column].value_counts().head(top)\n",
    "    fig = px.bar(y=pl.values, \n",
    "                 x=pl.index, \n",
    "                 color_discrete_sequence=px.colors.sequential.PuBuGn,\n",
    "                 text=pl.values,\n",
    "                 title= title,\n",
    "                 template= template)\n",
    "    fig.update_layout(\n",
    "        xaxis_title=x_label,\n",
    "        yaxis_title=y_label,\n",
    "        font = dict(size=15,family=\"Franklin Gothic\"))\n",
    "    fig.show()"
   ],
   "metadata": {
    "collapsed": false,
    "pycharm": {
     "name": "#%%\n"
    }
   }
  },
  {
   "cell_type": "code",
   "execution_count": null,
   "outputs": [],
   "source": [
    "plot_top_values(items_info_df, 'Year-Of-Publication', 'Top 20 years in which books were published in terms of count', \"Year\", \"Count\")"
   ],
   "metadata": {
    "collapsed": false,
    "pycharm": {
     "name": "#%%\n"
    }
   }
  },
  {
   "cell_type": "code",
   "execution_count": null,
   "outputs": [],
   "source": [
    "# as we see, number of books were published increasing every year"
   ],
   "metadata": {
    "collapsed": false,
    "pycharm": {
     "name": "#%%\n"
    }
   }
  },
  {
   "cell_type": "code",
   "execution_count": null,
   "outputs": [],
   "source": [
    "print(items_info_df['Year-Of-Publication'].unique())"
   ],
   "metadata": {
    "collapsed": false,
    "pycharm": {
     "name": "#%%\n"
    }
   }
  },
  {
   "cell_type": "code",
   "execution_count": null,
   "outputs": [],
   "source": [
    "print(items_info_df[items_info_df['Year-Of-Publication']=='Hutchinson'].index)\n",
    "print(items_info_df[items_info_df['Year-Of-Publication']=='Baldini&amp Castoldi'].index)\n",
    "print(items_info_df[items_info_df['Year-Of-Publication']=='Bantam Book'].index)\n",
    "print(items_info_df[items_info_df['Year-Of-Publication']=='http://images.amazon.com/images/P/0451404874.01.THUMBZZZ.jpg'].index)"
   ],
   "metadata": {
    "collapsed": false,
    "pycharm": {
     "name": "#%%\n"
    }
   }
  },
  {
   "cell_type": "code",
   "execution_count": null,
   "outputs": [],
   "source": [
    "items_info_df = items_info_df.drop(items_info_df[items_info_df['Year-Of-Publication']=='Hutchinson'].index)\n",
    "items_info_df = items_info_df.drop(items_info_df[items_info_df['Year-Of-Publication']=='Baldini&amp Castoldi'].index)\n",
    "items_info_df = items_info_df.drop(items_info_df[items_info_df['Year-Of-Publication']=='http://images.amazon.com/images/P/0451404874.01.THUMBZZZ.jpg'].index)"
   ],
   "metadata": {
    "collapsed": false,
    "pycharm": {
     "name": "#%%\n"
    }
   }
  },
  {
   "cell_type": "code",
   "execution_count": null,
   "outputs": [],
   "source": [
    "items_info_df[\"Book-Author\"] = items_info_df[\"Book-Author\"].apply(lambda x: x.strip())"
   ],
   "metadata": {
    "collapsed": false,
    "pycharm": {
     "name": "#%%\n"
    }
   }
  },
  {
   "cell_type": "code",
   "execution_count": null,
   "outputs": [],
   "source": [
    "print(items_info_df[\"Book-Author\"].unique())"
   ],
   "metadata": {
    "collapsed": false,
    "pycharm": {
     "name": "#%%\n"
    }
   }
  },
  {
   "cell_type": "code",
   "execution_count": null,
   "outputs": [],
   "source": [
    "print(items_info_df[items_info_df[\"Publisher\"]=='1stBooks Library'])"
   ],
   "metadata": {
    "collapsed": false,
    "pycharm": {
     "name": "#%%\n"
    }
   }
  },
  {
   "cell_type": "markdown",
   "source": [
    "## 3.3 EXPLORE with RATING INFO"
   ],
   "metadata": {
    "collapsed": false,
    "pycharm": {
     "name": "#%% md\n"
    }
   }
  },
  {
   "cell_type": "code",
   "execution_count": null,
   "outputs": [],
   "source": [
    "book_rate_df.head()"
   ],
   "metadata": {
    "collapsed": false,
    "pycharm": {
     "name": "#%%\n"
    }
   }
  },
  {
   "cell_type": "code",
   "execution_count": null,
   "outputs": [],
   "source": [
    "print(book_rate_df.describe())"
   ],
   "metadata": {
    "collapsed": false,
    "pycharm": {
     "name": "#%%\n"
    }
   }
  },
  {
   "cell_type": "code",
   "execution_count": null,
   "outputs": [],
   "source": [
    "print(book_rate_df.info())"
   ],
   "metadata": {
    "collapsed": false,
    "pycharm": {
     "name": "#%%\n"
    }
   }
  },
  {
   "cell_type": "code",
   "execution_count": null,
   "outputs": [],
   "source": [
    "print(book_rate_df['rating'].unique())"
   ],
   "metadata": {
    "collapsed": false,
    "pycharm": {
     "name": "#%%\n"
    }
   }
  },
  {
   "cell_type": "code",
   "execution_count": null,
   "outputs": [],
   "source": [
    "print(book_rate_df['rating'].value_counts())"
   ],
   "metadata": {
    "collapsed": false,
    "pycharm": {
     "name": "#%%\n"
    }
   }
  },
  {
   "cell_type": "code",
   "execution_count": null,
   "outputs": [],
   "source": [
    "user_group = book_rate_df.groupby(\"user\")\n",
    "item_group = book_rate_df.groupby(\"item\")\n",
    "\n",
    "\n",
    "average_user_rating = user_group[\"rating\"].mean()\n",
    "number_of_ratings_by_user = user_group[\"rating\"].count()\n",
    "average_book_rating = item_group[\"rating\"].mean()\n",
    "number_of_book_ratings = item_group[\"rating\"].count()\n",
    "\n",
    "average_user_rating.name = \"avg_rating\"\n",
    "number_of_ratings_by_user.name = \"N_ratings\"\n",
    "average_book_rating.name = \"avg_rating\"\n",
    "number_of_book_ratings.name = \"N_ratings\""
   ],
   "metadata": {
    "collapsed": false,
    "pycharm": {
     "name": "#%%\n"
    }
   }
  },
  {
   "cell_type": "code",
   "execution_count": null,
   "outputs": [],
   "source": [
    "average_user_rating"
   ],
   "metadata": {
    "collapsed": false,
    "pycharm": {
     "name": "#%%\n"
    }
   }
  },
  {
   "cell_type": "code",
   "execution_count": null,
   "outputs": [],
   "source": [
    "# Merge with orig df\n",
    "user_info_df = user_info_df.rename(columns={'User-ID': 'user'})\n",
    "print(user_info_df.head())\n",
    "user_info_df = user_info_df.join(number_of_ratings_by_user, on=\"user\")\n",
    "# user_info_df = user_info_df.join(average_user_rating, on=\"user\")\n",
    "# books = books.join(number_of_book_ratings, on=\"ISBN\")\n",
    "# books = books.join(average_book_rating, on=\"ISBN\")\n",
    "\n",
    "# users[\"N_ratings\"] = users[\"N_ratings\"].fillna(0)\n",
    "# books[\"N_ratings\"] = books[\"N_ratings\"].fillna(0)\n",
    "\n",
    "# users[\"N_ratings\"] = users[\"N_ratings\"].astype(\"int64\")\n",
    "# books[\"N_ratings\"] = books[\"N_ratings\"].astype(\"int64\")"
   ],
   "metadata": {
    "collapsed": false,
    "pycharm": {
     "name": "#%%\n"
    }
   }
  },
  {
   "cell_type": "code",
   "execution_count": null,
   "outputs": [],
   "source": [
    "user_info_df = user_info_df.join(average_user_rating, on=\"user\")\n"
   ],
   "metadata": {
    "collapsed": false,
    "pycharm": {
     "name": "#%%\n"
    }
   }
  },
  {
   "cell_type": "code",
   "execution_count": null,
   "outputs": [],
   "source": [
    "books = books.join(number_of_book_ratings, on=\"ISBN\")\n",
    "books = books.join(average_book_rating, on=\"ISBN\")\n"
   ],
   "metadata": {
    "collapsed": false,
    "pycharm": {
     "name": "#%%\n"
    }
   }
  },
  {
   "cell_type": "code",
   "execution_count": 553,
   "metadata": {},
   "outputs": [],
   "source": [
    "items_info_df = items_info_df.drop(items_info_df[items_info_df['Year-Of-Publication']=='Hutchinson'].index)\n",
    "items_info_df = items_info_df.drop(items_info_df[items_info_df['Year-Of-Publication']=='Baldini&amp Castoldi'].index)\n",
    "items_info_df = items_info_df.drop(items_info_df[items_info_df['Year-Of-Publication']=='http://images.amazon.com/images/P/0451404874.01.THUMBZZZ.jpg'].index)"
   ]
  },
  {
   "cell_type": "code",
   "execution_count": 554,
   "metadata": {},
   "outputs": [],
   "source": [
    "items_info_df[\"Book-Author\"] = items_info_df[\"Book-Author\"].apply(lambda x: x.strip())"
   ]
  },
  {
   "cell_type": "code",
   "execution_count": 555,
   "metadata": {},
   "outputs": [
    {
     "name": "stdout",
     "output_type": "stream",
     "text": [
      "[\"Carlo D'Este\" 'E. J. W. Barber' 'Robert Cowley' ... 'F. Engels'\n",
      " 'Essie Summers' 'Katherine Sherwood Bonner McDowell']\n"
     ]
    }
   ],
   "source": [
    "print(items_info_df[\"Book-Author\"].unique())"
   ]
  },
  {
   "cell_type": "code",
   "execution_count": 556,
   "metadata": {},
   "outputs": [
    {
     "name": "stdout",
     "output_type": "stream",
     "text": [
      "       Book_ID        ISBN                                         Book-Title  \\\n",
      "33          34  1414035004  The Adventures of Drew and Ellie: The Magical ...   \n",
      "2716      2717  1410798860  The Diary of Alice Mary: A Factual Childhood D...   \n",
      "4703      4704  140332557X  The Little Guide to Happiness: How to Smile Again   \n",
      "10080    10081  1410744310   Lost in the Rain II: Poetry and Quotes to Ponder   \n",
      "10290    10291  1588204030  $oft Money: The True Power in Our Nation's Cap...   \n",
      "11239    11240  1410716856                              Starlight, Starbright   \n",
      "11602    11603  141401354X                                  Ocean of the Dead   \n",
      "13198    13199  1410785971             The Story in the Little Brown Suitcase   \n",
      "\n",
      "                     Book-Author Year-Of-Publication         Publisher  \\\n",
      "33                Charles Noland                2003  1stBooks Library   \n",
      "2716    Alice Mary Connally Fisk                2003  1stBooks Library   \n",
      "4703       Michael Kevin Naselli                2001  1stBooks Library   \n",
      "10080            Glenda Schattie                2003  1stBooks Library   \n",
      "10290               E. L. Burton                2000  1stBooks Library   \n",
      "11239  Barbara Elliott Carpenter                2003  1stBooks Library   \n",
      "11602          M. J. Morrissette                2003  1stBooks Library   \n",
      "13198         Carol Lynn Caswell                2003  1stBooks Library   \n",
      "\n",
      "                                             Image-URL-S  \\\n",
      "33     http://images.amazon.com/images/P/1414035004.0...   \n",
      "2716   http://images.amazon.com/images/P/1410798860.0...   \n",
      "4703   http://images.amazon.com/images/P/140332557X.0...   \n",
      "10080  http://images.amazon.com/images/P/1410744310.0...   \n",
      "10290  http://images.amazon.com/images/P/1588204030.0...   \n",
      "11239  http://images.amazon.com/images/P/1410716856.0...   \n",
      "11602  http://images.amazon.com/images/P/141401354X.0...   \n",
      "13198  http://images.amazon.com/images/P/1410785971.0...   \n",
      "\n",
      "                                             Image-URL-M  \\\n",
      "33     http://images.amazon.com/images/P/1414035004.0...   \n",
      "2716   http://images.amazon.com/images/P/1410798860.0...   \n",
      "4703   http://images.amazon.com/images/P/140332557X.0...   \n",
      "10080  http://images.amazon.com/images/P/1410744310.0...   \n",
      "10290  http://images.amazon.com/images/P/1588204030.0...   \n",
      "11239  http://images.amazon.com/images/P/1410716856.0...   \n",
      "11602  http://images.amazon.com/images/P/141401354X.0...   \n",
      "13198  http://images.amazon.com/images/P/1410785971.0...   \n",
      "\n",
      "                                             Image-URL-L  \n",
      "33     http://images.amazon.com/images/P/1414035004.0...  \n",
      "2716   http://images.amazon.com/images/P/1410798860.0...  \n",
      "4703   http://images.amazon.com/images/P/140332557X.0...  \n",
      "10080  http://images.amazon.com/images/P/1410744310.0...  \n",
      "10290  http://images.amazon.com/images/P/1588204030.0...  \n",
      "11239  http://images.amazon.com/images/P/1410716856.0...  \n",
      "11602  http://images.amazon.com/images/P/141401354X.0...  \n",
      "13198  http://images.amazon.com/images/P/1410785971.0...  \n"
     ]
    }
   ],
   "source": [
    "print(items_info_df[items_info_df[\"Publisher\"]=='1stBooks Library'])"
   ]
  },
  {
   "cell_type": "markdown",
   "metadata": {},
   "source": [
    "## 3.3 EXPLORE with RATING INFO"
   ]
  },
  {
   "cell_type": "code",
   "execution_count": 557,
   "metadata": {},
   "outputs": [
    {
     "data": {
      "text/html": [
       "<div>\n",
       "<style scoped>\n",
       "    .dataframe tbody tr th:only-of-type {\n",
       "        vertical-align: middle;\n",
       "    }\n",
       "\n",
       "    .dataframe tbody tr th {\n",
       "        vertical-align: top;\n",
       "    }\n",
       "\n",
       "    .dataframe thead th {\n",
       "        text-align: right;\n",
       "    }\n",
       "</style>\n",
       "<table border=\"1\" class=\"dataframe\">\n",
       "  <thead>\n",
       "    <tr style=\"text-align: right;\">\n",
       "      <th></th>\n",
       "      <th>user</th>\n",
       "      <th>item</th>\n",
       "      <th>rating</th>\n",
       "    </tr>\n",
       "  </thead>\n",
       "  <tbody>\n",
       "    <tr>\n",
       "      <th>0</th>\n",
       "      <td>1</td>\n",
       "      <td>6264</td>\n",
       "      <td>7.0</td>\n",
       "    </tr>\n",
       "    <tr>\n",
       "      <th>1</th>\n",
       "      <td>1</td>\n",
       "      <td>4350</td>\n",
       "      <td>7.0</td>\n",
       "    </tr>\n",
       "    <tr>\n",
       "      <th>2</th>\n",
       "      <td>1</td>\n",
       "      <td>6252</td>\n",
       "      <td>5.0</td>\n",
       "    </tr>\n",
       "    <tr>\n",
       "      <th>3</th>\n",
       "      <td>1</td>\n",
       "      <td>202</td>\n",
       "      <td>9.0</td>\n",
       "    </tr>\n",
       "    <tr>\n",
       "      <th>4</th>\n",
       "      <td>1</td>\n",
       "      <td>6266</td>\n",
       "      <td>6.0</td>\n",
       "    </tr>\n",
       "  </tbody>\n",
       "</table>\n",
       "</div>"
      ],
      "text/plain": [
       "   user  item  rating\n",
       "0     1  6264     7.0\n",
       "1     1  4350     7.0\n",
       "2     1  6252     5.0\n",
       "3     1   202     9.0\n",
       "4     1  6266     6.0"
      ]
     },
     "execution_count": 557,
     "metadata": {},
     "output_type": "execute_result"
    }
   ],
   "source": [
    "book_rate_df.head()"
   ]
  },
  {
   "cell_type": "code",
   "execution_count": 558,
   "metadata": {},
   "outputs": [
    {
     "name": "stdout",
     "output_type": "stream",
     "text": [
      "               user          item        rating\n",
      "count  62656.000000  62656.000000  62656.000000\n",
      "mean    1458.705056   6106.118839      7.953700\n",
      "std      848.564252   4847.444402      1.717846\n",
      "min        1.000000      1.000000      1.000000\n",
      "25%      760.000000   1888.000000      7.000000\n",
      "50%     1398.000000   4977.000000      8.000000\n",
      "75%     2218.000000   9538.000000      9.000000\n",
      "max     2945.000000  17384.000000     10.000000\n"
     ]
    }
   ],
   "source": [
    "print(book_rate_df.describe())"
   ]
  },
  {
   "cell_type": "code",
   "execution_count": 559,
   "metadata": {},
   "outputs": [
    {
     "name": "stdout",
     "output_type": "stream",
     "text": [
      "<class 'pandas.core.frame.DataFrame'>\n",
      "RangeIndex: 62656 entries, 0 to 62655\n",
      "Data columns (total 3 columns):\n",
      " #   Column  Non-Null Count  Dtype  \n",
      "---  ------  --------------  -----  \n",
      " 0   user    62656 non-null  int64  \n",
      " 1   item    62656 non-null  int64  \n",
      " 2   rating  62656 non-null  float64\n",
      "dtypes: float64(1), int64(2)\n",
      "memory usage: 1.4 MB\n",
      "None\n"
     ]
    }
   ],
   "source": [
    "print(book_rate_df.info())"
   ]
  },
  {
   "cell_type": "code",
   "execution_count": 560,
   "metadata": {},
   "outputs": [
    {
     "name": "stdout",
     "output_type": "stream",
     "text": [
      "[ 7.  5.  9.  6.  8. 10.  4.  3.  1.  2.]\n"
     ]
    }
   ],
   "source": [
    "print(book_rate_df['rating'].unique())"
   ]
  },
  {
   "cell_type": "code",
   "execution_count": 561,
   "metadata": {},
   "outputs": [
    {
     "name": "stdout",
     "output_type": "stream",
     "text": [
      "rating\n",
      "8.0     15629\n",
      "10.0    13884\n",
      "9.0     12008\n",
      "7.0      9906\n",
      "5.0      5183\n",
      "6.0      4236\n",
      "4.0       859\n",
      "3.0       552\n",
      "2.0       239\n",
      "1.0       160\n",
      "Name: count, dtype: int64\n"
     ]
    }
   ],
   "source": [
    "print(book_rate_df['rating'].value_counts())"
   ]
  },
  {
   "cell_type": "code",
   "execution_count": 562,
   "metadata": {},
   "outputs": [],
   "source": [
    "user_group = book_rate_df.groupby(\"user\")\n",
    "item_group = book_rate_df.groupby(\"item\")\n",
    "\n",
    "\n",
    "average_user_rating = user_group[\"rating\"].mean()\n",
    "number_of_ratings_by_user = user_group[\"rating\"].count()\n",
    "average_book_rating = item_group[\"rating\"].mean()\n",
    "number_of_book_ratings = item_group[\"rating\"].count()\n",
    "\n",
    "average_user_rating.name = \"avg_rating\"\n",
    "number_of_ratings_by_user.name = \"N_ratings\"\n",
    "average_book_rating.name = \"avg_rating\"\n",
    "number_of_book_ratings.name = \"N_ratings\""
   ]
  },
  {
   "cell_type": "code",
   "execution_count": 563,
   "metadata": {},
   "outputs": [
    {
     "data": {
      "text/plain": [
       "user\n",
       "1        8.062500\n",
       "2        9.282051\n",
       "5        8.500000\n",
       "7        7.045455\n",
       "9        7.040000\n",
       "          ...    \n",
       "2937     8.662500\n",
       "2939    10.000000\n",
       "2942     7.250000\n",
       "2943     7.956522\n",
       "2945     7.166667\n",
       "Name: avg_rating, Length: 1295, dtype: float64"
      ]
     },
     "execution_count": 563,
     "metadata": {},
     "output_type": "execute_result"
    }
   ],
   "source": [
    "average_user_rating"
   ]
  },
  {
   "cell_type": "code",
   "execution_count": 564,
   "metadata": {},
   "outputs": [
    {
     "name": "stdout",
     "output_type": "stream",
     "text": [
      "   user                     Location  Age Country\n",
      "0     1  minneapolis, minnesota, usa   24     USA\n",
      "1     2   san diego, california, usa   20     USA\n",
      "2     3      novinger, missouri, usa   16     USA\n",
      "3     4      sonoma, california, usa   34     USA\n",
      "4     5    berkeley, california, usa   23     USA\n"
     ]
    }
   ],
   "source": [
    "# Merge with orig df\n",
    "user_info_df = user_info_df.rename(columns={'User-ID': 'user'})\n",
    "print(user_info_df.head())\n",
    "user_info_df = user_info_df.join(number_of_ratings_by_user, on=\"user\")\n",
    "# user_info_df = user_info_df.join(average_user_rating, on=\"user\")\n",
    "# books = books.join(number_of_book_ratings, on=\"ISBN\")\n",
    "# books = books.join(average_book_rating, on=\"ISBN\")\n",
    "\n",
    "# users[\"N_ratings\"] = users[\"N_ratings\"].fillna(0)\n",
    "# books[\"N_ratings\"] = books[\"N_ratings\"].fillna(0)\n",
    "\n",
    "# users[\"N_ratings\"] = users[\"N_ratings\"].astype(\"int64\")\n",
    "# books[\"N_ratings\"] = books[\"N_ratings\"].astype(\"int64\")"
   ]
  },
  {
   "cell_type": "code",
   "execution_count": 565,
   "metadata": {},
   "outputs": [],
   "source": [
    "user_info_df = user_info_df.join(average_user_rating, on=\"user\")\n"
   ]
  },
  {
   "cell_type": "code",
   "execution_count": null,
   "metadata": {},
   "outputs": [],
   "source": [
    "books = books.join(number_of_book_ratings, on=\"ISBN\")\n",
    "books = books.join(average_book_rating, on=\"ISBN\")\n"
   ]
  }
 ],
 "metadata": {
  "kernelspec": {
   "display_name": "Python 3 (ipykernel)",
   "language": "python",
   "name": "python3"
  },
  "language_info": {
   "codemirror_mode": {
    "name": "ipython",
    "version": 3
   },
   "file_extension": ".py",
   "mimetype": "text/x-python",
   "name": "python",
   "nbconvert_exporter": "python",
   "pygments_lexer": "ipython3",
   "version": "3.9.13"
  }
 },
 "nbformat": 4,
 "nbformat_minor": 1
}