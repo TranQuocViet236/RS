{
 "cells": [
  {
   "cell_type": "markdown",
   "metadata": {
    "pycharm": {
     "name": "#%% md\n"
    }
   },
   "source": [
    "# 1. Install and import require packages for EDA"
   ]
  },
  {
   "cell_type": "code",
   "execution_count": 2,
   "metadata": {
    "pycharm": {
     "is_executing": true,
     "name": "#%%\n"
    }
   },
   "outputs": [
    {
     "name": "stdout",
     "output_type": "stream",
     "text": [
      "Requirement already satisfied: pandas in c:\\users\\ad\\pycharmprojects\\rs\\venv\\lib\\site-packages (2.0.2)\n",
      "Requirement already satisfied: pytz>=2020.1 in c:\\users\\ad\\pycharmprojects\\rs\\venv\\lib\\site-packages (from pandas) (2023.3)\n",
      "Requirement already satisfied: tzdata>=2022.1 in c:\\users\\ad\\pycharmprojects\\rs\\venv\\lib\\site-packages (from pandas) (2023.3)\n",
      "Requirement already satisfied: numpy>=1.20.3 in c:\\users\\ad\\pycharmprojects\\rs\\venv\\lib\\site-packages (from pandas) (1.24.3)\n",
      "Requirement already satisfied: python-dateutil>=2.8.2 in c:\\users\\ad\\pycharmprojects\\rs\\venv\\lib\\site-packages (from pandas) (2.8.2)\n",
      "Requirement already satisfied: six>=1.5 in c:\\users\\ad\\pycharmprojects\\rs\\venv\\lib\\site-packages (from python-dateutil>=2.8.2->pandas) (1.16.0)\n"
     ]
    },
    {
     "name": "stderr",
     "output_type": "stream",
     "text": [
      "WARNING: You are using pip version 21.3.1; however, version 23.1.2 is available.\n",
      "You should consider upgrading via the 'C:\\Users\\ad\\PycharmProjects\\RS\\venv\\Scripts\\python.exe -m pip install --upgrade pip' command.\n"
     ]
    },
    {
     "name": "stdout",
     "output_type": "stream",
     "text": [
      "Requirement already satisfied: country_converter in c:\\users\\ad\\pycharmprojects\\rs\\venv\\lib\\site-packages (1.0.0)\n",
      "Requirement already satisfied: pandas>=1.0 in c:\\users\\ad\\pycharmprojects\\rs\\venv\\lib\\site-packages (from country_converter) (2.0.2)\n",
      "Requirement already satisfied: tzdata>=2022.1 in c:\\users\\ad\\pycharmprojects\\rs\\venv\\lib\\site-packages (from pandas>=1.0->country_converter) (2023.3)\n",
      "Requirement already satisfied: numpy>=1.20.3 in c:\\users\\ad\\pycharmprojects\\rs\\venv\\lib\\site-packages (from pandas>=1.0->country_converter) (1.24.3)\n",
      "Requirement already satisfied: pytz>=2020.1 in c:\\users\\ad\\pycharmprojects\\rs\\venv\\lib\\site-packages (from pandas>=1.0->country_converter) (2023.3)\n",
      "Requirement already satisfied: python-dateutil>=2.8.2 in c:\\users\\ad\\pycharmprojects\\rs\\venv\\lib\\site-packages (from pandas>=1.0->country_converter) (2.8.2)\n",
      "Requirement already satisfied: six>=1.5 in c:\\users\\ad\\pycharmprojects\\rs\\venv\\lib\\site-packages (from python-dateutil>=2.8.2->pandas>=1.0->country_converter) (1.16.0)\n"
     ]
    },
    {
     "name": "stderr",
     "output_type": "stream",
     "text": [
      "WARNING: You are using pip version 21.3.1; however, version 23.1.2 is available.\n",
      "You should consider upgrading via the 'C:\\Users\\ad\\PycharmProjects\\RS\\venv\\Scripts\\python.exe -m pip install --upgrade pip' command.\n"
     ]
    },
    {
     "name": "stdout",
     "output_type": "stream",
     "text": [
      "Requirement already satisfied: plotly in c:\\users\\ad\\pycharmprojects\\rs\\venv\\lib\\site-packages (5.15.0)\n",
      "Requirement already satisfied: packaging in c:\\users\\ad\\pycharmprojects\\rs\\venv\\lib\\site-packages (from plotly) (23.1)\n",
      "Requirement already satisfied: tenacity>=6.2.0 in c:\\users\\ad\\pycharmprojects\\rs\\venv\\lib\\site-packages (from plotly) (8.2.2)\n"
     ]
    },
    {
     "name": "stderr",
     "output_type": "stream",
     "text": [
      "WARNING: You are using pip version 21.3.1; however, version 23.1.2 is available.\n",
      "You should consider upgrading via the 'C:\\Users\\ad\\PycharmProjects\\RS\\venv\\Scripts\\python.exe -m pip install --upgrade pip' command.\n"
     ]
    },
    {
     "name": "stdout",
     "output_type": "stream",
     "text": [
      "Requirement already satisfied: matplotlib in c:\\users\\ad\\pycharmprojects\\rs\\venv\\lib\\site-packages (3.7.1)\n",
      "Requirement already satisfied: cycler>=0.10 in c:\\users\\ad\\pycharmprojects\\rs\\venv\\lib\\site-packages (from matplotlib) (0.11.0)\n",
      "Requirement already satisfied: numpy>=1.20 in c:\\users\\ad\\pycharmprojects\\rs\\venv\\lib\\site-packages (from matplotlib) (1.24.3)\n",
      "Requirement already satisfied: pyparsing>=2.3.1 in c:\\users\\ad\\pycharmprojects\\rs\\venv\\lib\\site-packages (from matplotlib) (3.0.9)\n",
      "Requirement already satisfied: contourpy>=1.0.1 in c:\\users\\ad\\pycharmprojects\\rs\\venv\\lib\\site-packages (from matplotlib) (1.0.7)\n",
      "Requirement already satisfied: fonttools>=4.22.0 in c:\\users\\ad\\pycharmprojects\\rs\\venv\\lib\\site-packages (from matplotlib) (4.39.4)\n",
      "Requirement already satisfied: kiwisolver>=1.0.1 in c:\\users\\ad\\pycharmprojects\\rs\\venv\\lib\\site-packages (from matplotlib) (1.4.4)\n",
      "Requirement already satisfied: importlib-resources>=3.2.0 in c:\\users\\ad\\pycharmprojects\\rs\\venv\\lib\\site-packages (from matplotlib) (5.12.0)\n",
      "Requirement already satisfied: packaging>=20.0 in c:\\users\\ad\\pycharmprojects\\rs\\venv\\lib\\site-packages (from matplotlib) (23.1)\n",
      "Requirement already satisfied: python-dateutil>=2.7 in c:\\users\\ad\\pycharmprojects\\rs\\venv\\lib\\site-packages (from matplotlib) (2.8.2)\n",
      "Requirement already satisfied: pillow>=6.2.0 in c:\\users\\ad\\pycharmprojects\\rs\\venv\\lib\\site-packages (from matplotlib) (9.5.0)\n",
      "Requirement already satisfied: zipp>=3.1.0 in c:\\users\\ad\\pycharmprojects\\rs\\venv\\lib\\site-packages (from importlib-resources>=3.2.0->matplotlib) (3.15.0)\n",
      "Requirement already satisfied: six>=1.5 in c:\\users\\ad\\pycharmprojects\\rs\\venv\\lib\\site-packages (from python-dateutil>=2.7->matplotlib) (1.16.0)\n"
     ]
    },
    {
     "name": "stderr",
     "output_type": "stream",
     "text": [
      "WARNING: You are using pip version 21.3.1; however, version 23.1.2 is available.\n",
      "You should consider upgrading via the 'C:\\Users\\ad\\PycharmProjects\\RS\\venv\\Scripts\\python.exe -m pip install --upgrade pip' command.\n"
     ]
    },
    {
     "name": "stdout",
     "output_type": "stream",
     "text": [
      "Requirement already satisfied: seaborn in c:\\users\\ad\\pycharmprojects\\rs\\venv\\lib\\site-packages (0.12.2)\n",
      "Requirement already satisfied: numpy!=1.24.0,>=1.17 in c:\\users\\ad\\pycharmprojects\\rs\\venv\\lib\\site-packages (from seaborn) (1.24.3)\n",
      "Requirement already satisfied: matplotlib!=3.6.1,>=3.1 in c:\\users\\ad\\pycharmprojects\\rs\\venv\\lib\\site-packages (from seaborn) (3.7.1)\n",
      "Requirement already satisfied: pandas>=0.25 in c:\\users\\ad\\pycharmprojects\\rs\\venv\\lib\\site-packages (from seaborn) (2.0.2)\n",
      "Requirement already satisfied: fonttools>=4.22.0 in c:\\users\\ad\\pycharmprojects\\rs\\venv\\lib\\site-packages (from matplotlib!=3.6.1,>=3.1->seaborn) (4.39.4)\n",
      "Requirement already satisfied: contourpy>=1.0.1 in c:\\users\\ad\\pycharmprojects\\rs\\venv\\lib\\site-packages (from matplotlib!=3.6.1,>=3.1->seaborn) (1.0.7)\n",
      "Requirement already satisfied: kiwisolver>=1.0.1 in c:\\users\\ad\\pycharmprojects\\rs\\venv\\lib\\site-packages (from matplotlib!=3.6.1,>=3.1->seaborn) (1.4.4)\n",
      "Requirement already satisfied: importlib-resources>=3.2.0 in c:\\users\\ad\\pycharmprojects\\rs\\venv\\lib\\site-packages (from matplotlib!=3.6.1,>=3.1->seaborn) (5.12.0)\n",
      "Requirement already satisfied: cycler>=0.10 in c:\\users\\ad\\pycharmprojects\\rs\\venv\\lib\\site-packages (from matplotlib!=3.6.1,>=3.1->seaborn) (0.11.0)\n",
      "Requirement already satisfied: pyparsing>=2.3.1 in c:\\users\\ad\\pycharmprojects\\rs\\venv\\lib\\site-packages (from matplotlib!=3.6.1,>=3.1->seaborn) (3.0.9)\n",
      "Requirement already satisfied: python-dateutil>=2.7 in c:\\users\\ad\\pycharmprojects\\rs\\venv\\lib\\site-packages (from matplotlib!=3.6.1,>=3.1->seaborn) (2.8.2)\n",
      "Requirement already satisfied: pillow>=6.2.0 in c:\\users\\ad\\pycharmprojects\\rs\\venv\\lib\\site-packages (from matplotlib!=3.6.1,>=3.1->seaborn) (9.5.0)\n",
      "Requirement already satisfied: packaging>=20.0 in c:\\users\\ad\\pycharmprojects\\rs\\venv\\lib\\site-packages (from matplotlib!=3.6.1,>=3.1->seaborn) (23.1)\n",
      "Requirement already satisfied: tzdata>=2022.1 in c:\\users\\ad\\pycharmprojects\\rs\\venv\\lib\\site-packages (from pandas>=0.25->seaborn) (2023.3)\n",
      "Requirement already satisfied: pytz>=2020.1 in c:\\users\\ad\\pycharmprojects\\rs\\venv\\lib\\site-packages (from pandas>=0.25->seaborn) (2023.3)\n",
      "Requirement already satisfied: zipp>=3.1.0 in c:\\users\\ad\\pycharmprojects\\rs\\venv\\lib\\site-packages (from importlib-resources>=3.2.0->matplotlib!=3.6.1,>=3.1->seaborn) (3.15.0)\n",
      "Requirement already satisfied: six>=1.5 in c:\\users\\ad\\pycharmprojects\\rs\\venv\\lib\\site-packages (from python-dateutil>=2.7->matplotlib!=3.6.1,>=3.1->seaborn) (1.16.0)\n"
     ]
    },
    {
     "name": "stderr",
     "output_type": "stream",
     "text": [
      "WARNING: You are using pip version 21.3.1; however, version 23.1.2 is available.\n",
      "You should consider upgrading via the 'C:\\Users\\ad\\PycharmProjects\\RS\\venv\\Scripts\\python.exe -m pip install --upgrade pip' command.\n"
     ]
    }
   ],
   "source": [
    "# install require packages\n",
    "!pip install pandas\n",
    "!pip install country_converter\n",
    "!pip install plotly\n",
    "!pip install matplotlib\n",
    "!pip install seaborn"
   ]
  },
  {
   "cell_type": "code",
   "execution_count": 3,
   "metadata": {
    "pycharm": {
     "name": "#%%\n"
    }
   },
   "outputs": [],
   "source": [
    "# import require packages\n",
    "\n",
    "import pandas as pd\n",
    "import numpy as np\n",
    "import country_converter as coco\n",
    "import plotly.express as px\n",
    "import matplotlib.pyplot as plt\n",
    "import seaborn as sns\n"
   ]
  },
  {
   "cell_type": "markdown",
   "metadata": {
    "pycharm": {
     "name": "#%% md\n"
    }
   },
   "source": [
    "# 2. Load dataset as dataframes"
   ]
  },
  {
   "cell_type": "code",
   "execution_count": 4,
   "metadata": {
    "pycharm": {
     "name": "#%%\n"
    }
   },
   "outputs": [],
   "source": [
    "# data paths\n",
    "book_hist_path = '../book_crossing/book_history.dat'\n",
    "book_rate_path = '../book_crossing/book_ratings.dat'\n",
    "items_info_path = '../book_crossing/items_info.dat'\n",
    "users_info_path = '../book_crossing/users_info.dat'"
   ]
  },
  {
   "cell_type": "code",
   "execution_count": 5,
   "metadata": {
    "pycharm": {
     "name": "#%%\n"
    }
   },
   "outputs": [
    {
     "name": "stdout",
     "output_type": "stream",
     "text": [
      "      0     1         2\n",
      "0  user  item  accessed\n",
      "1     1   152         1\n",
      "2     1   153         1\n",
      "3     1  2176         1\n",
      "4     1   154         1\n"
     ]
    }
   ],
   "source": [
    "book_hist_df = pd.read_csv(book_hist_path, delimiter='\\t', header=None, low_memory=False, na_values=np.nan)\n",
    "print(book_hist_df.head())"
   ]
  },
  {
   "cell_type": "code",
   "execution_count": null,
   "metadata": {
    "pycharm": {
     "name": "#%%\n"
    }
   },
   "outputs": [],
   "source": [
    "book_rate_df = pd.read_csv(book_rate_path, delimiter='\\t', low_memory=False)\n",
    "print(book_rate_df.head())"
   ]
  },
  {
   "cell_type": "markdown",
   "metadata": {
    "pycharm": {
     "name": "#%% md\n"
    }
   },
   "source": []
  },
  {
   "cell_type": "code",
   "execution_count": 6,
   "metadata": {
    "pycharm": {
     "name": "#%%\n"
    }
   },
   "outputs": [],
   "source": [
    "user_info_df = pd.read_csv(users_info_path, delimiter='\\t', index_col=None, na_values=np.nan)"
   ]
  },
  {
   "cell_type": "code",
   "execution_count": 7,
   "metadata": {
    "pycharm": {
     "name": "#%%\n"
    }
   },
   "outputs": [
    {
     "name": "stdout",
     "output_type": "stream",
     "text": [
      "Index(['User-ID', 'Location', 'Age'], dtype='object')\n"
     ]
    }
   ],
   "source": [
    "print(user_info_df.columns)"
   ]
  },
  {
   "cell_type": "code",
   "execution_count": 8,
   "metadata": {
    "pycharm": {
     "name": "#%%\n"
    }
   },
   "outputs": [
    {
     "data": {
      "text/html": [
       "<div>\n",
       "<style scoped>\n",
       "    .dataframe tbody tr th:only-of-type {\n",
       "        vertical-align: middle;\n",
       "    }\n",
       "\n",
       "    .dataframe tbody tr th {\n",
       "        vertical-align: top;\n",
       "    }\n",
       "\n",
       "    .dataframe thead th {\n",
       "        text-align: right;\n",
       "    }\n",
       "</style>\n",
       "<table border=\"1\" class=\"dataframe\">\n",
       "  <thead>\n",
       "    <tr style=\"text-align: right;\">\n",
       "      <th></th>\n",
       "      <th>User-ID</th>\n",
       "      <th>Location</th>\n",
       "      <th>Age</th>\n",
       "    </tr>\n",
       "  </thead>\n",
       "  <tbody>\n",
       "    <tr>\n",
       "      <th>0</th>\n",
       "      <td>1</td>\n",
       "      <td>minneapolis, minnesota, usa</td>\n",
       "      <td>24</td>\n",
       "    </tr>\n",
       "    <tr>\n",
       "      <th>1</th>\n",
       "      <td>2</td>\n",
       "      <td>san diego, california, usa</td>\n",
       "      <td>20</td>\n",
       "    </tr>\n",
       "    <tr>\n",
       "      <th>2</th>\n",
       "      <td>3</td>\n",
       "      <td>novinger, missouri, usa</td>\n",
       "      <td>16</td>\n",
       "    </tr>\n",
       "    <tr>\n",
       "      <th>3</th>\n",
       "      <td>4</td>\n",
       "      <td>sonoma, california, usa</td>\n",
       "      <td>34</td>\n",
       "    </tr>\n",
       "    <tr>\n",
       "      <th>4</th>\n",
       "      <td>5</td>\n",
       "      <td>berkeley, california, usa</td>\n",
       "      <td>23</td>\n",
       "    </tr>\n",
       "    <tr>\n",
       "      <th>5</th>\n",
       "      <td>6</td>\n",
       "      <td>king of prussia, ,</td>\n",
       "      <td>36</td>\n",
       "    </tr>\n",
       "    <tr>\n",
       "      <th>6</th>\n",
       "      <td>7</td>\n",
       "      <td>berkeley, ,</td>\n",
       "      <td>22</td>\n",
       "    </tr>\n",
       "    <tr>\n",
       "      <th>7</th>\n",
       "      <td>8</td>\n",
       "      <td>rennes, bretagne, france</td>\n",
       "      <td>22</td>\n",
       "    </tr>\n",
       "    <tr>\n",
       "      <th>8</th>\n",
       "      <td>9</td>\n",
       "      <td>st. louis, missouri, usa</td>\n",
       "      <td>36</td>\n",
       "    </tr>\n",
       "    <tr>\n",
       "      <th>9</th>\n",
       "      <td>10</td>\n",
       "      <td>minneapolis, minnesota, usa</td>\n",
       "      <td>26</td>\n",
       "    </tr>\n",
       "  </tbody>\n",
       "</table>\n",
       "</div>"
      ],
      "text/plain": [
       "   User-ID                     Location  Age\n",
       "0        1  minneapolis, minnesota, usa   24\n",
       "1        2   san diego, california, usa   20\n",
       "2        3      novinger, missouri, usa   16\n",
       "3        4      sonoma, california, usa   34\n",
       "4        5    berkeley, california, usa   23\n",
       "5        6           king of prussia, ,   36\n",
       "6        7                  berkeley, ,   22\n",
       "7        8     rennes, bretagne, france   22\n",
       "8        9     st. louis, missouri, usa   36\n",
       "9       10  minneapolis, minnesota, usa   26"
      ]
     },
     "execution_count": 8,
     "metadata": {},
     "output_type": "execute_result"
    }
   ],
   "source": [
    "user_info_df.head(10)"
   ]
  },
  {
   "cell_type": "code",
   "execution_count": null,
   "metadata": {
    "pycharm": {
     "name": "#%%\n"
    }
   },
   "outputs": [],
   "source": [
    "items_info_df = pd.read_csv(items_info_path, delimiter='\\t')\n",
    "\n",
    "print(items_info_df.head())"
   ]
  },
  {
   "cell_type": "code",
   "execution_count": null,
   "metadata": {
    "pycharm": {
     "name": "#%%\n"
    }
   },
   "outputs": [],
   "source": [
    "print(items_info_df.columns)"
   ]
  },
  {
   "cell_type": "markdown",
   "metadata": {
    "pycharm": {
     "name": "#%% md\n"
    }
   },
   "source": [
    "# 3. EDA"
   ]
  },
  {
   "cell_type": "markdown",
   "metadata": {
    "pycharm": {
     "name": "#%% md\n"
    }
   },
   "source": [
    "## 3.1  Exploring USER INFO"
   ]
  },
  {
   "cell_type": "code",
   "execution_count": null,
   "metadata": {
    "pycharm": {
     "name": "#%%\n"
    }
   },
   "outputs": [],
   "source": [
    "# get number of users\n",
    "print(user_info_df.shape)\n",
    "print(user_info_df.columns)\n",
    "print(user_info_df.head())"
   ]
  },
  {
   "cell_type": "markdown",
   "metadata": {
    "pycharm": {
     "name": "#%% md\n"
    }
   },
   "source": [
    "##### >> Total: 2946 users, each user has 3 attributes: 'User-ID', 'Location', 'Age'."
   ]
  },
  {
   "cell_type": "markdown",
   "metadata": {
    "pycharm": {
     "name": "#%% md\n"
    }
   },
   "source": [
    "#### 3.1.1. Explore Age from users info"
   ]
  },
  {
   "cell_type": "code",
   "execution_count": null,
   "metadata": {
    "pycharm": {
     "name": "#%%\n"
    }
   },
   "outputs": [],
   "source": [
    "# Show distribution of use's ages\n",
    "# count age\n",
    "user_counts = user_info_df['Age'].value_counts().sort_index()\n",
    "\n",
    "# get age and user count\n",
    "ages = user_counts.index.tolist()\n",
    "counts = user_counts.values.tolist()\n",
    "\n",
    "# Plot linechart\n",
    "plt.plot(ages, counts)\n",
    "\n",
    "# Set title, labels\n",
    "plt.title(\"Linechart show distribution of user's age\")\n",
    "plt.xlabel(\"Age\")\n",
    "plt.ylabel(\"Count\")\n",
    "\n",
    "plt.show()"
   ]
  },
  {
   "cell_type": "code",
   "execution_count": null,
   "metadata": {
    "pycharm": {
     "name": "#%%\n"
    }
   },
   "outputs": [],
   "source": [
    "# Print out age values\n",
    "print(sorted(user_info_df.Age.unique()))"
   ]
  },
  {
   "cell_type": "markdown",
   "metadata": {
    "pycharm": {
     "name": "#%% md\n"
    }
   },
   "source": [
    "##### >> 'Age' columns no have any null values, and have some value very high, more than 100."
   ]
  },
  {
   "cell_type": "markdown",
   "metadata": {
    "pycharm": {
     "name": "#%% md\n"
    }
   },
   "source": [
    "##### // As we see, people who are less than 5 years old or more than 90 years old usually can't rate books much, so in this case we will replace them with nan values."
   ]
  },
  {
   "cell_type": "code",
   "execution_count": null,
   "metadata": {
    "pycharm": {
     "name": "#%%\n"
    }
   },
   "outputs": [],
   "source": [
    "user_info_df.loc[(user_info_df.Age > 90) | (user_info_df.Age < 5), 'Age'] = np.nan"
   ]
  },
  {
   "cell_type": "code",
   "execution_count": null,
   "metadata": {
    "pycharm": {
     "name": "#%%\n"
    }
   },
   "outputs": [],
   "source": [
    "print(user_info_df[(user_info_df.Age > 90) | (user_info_df.Age < 5)])"
   ]
  },
  {
   "cell_type": "code",
   "execution_count": null,
   "metadata": {
    "pycharm": {
     "name": "#%%\n"
    }
   },
   "outputs": [],
   "source": [
    "print(user_info_df[user_info_df['Age'] == np.nan])"
   ]
  },
  {
   "cell_type": "markdown",
   "metadata": {
    "pycharm": {
     "name": "#%% md\n"
    }
   },
   "source": [
    "##### Replace nan values in Age column with mean()"
   ]
  },
  {
   "cell_type": "code",
   "execution_count": null,
   "metadata": {
    "pycharm": {
     "name": "#%%\n"
    }
   },
   "outputs": [],
   "source": [
    "user_info_df['Age'] = user_info_df['Age'].fillna(user_info_df['Age'].mean())"
   ]
  },
  {
   "cell_type": "code",
   "execution_count": null,
   "metadata": {
    "pycharm": {
     "name": "#%%\n"
    }
   },
   "outputs": [],
   "source": [
    "user_info_df.head()"
   ]
  },
  {
   "cell_type": "code",
   "execution_count": null,
   "metadata": {
    "pycharm": {
     "name": "#%%\n"
    }
   },
   "outputs": [],
   "source": [
    "# convert type 'Age' to integer\n",
    "user_info_df['Age'] = user_info_df['Age'].astype(int)"
   ]
  },
  {
   "cell_type": "code",
   "execution_count": null,
   "metadata": {
    "pycharm": {
     "name": "#%%\n"
    }
   },
   "outputs": [],
   "source": [
    "user_info_df.head()"
   ]
  },
  {
   "cell_type": "markdown",
   "metadata": {
    "pycharm": {
     "name": "#%% md\n"
    }
   },
   "source": [
    "#### 3.1.2. Explore User's Location"
   ]
  },
  {
   "cell_type": "code",
   "execution_count": null,
   "metadata": {
    "pycharm": {
     "name": "#%%\n"
    }
   },
   "outputs": [],
   "source": [
    "# explore countries from location\n",
    "countries = []\n",
    "user_info_df['Country'] = user_info_df['Location'].apply(lambda x: x.split(',')[-1])\n",
    "# countries.append(add[-1] for add in addresses)"
   ]
  },
  {
   "cell_type": "code",
   "execution_count": null,
   "metadata": {
    "pycharm": {
     "name": "#%%\n"
    }
   },
   "outputs": [],
   "source": [
    "print(user_info_df.head())"
   ]
  },
  {
   "cell_type": "code",
   "execution_count": null,
   "metadata": {
    "pycharm": {
     "name": "#%%\n"
    }
   },
   "outputs": [],
   "source": [
    "# print out all location from all users\n",
    "locations = sorted(user_info_df.Location.unique())\n",
    "countries = sorted(user_info_df.Country.unique())\n",
    "\n",
    "print(f'We have total: {len(locations)} locations')\n",
    "print(f'We have total: {len(countries)} countries')"
   ]
  },
  {
   "cell_type": "markdown",
   "metadata": {
    "pycharm": {
     "name": "#%% md\n"
    }
   },
   "source": [
    "##### >> So, we have 1799 unique locations from 2946 users in dataset"
   ]
  },
  {
   "cell_type": "code",
   "execution_count": null,
   "metadata": {
    "pycharm": {
     "name": "#%%\n"
    }
   },
   "outputs": [],
   "source": [
    "print(user_info_df['Country'].value_counts())"
   ]
  },
  {
   "cell_type": "markdown",
   "metadata": {
    "pycharm": {
     "name": "#%% md\n"
    }
   },
   "source": [
    "#### As we see, top 3 countries has most book reviewers: usa (2128), canada (284), united kingdom(113)."
   ]
  },
  {
   "cell_type": "code",
   "execution_count": null,
   "metadata": {
    "pycharm": {
     "name": "#%%\n"
    }
   },
   "outputs": [],
   "source": [
    "print(user_info_df[user_info_df['Country']==''])"
   ]
  },
  {
   "cell_type": "markdown",
   "metadata": {
    "pycharm": {
     "name": "#%% md\n"
    }
   },
   "source": [
    "##### And has 72 people who we miss about their country name"
   ]
  },
  {
   "cell_type": "code",
   "execution_count": null,
   "metadata": {
    "pycharm": {
     "name": "#%%\n"
    }
   },
   "outputs": [],
   "source": [
    "converted_country=coco.convert(names=user_info_df[\"Country\"], to=\"ISO3\")\n",
    "user_info_df[\"Country\"]=converted_country"
   ]
  },
  {
   "cell_type": "code",
   "execution_count": null,
   "metadata": {
    "pycharm": {
     "name": "#%%\n"
    }
   },
   "outputs": [],
   "source": [
    "\n",
    "user_info_df['Country'].loc[user_info_df['Country']=='not found'] = 'USA'\n",
    "\n",
    "country=user_info_df[\"Country\"].value_counts()\n",
    "\n",
    "fig=px.choropleth(locations=country.index,\n",
    "                  color=country.values,\n",
    "                  color_continuous_scale=px.colors.sequential.dense,\n",
    "                  template='plotly_dark',\n",
    "                  title='Distribution of users by countries')\n",
    "\n",
    "fig.update_layout(font=dict(size=17, family=\"Franklin Gothic\"))\n",
    "fig.show()"
   ]
  },
  {
   "cell_type": "code",
   "execution_count": null,
   "metadata": {
    "pycharm": {
     "name": "#%%\n"
    }
   },
   "outputs": [],
   "source": [
    "\n",
    "user_info_df['Country'].loc[user_info_df['Country']=='not found'] = 'USA'\n",
    "\n",
    "country=user_info_df[\"Country\"].value_counts()\n",
    "\n",
    "fig=px.choropleth(locations=country.index,\n",
    "                  color=country.values,\n",
    "                  color_continuous_scale=px.colors.sequential.dense,\n",
    "                  template='plotly_dark',\n",
    "                  title='Distribution of users by countries')\n",
    "\n",
    "fig.update_layout(font=dict(size=17, family=\"Franklin Gothic\"))\n",
    "fig.show()"
   ]
  },
  {
   "cell_type": "code",
   "execution_count": null,
   "metadata": {
    "pycharm": {
     "name": "#%%\n"
    }
   },
   "outputs": [],
   "source": [
    "user_info_df\n",
    "print(user_info_df['Country'].value_counts())"
   ]
  },
  {
   "cell_type": "markdown",
   "metadata": {
    "pycharm": {
     "name": "#%% md\n"
    }
   },
   "source": [
    "##  3.2  Explore ITEM INFO"
   ]
  },
  {
   "cell_type": "code",
   "execution_count": null,
   "metadata": {
    "pycharm": {
     "name": "#%%\n"
    }
   },
   "outputs": [],
   "source": [
    "print(items_info_df.head())"
   ]
  },
  {
   "cell_type": "code",
   "execution_count": null,
   "metadata": {
    "pycharm": {
     "name": "#%%\n"
    }
   },
   "outputs": [],
   "source": [
    "# describe item info df\n",
    "items_info_df.describe()"
   ]
  },
  {
   "cell_type": "code",
   "execution_count": null,
   "metadata": {
    "pycharm": {
     "name": "#%%\n"
    }
   },
   "outputs": [],
   "source": [
    "items_info_df.info()"
   ]
  },
  {
   "cell_type": "code",
   "execution_count": null,
   "metadata": {
    "pycharm": {
     "name": "#%%\n"
    }
   },
   "outputs": [],
   "source": [
    "# check null values in item info\n",
    "items_info_df.isnull().sum()"
   ]
  },
  {
   "cell_type": "code",
   "execution_count": null,
   "metadata": {
    "pycharm": {
     "name": "#%%\n"
    }
   },
   "outputs": [],
   "source": [
    "# check null values in item info\n",
    "items_info_df.isnull().sum()"
   ]
  },
  {
   "cell_type": "code",
   "execution_count": null,
   "metadata": {
    "pycharm": {
     "name": "#%%\n"
    }
   },
   "outputs": [],
   "source": [
    "# # convert 'Year-Of-Publication' values to numeric, if cannnot convert, this value cell will be np.nan\n",
    "# items_info_df['Year-Of-Publication'] = pd.to_numeric(df['Year-Of-Publication'], errors='coerce')"
   ]
  },
  {
   "cell_type": "code",
   "execution_count": null,
   "metadata": {
    "pycharm": {
     "name": "#%%\n"
    }
   },
   "outputs": [],
   "source": [
    "items_info_df"
   ]
  },
  {
   "cell_type": "code",
   "execution_count": null,
   "metadata": {
    "pycharm": {
     "name": "#%%\n"
    }
   },
   "outputs": [],
   "source": [
    "book_title_df = pd.DataFrame(items_info_df[\"Book-Title\"].value_counts())"
   ]
  },
  {
   "cell_type": "code",
   "execution_count": null,
   "metadata": {
    "pycharm": {
     "name": "#%%\n"
    }
   },
   "outputs": [],
   "source": [
    "# top 5 book's title\n",
    "book_title_df.head()"
   ]
  },
  {
   "cell_type": "code",
   "execution_count": null,
   "metadata": {
    "pycharm": {
     "name": "#%%\n"
    }
   },
   "outputs": [],
   "source": [
    "def plot_top_values(df, column, title, x_label, y_label, top=20, template = 'plotly_dark'):\n",
    "    \n",
    "    pl = df[column].value_counts().head(top)\n",
    "    fig = px.bar(y=pl.values, \n",
    "                 x=pl.index, \n",
    "                 color_discrete_sequence=px.colors.sequential.PuBuGn,\n",
    "                 text=pl.values,\n",
    "                 title= title,\n",
    "                 template= template)\n",
    "    fig.update_layout(\n",
    "        xaxis_title=x_label,\n",
    "        yaxis_title=y_label,\n",
    "        font = dict(size=15,family=\"Franklin Gothic\"))\n",
    "    fig.show()"
   ]
  },
  {
   "cell_type": "code",
   "execution_count": null,
   "metadata": {
    "pycharm": {
     "name": "#%%\n"
    }
   },
   "outputs": [],
   "source": [
    "plot_top_values(items_info_df, 'Year-Of-Publication', 'Top 20 years in which books were published in terms of count', \"Year\", \"Count\")"
   ]
  },
  {
   "cell_type": "code",
   "execution_count": null,
   "metadata": {
    "pycharm": {
     "name": "#%%\n"
    }
   },
   "outputs": [],
   "source": [
    "# as we see, number of books were published increasing every year"
   ]
  },
  {
   "cell_type": "code",
   "execution_count": null,
   "metadata": {
    "pycharm": {
     "name": "#%%\n"
    }
   },
   "outputs": [],
   "source": [
    "print(items_info_df['Year-Of-Publication'].unique())"
   ]
  },
  {
   "cell_type": "code",
   "execution_count": null,
   "metadata": {
    "pycharm": {
     "name": "#%%\n"
    }
   },
   "outputs": [],
   "source": [
    "print(items_info_df[items_info_df['Year-Of-Publication']=='Hutchinson'].index)\n",
    "print(items_info_df[items_info_df['Year-Of-Publication']=='Baldini&amp Castoldi'].index)\n",
    "print(items_info_df[items_info_df['Year-Of-Publication']=='Bantam Book'].index)\n",
    "print(items_info_df[items_info_df['Year-Of-Publication']=='http://images.amazon.com/images/P/0451404874.01.THUMBZZZ.jpg'].index)"
   ]
  },
  {
   "cell_type": "code",
   "execution_count": null,
   "metadata": {
    "pycharm": {
     "name": "#%%\n"
    }
   },
   "outputs": [],
   "source": [
    "items_info_df = items_info_df.drop(items_info_df[items_info_df['Year-Of-Publication']=='Hutchinson'].index)\n",
    "items_info_df = items_info_df.drop(items_info_df[items_info_df['Year-Of-Publication']=='Baldini&amp Castoldi'].index)\n",
    "items_info_df = items_info_df.drop(items_info_df[items_info_df['Year-Of-Publication']=='http://images.amazon.com/images/P/0451404874.01.THUMBZZZ.jpg'].index)"
   ]
  },
  {
   "cell_type": "code",
   "execution_count": null,
   "metadata": {
    "pycharm": {
     "name": "#%%\n"
    }
   },
   "outputs": [],
   "source": [
    "items_info_df[\"Book-Author\"] = items_info_df[\"Book-Author\"].apply(lambda x: x.strip())"
   ]
  },
  {
   "cell_type": "code",
   "execution_count": null,
   "metadata": {
    "pycharm": {
     "name": "#%%\n"
    }
   },
   "outputs": [],
   "source": [
    "print(items_info_df[\"Book-Author\"].unique())"
   ]
  },
  {
   "cell_type": "code",
   "execution_count": null,
   "metadata": {
    "pycharm": {
     "name": "#%%\n"
    }
   },
   "outputs": [],
   "source": [
    "print(items_info_df[items_info_df[\"Publisher\"]=='1stBooks Library'])"
   ]
  },
  {
   "cell_type": "markdown",
   "metadata": {
    "pycharm": {
     "name": "#%% md\n"
    }
   },
   "source": [
    "## 3.3 EXPLORE with RATING INFO"
   ]
  },
  {
   "cell_type": "code",
   "execution_count": null,
   "metadata": {
    "pycharm": {
     "name": "#%%\n"
    }
   },
   "outputs": [],
   "source": [
    "book_rate_df.head()"
   ]
  },
  {
   "cell_type": "code",
   "execution_count": null,
   "metadata": {
    "pycharm": {
     "name": "#%%\n"
    }
   },
   "outputs": [],
   "source": [
    "print(book_rate_df.describe())"
   ]
  },
  {
   "cell_type": "code",
   "execution_count": null,
   "metadata": {
    "pycharm": {
     "name": "#%%\n"
    }
   },
   "outputs": [],
   "source": [
    "print(book_rate_df.info())"
   ]
  },
  {
   "cell_type": "code",
   "execution_count": null,
   "metadata": {
    "pycharm": {
     "name": "#%%\n"
    }
   },
   "outputs": [],
   "source": [
    "print(book_rate_df['rating'].unique())"
   ]
  },
  {
   "cell_type": "code",
   "execution_count": null,
   "metadata": {
    "pycharm": {
     "name": "#%%\n"
    }
   },
   "outputs": [],
   "source": [
    "print(book_rate_df['rating'].value_counts())"
   ]
  },
  {
   "cell_type": "code",
   "execution_count": null,
   "metadata": {
    "pycharm": {
     "name": "#%%\n"
    }
   },
   "outputs": [],
   "source": [
    "# Distritution of ratings\n",
    "palette = sns.color_palette(\"RdBu\", 10)\n",
    "\n",
    "fig, ax = plt.subplots(figsize=(10, 6))\n",
    "sns.countplot(x='rating', data=book_rate_df, palette=palette)\n",
    "ax.set_title('Distribution of book ratings')\n",
    "\n",
    "plt.show()"
   ]
  },
  {
   "cell_type": "code",
   "execution_count": null,
   "metadata": {
    "pycharm": {
     "name": "#%%\n"
    }
   },
   "outputs": [],
   "source": [
    "book_rate_df = book_rate_df.rename(columns={'user': 'User-ID',\n",
    "                                                      'item': 'Book-ID'})\n",
    "items_info_df = items_info_df.rename(columns={'Book_ID': 'Book-ID'})\n",
    "\n",
    "user_group = book_rate_df.groupby(\"User-ID\")\n",
    "item_group = book_rate_df.groupby(\"Book-ID\")\n",
    "\n",
    "\n",
    "average_user_rating = user_group[\"rating\"].mean()\n",
    "number_of_ratings_by_user = user_group[\"rating\"].count()\n",
    "average_book_rating = item_group[\"rating\"].mean()\n",
    "number_of_book_ratings = item_group[\"rating\"].count()\n",
    "\n",
    "average_user_rating.name = \"avg_rating\"\n",
    "number_of_ratings_by_user.name = \"n_ratings\"\n",
    "average_book_rating.name = \"avg_rating\"\n",
    "number_of_book_ratings.name = \"n_ratings\""
   ]
  },
  {
   "cell_type": "code",
   "execution_count": null,
   "metadata": {
    "pycharm": {
     "name": "#%%\n"
    }
   },
   "outputs": [],
   "source": [
    "average_user_rating"
   ]
  },
  {
   "cell_type": "code",
   "execution_count": null,
   "metadata": {
    "pycharm": {
     "name": "#%%\n"
    }
   },
   "outputs": [],
   "source": [
    "# join ratings info with users info and items info\n",
    "user_info_df = user_info_df.join(number_of_ratings_by_user, on=\"User-ID\")\n",
    "user_info_df = user_info_df.join(average_user_rating, on=\"User-ID\")\n",
    "\n",
    "items_info_df = items_info_df.join(number_of_book_ratings, on=\"Book-ID\")\n",
    "items_info_df = items_info_df.join(average_book_rating, on=\"Book-ID\")\n",
    "\n",
    "# fill na values of number rating with zero\n",
    "user_info_df[\"n_ratings\"] = user_info_df[\"n_ratings\"].fillna(0)\n",
    "items_info_df[\"n_ratings\"] = items_info_df[\"n_ratings\"].fillna(0)\n",
    "\n",
    "# convert to integer\n",
    "user_info_df[\"n_ratings\"] = user_info_df[\"n_ratings\"].astype(int)\n",
    "items_info_df[\"n_ratings\"] = items_info_df[\"n_ratings\"].astype(int)"
   ]
  },
  {
   "cell_type": "code",
   "execution_count": null,
   "metadata": {
    "pycharm": {
     "name": "#%%\n"
    }
   },
   "outputs": [],
   "source": [
    "user_info_df.head()"
   ]
  },
  {
   "cell_type": "code",
   "execution_count": null,
   "metadata": {
    "pycharm": {
     "name": "#%%\n"
    }
   },
   "outputs": [],
   "source": [
    "items_info_df.head()"
   ]
  },
  {
   "cell_type": "code",
   "execution_count": null,
   "metadata": {
    "pycharm": {
     "name": "#%%\n"
    }
   },
   "outputs": [],
   "source": [
    "def draw_top_chart(data, x, y_list, title):\n",
    "    fig, ax1 = plt.subplots(figsize=(14, 6))\n",
    "    plt.xticks(rotation=90)\n",
    "\n",
    "    palette = sns.color_palette(\"RdBu\", len(data))\n",
    "\n",
    "    sns.barplot(x=x, y=y_list[0], data=data, palette=palette, ax=ax1)\n",
    "    ax1.set_title(title)\n",
    "\n",
    "    ax2 = ax1.twinx()\n",
    "    sns.scatterplot(x=x, y=y_list[1], data=data, color='black', ax=ax2)\n",
    "\n",
    "    plt.show()"
   ]
  },
  {
   "cell_type": "code",
   "execution_count": null,
   "metadata": {
    "pycharm": {
     "name": "#%%\n"
    }
   },
   "outputs": [],
   "source": [
    "titles_top_rated = items_info_df.sort_values('avg_rating', ascending=False)\n",
    "titles_top_rated = titles_top_rated[titles_top_rated['n_ratings']>=50].head(20)\n",
    "\n",
    "draw_top_chart(titles_top_rated, 'Book-Title', ['n_ratings', 'avg_rating'], 'Average rating and number of ratings of top rated books')"
   ]
  },
  {
   "cell_type": "code",
   "execution_count": null,
   "metadata": {
    "pycharm": {
     "name": "#%%\n"
    }
   },
   "outputs": [],
   "source": [
    "authors_top_popular = items_info_df.sort_values('n_ratings', ascending=False).head(20)\n",
    "draw_top_chart(authors_top_popular, 'Book-Author', ['avg_rating', 'n_ratings'], 'Average rating and number of ratings of the most popular authors')"
   ]
  }
 ],
 "metadata": {
  "kernelspec": {
   "display_name": "Python 3 (ipykernel)",
   "language": "python",
   "name": "python3"
  },
  "language_info": {
   "codemirror_mode": {
    "name": "ipython",
    "version": 3
   },
   "file_extension": ".py",
   "mimetype": "text/x-python",
   "name": "python",
   "nbconvert_exporter": "python",
   "pygments_lexer": "ipython3",
   "version": "3.9.13"
  }
 },
 "nbformat": 4,
 "nbformat_minor": 1
}